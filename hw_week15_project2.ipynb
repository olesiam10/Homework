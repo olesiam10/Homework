{
 "cells": [
  {
   "cell_type": "code",
   "execution_count": 2,
   "metadata": {},
   "outputs": [],
   "source": [
    "import matplotlib.pyplot as plt\n",
    "import pandas as pd\n",
    "import numpy as np\n",
    "import requests\n",
    "import time\n",
    "from pprint import pprint\n",
    "\n",
    "# Import API key\n",
    "import api_keys"
   ]
  },
  {
   "cell_type": "code",
   "execution_count": 3,
   "metadata": {},
   "outputs": [],
   "source": [
    "project_key = api_keys.data_key\n",
    "base_url = \"https://api.usa.gov/crime/fbi/sapi/api/participation/national?api_key=\" + project_key\n",
    "req = requests.get(base_url).json()\n",
    "#print(req)"
   ]
  },
  {
   "cell_type": "code",
   "execution_count": 4,
   "metadata": {},
   "outputs": [],
   "source": [
    "fbi=list(req.values())"
   ]
  },
  {
   "cell_type": "code",
   "execution_count": 5,
   "metadata": {},
   "outputs": [],
   "source": [
    "fbi_data = {\"data_year\":[],\n",
    "        \"population\":[],\n",
    "        \"total_agency_count\" : [],\n",
    "        \"published_agency_count\" : [],\n",
    "        \"active_agency_count\" : [],\n",
    "        \"covered_agency_count\" : [],\n",
    "        \"population_covered\" : [],\n",
    "        \"agency_count_nibrs_submitting\" : [],\n",
    "        \"agency_count_leoka_submitting\" : [],\n",
    "        \"agency_count_pe_submitting\" : [],\n",
    "        \"agency_count_srs_submitting\" : [],\n",
    "        \"agency_count_asr_submitting\" : [],\n",
    "        \"agency_count_hc_submitting\" : [],\n",
    "        \"agency_count_supp_submitting\" : [],\n",
    "        \"nibrs_population_covered\" : [],\n",
    "        \"total_population\" : []}\n",
    "\n",
    "for i in fbi[0]:\n",
    "    fbi_data[\"data_year\"].append(i['data_year'])\n",
    "    fbi_data[\"population\"].append(i['population'])\n",
    "    fbi_data[\"total_agency_count\"].append(i['total_agency_count'])\n",
    "    fbi_data[\"published_agency_count\"].append(i['published_agency_count'])\n",
    "    fbi_data[\"active_agency_count\"].append(i['active_agency_count'])\n",
    "    fbi_data[\"covered_agency_count\"].append(i['covered_agency_count'])\n",
    "    fbi_data[\"population_covered\"].append(i['population_covered'])\n",
    "    fbi_data[\"agency_count_nibrs_submitting\"].append(i['agency_count_nibrs_submitting'])\n",
    "    fbi_data[\"agency_count_leoka_submitting\"].append(i['agency_count_leoka_submitting'])\n",
    "    fbi_data[\"agency_count_pe_submitting\"].append(i['agency_count_pe_submitting'])\n",
    "    fbi_data[\"agency_count_srs_submitting\"].append(i['agency_count_srs_submitting'])\n",
    "    fbi_data[\"agency_count_asr_submitting\"].append(i['agency_count_asr_submitting'])\n",
    "    fbi_data[\"agency_count_hc_submitting\"].append(i['agency_count_hc_submitting'])\n",
    "    fbi_data[\"agency_count_supp_submitting\"].append(i['agency_count_supp_submitting'])\n",
    "    fbi_data[\"nibrs_population_covered\"].append(i['nibrs_population_covered'])\n",
    "    fbi_data[\"total_population\"].append(i['total_population'])"
   ]
  },
  {
   "cell_type": "code",
   "execution_count": 6,
   "metadata": {},
   "outputs": [
    {
     "data": {
      "text/html": [
       "<div>\n",
       "<style scoped>\n",
       "    .dataframe tbody tr th:only-of-type {\n",
       "        vertical-align: middle;\n",
       "    }\n",
       "\n",
       "    .dataframe tbody tr th {\n",
       "        vertical-align: top;\n",
       "    }\n",
       "\n",
       "    .dataframe thead th {\n",
       "        text-align: right;\n",
       "    }\n",
       "</style>\n",
       "<table border=\"1\" class=\"dataframe\">\n",
       "  <thead>\n",
       "    <tr style=\"text-align: right;\">\n",
       "      <th></th>\n",
       "      <th>data_year</th>\n",
       "      <th>population</th>\n",
       "      <th>total_agency_count</th>\n",
       "      <th>published_agency_count</th>\n",
       "      <th>active_agency_count</th>\n",
       "      <th>covered_agency_count</th>\n",
       "      <th>population_covered</th>\n",
       "      <th>agency_count_nibrs_submitting</th>\n",
       "      <th>agency_count_leoka_submitting</th>\n",
       "      <th>agency_count_pe_submitting</th>\n",
       "      <th>agency_count_srs_submitting</th>\n",
       "      <th>agency_count_asr_submitting</th>\n",
       "      <th>agency_count_hc_submitting</th>\n",
       "      <th>agency_count_supp_submitting</th>\n",
       "      <th>nibrs_population_covered</th>\n",
       "      <th>total_population</th>\n",
       "    </tr>\n",
       "  </thead>\n",
       "  <tbody>\n",
       "    <tr>\n",
       "      <th>0</th>\n",
       "      <td>2019</td>\n",
       "      <td>337556149</td>\n",
       "      <td>18671</td>\n",
       "      <td>14993</td>\n",
       "      <td>22021</td>\n",
       "      <td>16</td>\n",
       "      <td>18660</td>\n",
       "      <td>8536</td>\n",
       "      <td>8356</td>\n",
       "      <td>15004</td>\n",
       "      <td>7786</td>\n",
       "      <td>11788</td>\n",
       "      <td>15520</td>\n",
       "      <td>15643</td>\n",
       "      <td>146950904</td>\n",
       "      <td>337556149</td>\n",
       "    </tr>\n",
       "    <tr>\n",
       "      <th>1</th>\n",
       "      <td>2018</td>\n",
       "      <td>336536616</td>\n",
       "      <td>18560</td>\n",
       "      <td>15236</td>\n",
       "      <td>21896</td>\n",
       "      <td>39</td>\n",
       "      <td>18737</td>\n",
       "      <td>7777</td>\n",
       "      <td>7122</td>\n",
       "      <td>15247</td>\n",
       "      <td>8200</td>\n",
       "      <td>13057</td>\n",
       "      <td>16107</td>\n",
       "      <td>15615</td>\n",
       "      <td>129148182</td>\n",
       "      <td>336536616</td>\n",
       "    </tr>\n",
       "    <tr>\n",
       "      <th>2</th>\n",
       "      <td>2017</td>\n",
       "      <td>335231625</td>\n",
       "      <td>18448</td>\n",
       "      <td>16393</td>\n",
       "      <td>21764</td>\n",
       "      <td>29</td>\n",
       "      <td>51097</td>\n",
       "      <td>7148</td>\n",
       "      <td>6680</td>\n",
       "      <td>16399</td>\n",
       "      <td>9381</td>\n",
       "      <td>13684</td>\n",
       "      <td>16285</td>\n",
       "      <td>15578</td>\n",
       "      <td>109218573</td>\n",
       "      <td>335231625</td>\n",
       "    </tr>\n",
       "    <tr>\n",
       "      <th>3</th>\n",
       "      <td>2016</td>\n",
       "      <td>329242793</td>\n",
       "      <td>18466</td>\n",
       "      <td>16921</td>\n",
       "      <td>21625</td>\n",
       "      <td>28</td>\n",
       "      <td>111631</td>\n",
       "      <td>7083</td>\n",
       "      <td>6388</td>\n",
       "      <td>16927</td>\n",
       "      <td>9986</td>\n",
       "      <td>13661</td>\n",
       "      <td>15940</td>\n",
       "      <td>15785</td>\n",
       "      <td>105287171</td>\n",
       "      <td>329242793</td>\n",
       "    </tr>\n",
       "    <tr>\n",
       "      <th>4</th>\n",
       "      <td>2015</td>\n",
       "      <td>327511036</td>\n",
       "      <td>18435</td>\n",
       "      <td>16813</td>\n",
       "      <td>21551</td>\n",
       "      <td>20</td>\n",
       "      <td>40665</td>\n",
       "      <td>6823</td>\n",
       "      <td>6223</td>\n",
       "      <td>16815</td>\n",
       "      <td>10102</td>\n",
       "      <td>13434</td>\n",
       "      <td>15096</td>\n",
       "      <td>15655</td>\n",
       "      <td>99789318</td>\n",
       "      <td>327511036</td>\n",
       "    </tr>\n",
       "  </tbody>\n",
       "</table>\n",
       "</div>"
      ],
      "text/plain": [
       "   data_year  population  total_agency_count  published_agency_count  \\\n",
       "0       2019   337556149               18671                   14993   \n",
       "1       2018   336536616               18560                   15236   \n",
       "2       2017   335231625               18448                   16393   \n",
       "3       2016   329242793               18466                   16921   \n",
       "4       2015   327511036               18435                   16813   \n",
       "\n",
       "   active_agency_count  covered_agency_count  population_covered  \\\n",
       "0                22021                    16               18660   \n",
       "1                21896                    39               18737   \n",
       "2                21764                    29               51097   \n",
       "3                21625                    28              111631   \n",
       "4                21551                    20               40665   \n",
       "\n",
       "   agency_count_nibrs_submitting  agency_count_leoka_submitting  \\\n",
       "0                           8536                           8356   \n",
       "1                           7777                           7122   \n",
       "2                           7148                           6680   \n",
       "3                           7083                           6388   \n",
       "4                           6823                           6223   \n",
       "\n",
       "   agency_count_pe_submitting  agency_count_srs_submitting  \\\n",
       "0                       15004                         7786   \n",
       "1                       15247                         8200   \n",
       "2                       16399                         9381   \n",
       "3                       16927                         9986   \n",
       "4                       16815                        10102   \n",
       "\n",
       "   agency_count_asr_submitting  agency_count_hc_submitting  \\\n",
       "0                        11788                       15520   \n",
       "1                        13057                       16107   \n",
       "2                        13684                       16285   \n",
       "3                        13661                       15940   \n",
       "4                        13434                       15096   \n",
       "\n",
       "   agency_count_supp_submitting  nibrs_population_covered  total_population  \n",
       "0                         15643                 146950904         337556149  \n",
       "1                         15615                 129148182         336536616  \n",
       "2                         15578                 109218573         335231625  \n",
       "3                         15785                 105287171         329242793  \n",
       "4                         15655                  99789318         327511036  "
      ]
     },
     "execution_count": 6,
     "metadata": {},
     "output_type": "execute_result"
    }
   ],
   "source": [
    "fbi_data_df = pd.DataFrame.from_dict(fbi_data)\n",
    "fbi_data_df.head(5)"
   ]
  },
  {
   "cell_type": "code",
   "execution_count": 7,
   "metadata": {},
   "outputs": [
    {
     "name": "stdout",
     "output_type": "stream",
     "text": [
      "Collecting psycopg2\n",
      "  Downloading psycopg2-2.8.6.tar.gz (383 kB)\n",
      "\u001b[K     |████████████████████████████████| 383 kB 3.8 MB/s eta 0:00:01\n",
      "\u001b[?25hBuilding wheels for collected packages: psycopg2\n",
      "  Building wheel for psycopg2 (setup.py) ... \u001b[?25ldone\n",
      "\u001b[?25h  Created wheel for psycopg2: filename=psycopg2-2.8.6-cp38-cp38-macosx_10_9_x86_64.whl size=136189 sha256=c7af78dc88b89d7471a9521c8788a15354054c9130805422401789046469c4bd\n",
      "  Stored in directory: /Users/olesiamukha/Library/Caches/pip/wheels/70/5e/69/8a020d78c09043156a7df0b64529e460fbd922ca065c4b795c\n",
      "Successfully built psycopg2\n",
      "Installing collected packages: psycopg2\n",
      "Successfully installed psycopg2-2.8.6\n",
      "Note: you may need to restart the kernel to use updated packages.\n"
     ]
    }
   ],
   "source": [
    "pip install psycopg2"
   ]
  },
  {
   "cell_type": "code",
   "execution_count": 8,
   "metadata": {},
   "outputs": [],
   "source": [
    "fbi_data_df.to_csv('fbi_data.csv')"
   ]
  },
  {
   "cell_type": "code",
   "execution_count": 33,
   "metadata": {},
   "outputs": [],
   "source": [
    "population_df=fbi_data_df[[\"data_year\", \"population\", \"total_population\"]]\n",
    "population_df.to_csv('population_data.csv')"
   ]
  },
  {
   "cell_type": "code",
   "execution_count": 56,
   "metadata": {},
   "outputs": [
    {
     "data": {
      "text/plain": [
       "data_year           int64\n",
       "population          int64\n",
       "total_population    int64\n",
       "dtype: object"
      ]
     },
     "execution_count": 56,
     "metadata": {},
     "output_type": "execute_result"
    }
   ],
   "source": [
    "population_df.dtypes"
   ]
  },
  {
   "cell_type": "code",
   "execution_count": 107,
   "metadata": {},
   "outputs": [],
   "source": [
    "nibrs_df=fbi_data_df[[\"data_year\", \"total_agency_count\", \"nibrs_population_covered\", \"agency_count_nibrs_submitting\"]]\n",
    "nibrs_df.to_csv('nibrs_data.csv')"
   ]
  },
  {
   "cell_type": "code",
   "execution_count": 113,
   "metadata": {},
   "outputs": [],
   "source": [
    "leoka_df=fbi_data_df[[\"total_agency_count\", \"agency_count_leoka_submitting\"]]\n",
    "leoka_df.to_csv('leoka_data.csv')"
   ]
  },
  {
   "cell_type": "code",
   "execution_count": 120,
   "metadata": {},
   "outputs": [],
   "source": [
    "import psycopg2\n",
    "conn = psycopg2.connect(\"host=localhost dbname=fbi_data user=postgres password=olesia1994\")"
   ]
  },
  {
   "cell_type": "code",
   "execution_count": 90,
   "metadata": {},
   "outputs": [
    {
     "ename": "DuplicateTable",
     "evalue": "relation \"population\" already exists\n",
     "output_type": "error",
     "traceback": [
      "\u001b[0;31m---------------------------------------------------------------------------\u001b[0m",
      "\u001b[0;31mDuplicateTable\u001b[0m                            Traceback (most recent call last)",
      "\u001b[0;32m<ipython-input-90-bb0afd7f35f7>\u001b[0m in \u001b[0;36m<module>\u001b[0;34m\u001b[0m\n\u001b[1;32m      1\u001b[0m \u001b[0mcur\u001b[0m \u001b[0;34m=\u001b[0m \u001b[0mconn\u001b[0m\u001b[0;34m.\u001b[0m\u001b[0mcursor\u001b[0m\u001b[0;34m(\u001b[0m\u001b[0;34m)\u001b[0m\u001b[0;34m\u001b[0m\u001b[0;34m\u001b[0m\u001b[0m\n\u001b[0;32m----> 2\u001b[0;31m cur.execute(\"\"\"\n\u001b[0m\u001b[1;32m      3\u001b[0m     CREATE TABLE population(\n\u001b[1;32m      4\u001b[0m     \u001b[0mdata_year\u001b[0m \u001b[0minteger\u001b[0m \u001b[0mPRIMARY\u001b[0m \u001b[0mKEY\u001b[0m\u001b[0;34m,\u001b[0m\u001b[0;34m\u001b[0m\u001b[0;34m\u001b[0m\u001b[0m\n\u001b[1;32m      5\u001b[0m     \u001b[0mpopulation\u001b[0m \u001b[0minteger\u001b[0m\u001b[0;34m,\u001b[0m\u001b[0;34m\u001b[0m\u001b[0;34m\u001b[0m\u001b[0m\n",
      "\u001b[0;31mDuplicateTable\u001b[0m: relation \"population\" already exists\n"
     ]
    }
   ],
   "source": [
    "cur = conn.cursor()\n",
    "cur.execute(\"\"\"\n",
    "    CREATE TABLE population(\n",
    "    data_year integer PRIMARY KEY,\n",
    "    population integer,\n",
    "    total_population integer\n",
    "   )\n",
    "\"\"\")\n",
    "conn.commit()"
   ]
  },
  {
   "cell_type": "code",
   "execution_count": 110,
   "metadata": {},
   "outputs": [],
   "source": [
    "cur = conn.cursor()\n",
    "cur.execute(\"\"\"\n",
    "    CREATE TABLE nibrs(\n",
    "    data_year integer PRIMARY KEY,\n",
    "    total_agency_count integer,\n",
    "    nibrs_population_covered integer,\n",
    "    agency_count_nibrs_submitting integer\n",
    "   )\n",
    "\"\"\")\n",
    "conn.commit()"
   ]
  },
  {
   "cell_type": "code",
   "execution_count": 121,
   "metadata": {},
   "outputs": [],
   "source": [
    "#creating leoka table\n",
    "cur = conn.cursor()\n",
    "cur.execute(\"\"\"\n",
    "    CREATE TABLE leoka(\n",
    "    total_agency_count integer PRIMARY KEY,\n",
    "    agency_count_leoka_submitting integer\n",
    "   )\n",
    "\"\"\")\n",
    "conn.commit()"
   ]
  },
  {
   "cell_type": "code",
   "execution_count": 79,
   "metadata": {},
   "outputs": [],
   "source": [
    "#cur.execute(\"INSERT INTO population VALUES (%s, %s, %s)\", (population_df[\"data_year\"], population_df[\"population\"], population_df[\"total_population\"]))\n",
    "#conn.commit()"
   ]
  },
  {
   "cell_type": "code",
   "execution_count": 85,
   "metadata": {},
   "outputs": [],
   "source": [
    "import csv\n",
    "with open('population_data.csv', 'r') as f:\n",
    "    reader = csv.reader(f)\n",
    "    next(reader) # Skip the header row.\n",
    "    for row in reader:\n",
    "        cur.execute(\n",
    "        \"INSERT INTO population(data_year, population, total_population) VALUES (%s, %s, %s)\",\n",
    "        row\n",
    "    )\n",
    "conn.commit()"
   ]
  },
  {
   "cell_type": "code",
   "execution_count": 111,
   "metadata": {},
   "outputs": [],
   "source": [
    "import csv\n",
    "with open('nibrs_data.csv', 'r') as f:\n",
    "    reader = csv.reader(f)\n",
    "    next(reader) # Skip the header row.\n",
    "    for row in reader:\n",
    "        cur.execute(\n",
    "        \"INSERT INTO nibrs(data_year,total_agency_count, nibrs_population_covered, agency_count_nibrs_submitting) VALUES (%s, %s, %s, %s)\",\n",
    "        row\n",
    "    )\n",
    "conn.commit()"
   ]
  },
  {
   "cell_type": "code",
   "execution_count": 122,
   "metadata": {},
   "outputs": [],
   "source": [
    "import csv\n",
    "with open('leoka_data.csv', 'r') as f:\n",
    "    reader = csv.reader(f)\n",
    "    next(reader) # Skip the header row.\n",
    "    for row in reader:\n",
    "        cur.execute(\n",
    "        \"INSERT INTO leoka(total_agency_count, agency_count_leoka_submitting) VALUES (%s, %s)\",\n",
    "        row\n",
    "    )\n",
    "conn.commit()"
   ]
  },
  {
   "cell_type": "code",
   "execution_count": null,
   "metadata": {},
   "outputs": [],
   "source": []
  }
 ],
 "metadata": {
  "kernelspec": {
   "display_name": "Python 3",
   "language": "python",
   "name": "python3"
  },
  "language_info": {
   "codemirror_mode": {
    "name": "ipython",
    "version": 3
   },
   "file_extension": ".py",
   "mimetype": "text/x-python",
   "name": "python",
   "nbconvert_exporter": "python",
   "pygments_lexer": "ipython3",
   "version": "3.8.5"
  }
 },
 "nbformat": 4,
 "nbformat_minor": 4
}
