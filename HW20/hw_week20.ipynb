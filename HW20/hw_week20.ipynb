{
 "cells": [
  {
   "cell_type": "markdown",
   "metadata": {},
   "source": [
    "## 1. Load the tokenized Paradise Lost from the Gutenberg Corpus in NLTK. https://www.nltk.org/book/ch02.html . Stem or lemmatize the words and find counts. Select the top 20 words and create a histogram. Exclude stop words and make sure you are including words of all capitalizations in your count. If there are any meaningless “words” that are produced in your list or top words, alter your logic to exclude them. Specify why you chose stemming or lemmatization. *"
   ]
  },
  {
   "cell_type": "code",
   "execution_count": 31,
   "metadata": {},
   "outputs": [
    {
     "name": "stderr",
     "output_type": "stream",
     "text": [
      "[nltk_data] Downloading package stopwords to\n",
      "[nltk_data]     /Users/olesiamukha/nltk_data...\n",
      "[nltk_data]   Package stopwords is already up-to-date!\n"
     ]
    }
   ],
   "source": [
    "import nltk\n",
    "import pandas as pd\n",
    "nltk.download('stopwords')\n",
    "sw = set(nltk.corpus.stopwords.words('english'))"
   ]
  },
  {
   "cell_type": "code",
   "execution_count": 18,
   "metadata": {},
   "outputs": [
    {
     "data": {
      "text/plain": [
       "['austen-emma.txt',\n",
       " 'austen-persuasion.txt',\n",
       " 'austen-sense.txt',\n",
       " 'bible-kjv.txt',\n",
       " 'blake-poems.txt',\n",
       " 'bryant-stories.txt',\n",
       " 'burgess-busterbrown.txt',\n",
       " 'carroll-alice.txt',\n",
       " 'chesterton-ball.txt',\n",
       " 'chesterton-brown.txt',\n",
       " 'chesterton-thursday.txt',\n",
       " 'edgeworth-parents.txt',\n",
       " 'melville-moby_dick.txt',\n",
       " 'milton-paradise.txt',\n",
       " 'shakespeare-caesar.txt',\n",
       " 'shakespeare-hamlet.txt',\n",
       " 'shakespeare-macbeth.txt',\n",
       " 'whitman-leaves.txt']"
      ]
     },
     "execution_count": 18,
     "metadata": {},
     "output_type": "execute_result"
    }
   ],
   "source": [
    "nltk.corpus.gutenberg.fileids()"
   ]
  },
  {
   "cell_type": "code",
   "execution_count": 55,
   "metadata": {},
   "outputs": [
    {
     "data": {
      "text/plain": [
       "nltk.corpus.reader.util.StreamBackedCorpusView"
      ]
     },
     "execution_count": 55,
     "metadata": {},
     "output_type": "execute_result"
    }
   ],
   "source": [
    "#loading the paradise file from the gutenberg library\n",
    "paradise = nltk.corpus.gutenberg.words(\"milton-paradise.txt\")\n",
    "type(paradise)"
   ]
  },
  {
   "cell_type": "code",
   "execution_count": 60,
   "metadata": {},
   "outputs": [
    {
     "name": "stdout",
     "output_type": "stream",
     "text": [
      "['[', 'Paradise', 'Lost', 'by', 'John', 'Milton', '1667', ']', 'Book', 'I', 'Of', 'Man', \"'\", 's', 'first', 'disobedience', ',', 'and', 'the', 'fruit', 'Of', 'that', 'forbidden', 'tree', 'whose', 'mortal', 'taste', 'Brought', 'death', 'into', 'the', 'World', ',', 'and', 'all', 'our', 'woe', ',', 'With', 'loss', 'of', 'Eden', ',', 'till', 'one', 'greater', 'Man', 'Restore', 'us', ',', 'and', 'regain', 'the', 'blissful', 'seat', ',', 'Sing', ',', 'Heavenly', 'Muse', ',', 'that', ',', 'on', 'the', 'secret', 'top', 'Of', 'Oreb', ',', 'or', 'of', 'Sinai', ',', 'didst', 'inspire', 'That', 'shepherd', 'who', 'first', 'taught', 'the', 'chosen', 'seed', 'In', 'the', 'beginning', 'how', 'the', 'heavens', 'and', 'earth', 'Rose', 'out', 'of', 'Chaos', ':', 'or', ',', 'if']\n"
     ]
    }
   ],
   "source": [
    "my_lines_list=[]\n",
    "for line in paradise:\n",
    "    my_lines_list.append(line)\n",
    "print(my_lines_list[:100]) #printing just the first 100 because the whole text is huge"
   ]
  },
  {
   "cell_type": "code",
   "execution_count": 59,
   "metadata": {},
   "outputs": [
    {
     "name": "stdout",
     "output_type": "stream",
     "text": [
      "['paradise', 'lost', 'by', 'john', 'milton', 'book', 'i', 'of', 'man', 's', 'first', 'disobedience', 'and', 'the', 'fruit', 'of', 'that', 'forbidden', 'tree', 'whose', 'mortal', 'taste', 'brought', 'death', 'into', 'the', 'world', 'and', 'all', 'our', 'woe', 'with', 'loss', 'of', 'eden', 'till', 'one', 'greater', 'man', 'restore', 'us', 'and', 'regain', 'the', 'blissful', 'seat', 'sing', 'heavenly', 'muse', 'that', 'on', 'the', 'secret', 'top', 'of', 'oreb', 'or', 'of', 'sinai', 'didst', 'inspire', 'that', 'shepherd', 'who', 'first', 'taught', 'the', 'chosen', 'seed', 'in', 'the', 'beginning', 'how', 'the', 'heavens', 'and', 'earth', 'rose', 'out', 'of', 'chaos', 'or', 'if', 'sion', 'hill', 'delight', 'thee', 'more', 'and', 'siloa', 's', 'brook', 'that', 'flowed', 'fast', 'by', 'the', 'oracle', 'of', 'god']\n"
     ]
    }
   ],
   "source": [
    "#turning word into all lowercase and removing the punctuation\n",
    "lower_list = [w.lower() for w in my_lines_list if w.isalpha()]\n",
    "print(lower_list[:100])  #printing just the first 100 because the whole text is huge"
   ]
  },
  {
   "cell_type": "code",
   "execution_count": null,
   "metadata": {},
   "outputs": [],
   "source": []
  },
  {
   "cell_type": "code",
   "execution_count": 61,
   "metadata": {},
   "outputs": [
    {
     "name": "stdout",
     "output_type": "stream",
     "text": [
      "['paradis', 'lost', 'john', 'milton', 'book', 'man', 'first', 'disobedi', 'fruit', 'forbidden', 'tree', 'whose', 'mortal', 'tast', 'brought', 'death', 'world', 'woe', 'loss', 'eden', 'till', 'one', 'greater', 'man', 'restor', 'us', 'regain', 'bliss', 'seat', 'sing', 'heaven', 'muse', 'secret', 'top', 'oreb', 'sinai', 'didst', 'inspir', 'shepherd', 'first', 'taught', 'chosen', 'seed', 'begin', 'heaven', 'earth', 'rose', 'chao', 'sion', 'hill', 'delight', 'thee', 'siloa', 'brook', 'flow', 'fast', 'oracl', 'god', 'thenc', 'invok', 'thi', 'aid', 'adventur', 'song', 'middl', 'flight', 'intend', 'soar', 'th', 'aonian', 'mount', 'pursu', 'thing', 'unattempt', 'yet', 'prose', 'rhyme', 'chiefli', 'thou', 'spirit', 'dost', 'prefer', 'templ', 'th', 'upright', 'heart', 'pure', 'instruct', 'thou', 'know', 'st', 'thou', 'first', 'wast', 'present', 'mighti', 'wing', 'outspread', 'dove', 'like']\n"
     ]
    }
   ],
   "source": [
    "#stemming words\n",
    "from nltk.stem.snowball import SnowballStemmer\n",
    "stemmer = SnowballStemmer(language = \"english\")\n",
    "    \n",
    "\n",
    "stemmed_list = [stemmer.stem(w) for w in lower_list if w.lower() not in sw]\n",
    "print(stemmed_list[:100]) #printing just the first 100 because the whole text is huge"
   ]
  },
  {
   "cell_type": "markdown",
   "metadata": {},
   "source": [
    "I choose **lemmatization** because we're looking for the meaningful words as the outcome and lemmatization process looks at the word in context. And lemmatization process considers the context and converts the word to a \"meaningful base form\"."
   ]
  },
  {
   "cell_type": "code",
   "execution_count": 62,
   "metadata": {},
   "outputs": [
    {
     "name": "stderr",
     "output_type": "stream",
     "text": [
      "[nltk_data] Downloading package wordnet to\n",
      "[nltk_data]     /Users/olesiamukha/nltk_data...\n",
      "[nltk_data]   Package wordnet is already up-to-date!\n"
     ]
    },
    {
     "name": "stdout",
     "output_type": "stream",
     "text": [
      "['paradise', 'lost', 'john', 'milton', 'book', 'man', 'first', 'disobedience', 'fruit', 'forbidden', 'tree', 'whose', 'mortal', 'taste', 'brought', 'death', 'world', 'woe', 'loss', 'eden', 'till', 'one', 'greater', 'man', 'restore', 'u', 'regain', 'blissful', 'seat', 'sing', 'heavenly', 'muse', 'secret', 'top', 'oreb', 'sinai', 'didst', 'inspire', 'shepherd', 'first', 'taught', 'chosen', 'seed', 'beginning', 'heaven', 'earth', 'rose', 'chaos', 'sion', 'hill', 'delight', 'thee', 'siloa', 'brook', 'flowed', 'fast', 'oracle', 'god', 'thence', 'invoke', 'thy', 'aid', 'adventurous', 'song', 'middle', 'flight', 'intends', 'soar', 'th', 'aonian', 'mount', 'pursues', 'thing', 'unattempted', 'yet', 'prose', 'rhyme', 'chiefly', 'thou', 'spirit', 'dost', 'prefer', 'temple', 'th', 'upright', 'heart', 'pure', 'instruct', 'thou', 'know', 'st', 'thou', 'first', 'wast', 'present', 'mighty', 'wing', 'outspread', 'dove', 'like']\n"
     ]
    }
   ],
   "source": [
    "#lematizing words and removing the stop words\n",
    "from nltk.stem import WordNetLemmatizer\n",
    "nltk.download('wordnet')\n",
    "lemmatizer = WordNetLemmatizer()\n",
    "\n",
    "lematized_list = [lemmatizer.lemmatize(w) for w in lower_list if w.lower() not in sw]\n",
    "print(lematized_list[:100]) #printing just the first 100 because the whole text is huge"
   ]
  },
  {
   "cell_type": "code",
   "execution_count": 24,
   "metadata": {},
   "outputs": [],
   "source": [
    "#for w in words_list:\n",
    "    #stemmed_list=[]\n",
    "    #stemmed = stemmer.stem(w)\n",
    "    #stemmed_list.append(stemmed)\n",
    "    #print(stemmed_list)"
   ]
  },
  {
   "cell_type": "code",
   "execution_count": 25,
   "metadata": {},
   "outputs": [],
   "source": [
    "#d = dict()\n",
    "#uniqWords = sorted(set(lematized_list)) #remove duplicate words and sort\n",
    "#for word in uniqWords:\n",
    "    #word_count=lematized_list.count(word)\n",
    "    #print(word, ':',word_count)"
   ]
  },
  {
   "cell_type": "code",
   "execution_count": 26,
   "metadata": {},
   "outputs": [],
   "source": [
    "#counting the each word in the lematized list and saving the result into a dictionary\n",
    "d=dict()\n",
    "for word in lematized_list:\n",
    "    if word in d:\n",
    "        # Increment count of word by 1\n",
    "        d[word] = d[word] + 1\n",
    "    else:\n",
    "        # Add the word to dictionary with count 1\n",
    "        d[word] = 1"
   ]
  },
  {
   "cell_type": "code",
   "execution_count": 67,
   "metadata": {},
   "outputs": [
    {
     "data": {
      "text/plain": [
       "[('paradise', 55),\n",
       " ('lost', 58),\n",
       " ('john', 2),\n",
       " ('milton', 1),\n",
       " ('book', 15),\n",
       " ('man', 176),\n",
       " ('first', 175),\n",
       " ('disobedience', 6),\n",
       " ('fruit', 81),\n",
       " ('forbidden', 11),\n",
       " ('tree', 77),\n",
       " ('whose', 109),\n",
       " ('mortal', 33),\n",
       " ('taste', 52),\n",
       " ('brought', 36),\n",
       " ('death', 127),\n",
       " ('world', 119),\n",
       " ('woe', 37),\n",
       " ('loss', 20),\n",
       " ('eden', 26),\n",
       " ('till', 120),\n",
       " ('one', 142),\n",
       " ('greater', 15),\n",
       " ('restore', 3),\n",
       " ('u', 187),\n",
       " ('regain', 4),\n",
       " ('blissful', 7),\n",
       " ('seat', 55),\n",
       " ('sing', 9),\n",
       " ('heavenly', 49),\n",
       " ('muse', 5),\n",
       " ('secret', 21),\n",
       " ('top', 25),\n",
       " ('oreb', 3),\n",
       " ('sinai', 2),\n",
       " ('didst', 21),\n",
       " ('inspire', 1),\n",
       " ('shepherd', 5),\n",
       " ('taught', 18),\n",
       " ('chosen', 4),\n",
       " ('seed', 30),\n",
       " ('beginning', 5),\n",
       " ('heaven', 436),\n",
       " ('earth', 217),\n",
       " ('rose', 38),\n",
       " ('chaos', 25),\n",
       " ('sion', 6),\n",
       " ('hill', 66),\n",
       " ('delight', 39),\n",
       " ('thee', 358),\n",
       " ('siloa', 1),\n",
       " ('brook', 8),\n",
       " ('flowed', 7),\n",
       " ('fast', 27),\n",
       " ('oracle', 2),\n",
       " ('god', 316),\n",
       " ('thence', 53),\n",
       " ('invoke', 2),\n",
       " ('thy', 414),\n",
       " ('aid', 21),\n",
       " ('adventurous', 5),\n",
       " ('song', 28),\n",
       " ('middle', 11),\n",
       " ('flight', 37),\n",
       " ('intends', 7),\n",
       " ('soar', 5),\n",
       " ('th', 71),\n",
       " ('aonian', 1),\n",
       " ('mount', 26),\n",
       " ('pursues', 6),\n",
       " ('thing', 116),\n",
       " ('unattempted', 1),\n",
       " ('yet', 228),\n",
       " ('prose', 2),\n",
       " ('rhyme', 1),\n",
       " ('chiefly', 13),\n",
       " ('thou', 432),\n",
       " ('spirit', 97),\n",
       " ('dost', 3),\n",
       " ('prefer', 2),\n",
       " ('temple', 16),\n",
       " ('upright', 10),\n",
       " ('heart', 63),\n",
       " ('pure', 41),\n",
       " ('instruct', 2),\n",
       " ('know', 102),\n",
       " ('st', 22),\n",
       " ('wast', 6),\n",
       " ('present', 21),\n",
       " ('mighty', 25),\n",
       " ('wing', 61),\n",
       " ('outspread', 3),\n",
       " ('dove', 2),\n",
       " ('like', 120),\n",
       " ('sat', 49),\n",
       " ('brooding', 2),\n",
       " ('vast', 20),\n",
       " ('abyss', 18),\n",
       " ('mad', 2),\n",
       " ('pregnant', 4)]"
      ]
     },
     "execution_count": 67,
     "metadata": {},
     "output_type": "execute_result"
    }
   ],
   "source": [
    "list(d.items())[:100] #printing just the first 100 because the whole text is huge"
   ]
  },
  {
   "cell_type": "code",
   "execution_count": 28,
   "metadata": {},
   "outputs": [
    {
     "data": {
      "text/plain": [
       "dict"
      ]
     },
     "execution_count": 28,
     "metadata": {},
     "output_type": "execute_result"
    }
   ],
   "source": [
    "type(d)"
   ]
  },
  {
   "cell_type": "code",
   "execution_count": 32,
   "metadata": {},
   "outputs": [],
   "source": [
    "#creating a dataframe from the dictionary with the word count\n",
    "words = pd.DataFrame(d.items(), columns=['Word', 'Count'])"
   ]
  },
  {
   "cell_type": "code",
   "execution_count": 33,
   "metadata": {},
   "outputs": [],
   "source": [
    "#sorting the dataframe by the word count to see the top 20 words\n",
    "sorted_df = words.sort_values(by=[\"Count\"], ascending=False)"
   ]
  },
  {
   "cell_type": "code",
   "execution_count": 34,
   "metadata": {},
   "outputs": [],
   "source": [
    "#selecting top20 words\n",
    "top_20=sorted_df.head(20)"
   ]
  },
  {
   "cell_type": "code",
   "execution_count": 68,
   "metadata": {},
   "outputs": [
    {
     "data": {
      "text/html": [
       "<div>\n",
       "<style scoped>\n",
       "    .dataframe tbody tr th:only-of-type {\n",
       "        vertical-align: middle;\n",
       "    }\n",
       "\n",
       "    .dataframe tbody tr th {\n",
       "        vertical-align: top;\n",
       "    }\n",
       "\n",
       "    .dataframe thead th {\n",
       "        text-align: right;\n",
       "    }\n",
       "</style>\n",
       "<table border=\"1\" class=\"dataframe\">\n",
       "  <thead>\n",
       "    <tr style=\"text-align: right;\">\n",
       "      <th></th>\n",
       "      <th>Word</th>\n",
       "      <th>Count</th>\n",
       "    </tr>\n",
       "  </thead>\n",
       "  <tbody>\n",
       "    <tr>\n",
       "      <th>42</th>\n",
       "      <td>heaven</td>\n",
       "      <td>436</td>\n",
       "    </tr>\n",
       "    <tr>\n",
       "      <th>76</th>\n",
       "      <td>thou</td>\n",
       "      <td>432</td>\n",
       "    </tr>\n",
       "    <tr>\n",
       "      <th>58</th>\n",
       "      <td>thy</td>\n",
       "      <td>414</td>\n",
       "    </tr>\n",
       "    <tr>\n",
       "      <th>49</th>\n",
       "      <td>thee</td>\n",
       "      <td>358</td>\n",
       "    </tr>\n",
       "    <tr>\n",
       "      <th>308</th>\n",
       "      <td>thus</td>\n",
       "      <td>318</td>\n",
       "    </tr>\n",
       "    <tr>\n",
       "      <th>55</th>\n",
       "      <td>god</td>\n",
       "      <td>316</td>\n",
       "    </tr>\n",
       "    <tr>\n",
       "      <th>376</th>\n",
       "      <td>shall</td>\n",
       "      <td>283</td>\n",
       "    </tr>\n",
       "    <tr>\n",
       "      <th>72</th>\n",
       "      <td>yet</td>\n",
       "      <td>228</td>\n",
       "    </tr>\n",
       "    <tr>\n",
       "      <th>207</th>\n",
       "      <td>though</td>\n",
       "      <td>217</td>\n",
       "    </tr>\n",
       "    <tr>\n",
       "      <th>43</th>\n",
       "      <td>earth</td>\n",
       "      <td>217</td>\n",
       "    </tr>\n",
       "    <tr>\n",
       "      <th>24</th>\n",
       "      <td>u</td>\n",
       "      <td>187</td>\n",
       "    </tr>\n",
       "    <tr>\n",
       "      <th>5</th>\n",
       "      <td>man</td>\n",
       "      <td>176</td>\n",
       "    </tr>\n",
       "    <tr>\n",
       "      <th>6</th>\n",
       "      <td>first</td>\n",
       "      <td>175</td>\n",
       "    </tr>\n",
       "    <tr>\n",
       "      <th>197</th>\n",
       "      <td>day</td>\n",
       "      <td>157</td>\n",
       "    </tr>\n",
       "    <tr>\n",
       "      <th>160</th>\n",
       "      <td>high</td>\n",
       "      <td>153</td>\n",
       "    </tr>\n",
       "    <tr>\n",
       "      <th>21</th>\n",
       "      <td>one</td>\n",
       "      <td>142</td>\n",
       "    </tr>\n",
       "    <tr>\n",
       "      <th>936</th>\n",
       "      <td>son</td>\n",
       "      <td>132</td>\n",
       "    </tr>\n",
       "    <tr>\n",
       "      <th>229</th>\n",
       "      <td>far</td>\n",
       "      <td>129</td>\n",
       "    </tr>\n",
       "    <tr>\n",
       "      <th>15</th>\n",
       "      <td>death</td>\n",
       "      <td>127</td>\n",
       "    </tr>\n",
       "    <tr>\n",
       "      <th>108</th>\n",
       "      <td>may</td>\n",
       "      <td>126</td>\n",
       "    </tr>\n",
       "  </tbody>\n",
       "</table>\n",
       "</div>"
      ],
      "text/plain": [
       "       Word  Count\n",
       "42   heaven    436\n",
       "76     thou    432\n",
       "58      thy    414\n",
       "49     thee    358\n",
       "308    thus    318\n",
       "55      god    316\n",
       "376   shall    283\n",
       "72      yet    228\n",
       "207  though    217\n",
       "43    earth    217\n",
       "24        u    187\n",
       "5       man    176\n",
       "6     first    175\n",
       "197     day    157\n",
       "160    high    153\n",
       "21      one    142\n",
       "936     son    132\n",
       "229     far    129\n",
       "15    death    127\n",
       "108     may    126"
      ]
     },
     "execution_count": 68,
     "metadata": {},
     "output_type": "execute_result"
    }
   ],
   "source": [
    "top_20"
   ]
  },
  {
   "cell_type": "code",
   "execution_count": 36,
   "metadata": {},
   "outputs": [
    {
     "data": {
      "text/plain": [
       "array([[<AxesSubplot:title={'center':'Count'}>]], dtype=object)"
      ]
     },
     "execution_count": 36,
     "metadata": {},
     "output_type": "execute_result"
    },
    {
     "data": {
      "image/png": "[encoded data removed]",
      "text/plain": [
       "<Figure size 432x288 with 1 Axes>"
      ]
     },
     "metadata": {
      "needs_background": "light"
     },
     "output_type": "display_data"
    }
   ],
   "source": [
    "#building the histogram from the top 20 words\n",
    "top_20.hist(bins=5)"
   ]
  },
  {
   "cell_type": "code",
   "execution_count": 37,
   "metadata": {},
   "outputs": [
    {
     "data": {
      "text/plain": [
       "<AxesSubplot:xlabel='Word'>"
      ]
     },
     "execution_count": 37,
     "metadata": {},
     "output_type": "execute_result"
    },
    {
     "data": {
      "image/png": "[encoded data removed]",
      "text/plain": [
       "<Figure size 432x288 with 1 Axes>"
      ]
     },
     "metadata": {
      "needs_background": "light"
     },
     "output_type": "display_data"
    }
   ],
   "source": [
    "#building the bar chart\n",
    "import matplotlib.pyplot as plt\n",
    "import seaborn as sns\n",
    "top_20.plot( x='Word', y='Count', kind='bar')"
   ]
  },
  {
   "cell_type": "code",
   "execution_count": null,
   "metadata": {},
   "outputs": [],
   "source": []
  },
  {
   "cell_type": "markdown",
   "metadata": {},
   "source": [
    "## 2. Perform Vader Sentiment Analysis on the book. Find the 5 most negative, 5 most positive, and 5 most neutral sentences in Paradise Lost. http://www.nltk.org/howto/sentiment.html . This may take a while to run, so you can always start with a small subset of the data (100 sentences) and then once your code works as expected, expand it to the whole book and let it run. *"
   ]
  },
  {
   "cell_type": "code",
   "execution_count": 77,
   "metadata": {},
   "outputs": [
    {
     "name": "stderr",
     "output_type": "stream",
     "text": [
      "[nltk_data] Downloading package vader_lexicon to\n",
      "[nltk_data]     /Users/olesiamukha/nltk_data...\n",
      "[nltk_data]   Package vader_lexicon is already up-to-date!\n"
     ]
    }
   ],
   "source": [
    "from nltk.sentiment.vader import SentimentIntensityAnalyzer\n",
    "nltk.download('vader_lexicon')\n",
    "analyzer = SentimentIntensityAnalyzer()"
   ]
  },
  {
   "cell_type": "code",
   "execution_count": 78,
   "metadata": {},
   "outputs": [
    {
     "name": "stdout",
     "output_type": "stream",
     "text": [
      "[['[', 'Paradise', 'Lost', 'by', 'John', 'Milton', '1667', ']'], ['Book', 'I'], ...]\n"
     ]
    }
   ],
   "source": [
    "#loding the paradise book as sentence\n",
    "paradise = nltk.corpus.gutenberg.sents(\"milton-paradise.txt\")\n",
    "print(paradise)"
   ]
  },
  {
   "cell_type": "code",
   "execution_count": 82,
   "metadata": {},
   "outputs": [
    {
     "data": {
      "text/plain": [
       "[{'text': '[ Paradise Lost by John Milton 1667 ]',\n",
       "  'compound': 0.4404,\n",
       "  'positive': 0.4,\n",
       "  'negative': 0.219,\n",
       "  'neutral': 0.381},\n",
       " {'text': 'Book I',\n",
       "  'compound': 0.0,\n",
       "  'positive': 0.0,\n",
       "  'negative': 0.0,\n",
       "  'neutral': 1.0},\n",
       " {'text': \"Of Man ' s first disobedience , and the fruit Of that forbidden tree whose mortal taste Brought death into the World , and all our woe , With loss of Eden , till one greater Man Restore us , and regain the blissful seat , Sing , Heavenly Muse , that , on the secret top Of Oreb , or of Sinai , didst inspire That shepherd who first taught the chosen seed In the beginning how the heavens and earth Rose out of Chaos : or , if Sion hill Delight thee more , and Siloa ' s brook that flowed Fast by the oracle of God , I thence Invoke thy aid to my adventurous song , That with no middle flight intends to soar Above th ' Aonian mount , while it pursues Things unattempted yet in prose or rhyme .\",\n",
       "  'compound': 0.8885,\n",
       "  'positive': 0.192,\n",
       "  'negative': 0.117,\n",
       "  'neutral': 0.691},\n",
       " {'text': \"And chiefly thou , O Spirit , that dost prefer Before all temples th ' upright heart and pure , Instruct me , for thou know ' st ; thou from the first Wast present , and , with mighty wings outspread , Dove - like sat ' st brooding on the vast Abyss , And mad ' st it pregnant : what in me is dark Illumine , what is low raise and support ; That , to the height of this great argument , I may assert Eternal Providence , And justify the ways of God to men .\",\n",
       "  'compound': 0.7331,\n",
       "  'positive': 0.163,\n",
       "  'negative': 0.085,\n",
       "  'neutral': 0.752},\n",
       " {'text': 'Say first -- for Heaven hides nothing from thy view , Nor the deep tract of Hell -- say first what cause Moved our grand parents , in that happy state , Favoured of Heaven so highly , to fall off From their Creator , and transgress his will For one restraint , lords of the World besides .',\n",
       "  'compound': 0.8689,\n",
       "  'positive': 0.239,\n",
       "  'negative': 0.093,\n",
       "  'neutral': 0.668},\n",
       " {'text': 'Who first seduced them to that foul revolt ?',\n",
       "  'compound': -0.3612,\n",
       "  'positive': 0.0,\n",
       "  'negative': 0.263,\n",
       "  'neutral': 0.737},\n",
       " {'text': \"Th ' infernal Serpent ; he it was whose guile , Stirred up with envy and revenge , deceived The mother of mankind , what time his pride Had cast him out from Heaven , with all his host Of rebel Angels , by whose aid , aspiring To set himself in glory above his peers , He trusted to have equalled the Most High , If he opposed , and with ambitious aim Against the throne and monarchy of God , Raised impious war in Heaven and battle proud , With vain attempt .\",\n",
       "  'compound': 0.6808,\n",
       "  'positive': 0.219,\n",
       "  'negative': 0.177,\n",
       "  'neutral': 0.604},\n",
       " {'text': \"Him the Almighty Power Hurled headlong flaming from th ' ethereal sky , With hideous ruin and combustion , down To bottomless perdition , there to dwell In adamantine chains and penal fire , Who durst defy th ' Omnipotent to arms .\",\n",
       "  'compound': -0.6908,\n",
       "  'positive': 0.037,\n",
       "  'negative': 0.152,\n",
       "  'neutral': 0.811},\n",
       " {'text': 'Nine times the space that measures day and night To mortal men , he , with his horrid crew , Lay vanquished , rolling in the fiery gulf , Confounded , though immortal .',\n",
       "  'compound': -0.5994,\n",
       "  'positive': 0.063,\n",
       "  'negative': 0.185,\n",
       "  'neutral': 0.752},\n",
       " {'text': 'But his doom Reserved him to more wrath ; for now the thought Both of lost happiness and lasting pain Torments him : round he throws his baleful eyes , That witnessed huge affliction and dismay , Mixed with obdurate pride and steadfast hate .',\n",
       "  'compound': -0.6705,\n",
       "  'positive': 0.184,\n",
       "  'negative': 0.264,\n",
       "  'neutral': 0.553},\n",
       " {'text': 'At once , as far as Angels ken , he views The dismal situation waste and wild .',\n",
       "  'compound': -0.7783,\n",
       "  'positive': 0.0,\n",
       "  'negative': 0.343,\n",
       "  'neutral': 0.657},\n",
       " {'text': 'A dungeon horrible , on all sides round , As one great furnace flamed ; yet from those flames No light ; but rather darkness visible Served only to discover sights of woe , Regions of sorrow , doleful shades , where peace And rest can never dwell , hope never comes That comes to all , but torture without end Still urges , and a fiery deluge , fed With ever - burning sulphur unconsumed .',\n",
       "  'compound': -0.961,\n",
       "  'positive': 0.085,\n",
       "  'negative': 0.323,\n",
       "  'neutral': 0.593},\n",
       " {'text': \"Such place Eternal Justice has prepared For those rebellious ; here their prison ordained In utter darkness , and their portion set , As far removed from God and light of Heaven As from the centre thrice to th ' utmost pole .\",\n",
       "  'compound': 0.4939,\n",
       "  'positive': 0.217,\n",
       "  'negative': 0.152,\n",
       "  'neutral': 0.63},\n",
       " {'text': 'Oh how unlike the place from whence they fell !',\n",
       "  'compound': 0.0,\n",
       "  'positive': 0.0,\n",
       "  'negative': 0.0,\n",
       "  'neutral': 1.0},\n",
       " {'text': \"There the companions of his fall , o ' erwhelmed With floods and whirlwinds of tempestuous fire , He soon discerns ; and , weltering by his side , One next himself in power , and next in crime , Long after known in Palestine , and named Beelzebub .\",\n",
       "  'compound': -0.7096,\n",
       "  'positive': 0.0,\n",
       "  'negative': 0.138,\n",
       "  'neutral': 0.862},\n",
       " {'text': 'To whom th \\' Arch - Enemy , And thence in Heaven called Satan , with bold words Breaking the horrid silence , thus began :-- \" If thou beest he -- but O how fallen !',\n",
       "  'compound': -0.6239,\n",
       "  'positive': 0.11,\n",
       "  'negative': 0.223,\n",
       "  'neutral': 0.667},\n",
       " {'text': 'how changed From him who , in the happy realms of light Clothed with transcendent brightness , didst outshine Myriads , though bright !-- if he whom mutual league , United thoughts and counsels , equal hope And hazard in the glorious enterprise Joined with me once , now misery hath joined In equal ruin ; into what pit thou seest From what height fallen : so much the stronger proved He with his thunder ; and till then who knew The force of those dire arms ?',\n",
       "  'compound': 0.8502,\n",
       "  'positive': 0.218,\n",
       "  'negative': 0.127,\n",
       "  'neutral': 0.655},\n",
       " {'text': 'Yet not for those , Nor what the potent Victor in his rage Can else inflict , do I repent , or change , Though changed in outward lustre , that fixed mind , And high disdain from sense of injured merit , That with the Mightiest raised me to contend , And to the fierce contentions brought along Innumerable force of Spirits armed , That durst dislike his reign , and , me preferring , His utmost power with adverse power opposed In dubious battle on the plains of Heaven , And shook his throne .',\n",
       "  'compound': -0.9136,\n",
       "  'positive': 0.074,\n",
       "  'negative': 0.211,\n",
       "  'neutral': 0.715},\n",
       " {'text': 'What though the field be lost ?',\n",
       "  'compound': -0.3182,\n",
       "  'positive': 0.0,\n",
       "  'negative': 0.315,\n",
       "  'neutral': 0.685},\n",
       " {'text': 'All is not lost -- the unconquerable will , And study of revenge , immortal hate , And courage never to submit or yield : And what is else not to be overcome ?',\n",
       "  'compound': -0.2354,\n",
       "  'positive': 0.187,\n",
       "  'negative': 0.186,\n",
       "  'neutral': 0.627},\n",
       " {'text': 'That glory never shall his wrath or might Extort from me .',\n",
       "  'compound': 0.5423,\n",
       "  'positive': 0.259,\n",
       "  'negative': 0.0,\n",
       "  'neutral': 0.741},\n",
       " {'text': 'To bow and sue for grace With suppliant knee , and deify his power Who , from the terror of this arm , so late Doubted his empire -- that were low indeed ; That were an ignominy and shame beneath This downfall ; since , by fate , the strength of Gods , And this empyreal sybstance , cannot fail ; Since , through experience of this great event , In arms not worse , in foresight much advanced , We may with more successful hope resolve To wage by force or guile eternal war , Irreconcilable to our grand Foe , Who now triumphs , and in th \\' excess of joy Sole reigning holds the tyranny of Heaven .\"',\n",
       "  'compound': 0.9743,\n",
       "  'positive': 0.288,\n",
       "  'negative': 0.123,\n",
       "  'neutral': 0.589},\n",
       " {'text': 'So spake th \\' apostate Angel , though in pain , Vaunting aloud , but racked with deep despair ; And him thus answered soon his bold compeer :-- \" O Prince , O Chief of many throned Powers That led th \\' embattled Seraphim to war Under thy conduct , and , in dreadful deeds Fearless , endangered Heaven \\' s perpetual King , And put to proof his high supremacy , Whether upheld by strength , or chance , or fate , Too well I see and rue the dire event That , with sad overthrow and foul defeat , Hath lost us Heaven , and all this mighty host In horrible destruction laid thus low , As far as Gods and heavenly Essences Can perish : for the mind and spirit remains Invincible , and vigour soon returns , Though all our glory extinct , and happy state Here swallowed up in endless misery .',\n",
       "  'compound': 0.4588,\n",
       "  'positive': 0.255,\n",
       "  'negative': 0.235,\n",
       "  'neutral': 0.511},\n",
       " {'text': \"But what if he our Conqueror ( whom I now Of force believe almighty , since no less Than such could have o ' erpowered such force as ours ) Have left us this our spirit and strength entire , Strongly to suffer and support our pains , That we may so suffice his vengeful ire , Or do him mightier service as his thralls By right of war , whate ' er his business be , Here in the heart of Hell to work in fire , Or do his errands in the gloomy Deep ?\",\n",
       "  'compound': -0.9062,\n",
       "  'positive': 0.094,\n",
       "  'negative': 0.204,\n",
       "  'neutral': 0.701},\n",
       " {'text': 'What can it the avail though yet we feel Strength undiminished , or eternal being To undergo eternal punishment ?\"',\n",
       "  'compound': 0.0,\n",
       "  'positive': 0.137,\n",
       "  'negative': 0.137,\n",
       "  'neutral': 0.726},\n",
       " {'text': 'Whereto with speedy words th \\' Arch - Fiend replied :-- \" Fallen Cherub , to be weak is miserable , Doing or suffering : but of this be sure -- To do aught good never will be our task , But ever to do ill our sole delight , As being the contrary to his high will Whom we resist .',\n",
       "  'compound': 0.5574,\n",
       "  'positive': 0.177,\n",
       "  'negative': 0.168,\n",
       "  'neutral': 0.655},\n",
       " {'text': 'If then his providence Out of our evil seek to bring forth good , Our labour must be to pervert that end , And out of good still to find means of evil ; Which ofttimes may succeed so as perhaps Shall grieve him , if I fail not , and disturb His inmost counsels from their destined aim .',\n",
       "  'compound': -0.8378,\n",
       "  'positive': 0.153,\n",
       "  'negative': 0.248,\n",
       "  'neutral': 0.599},\n",
       " {'text': 'But see !',\n",
       "  'compound': 0.0,\n",
       "  'positive': 0.0,\n",
       "  'negative': 0.0,\n",
       "  'neutral': 1.0},\n",
       " {'text': \"the angry Victor hath recalled His ministers of vengeance and pursuit Back to the gates of Heaven : the sulphurous hail , Shot after us in storm , o ' erblown hath laid The fiery surge that from the precipice Of Heaven received us falling ; and the thunder , Winged with red lightning and impetuous rage , Perhaps hath spent his shafts , and ceases now To bellow through the vast and boundless Deep .\",\n",
       "  'compound': -0.4588,\n",
       "  'positive': 0.102,\n",
       "  'negative': 0.14,\n",
       "  'neutral': 0.758},\n",
       " {'text': \"Let us not slip th ' occasion , whether scorn Or satiate fury yield it from our Foe .\",\n",
       "  'compound': -0.8519,\n",
       "  'positive': 0.0,\n",
       "  'negative': 0.417,\n",
       "  'neutral': 0.583},\n",
       " {'text': 'Seest thou yon dreary plain , forlorn and wild , The seat of desolation , void of light , Save what the glimmering of these livid flames Casts pale and dreadful ?',\n",
       "  'compound': -0.6808,\n",
       "  'positive': 0.091,\n",
       "  'negative': 0.251,\n",
       "  'neutral': 0.657},\n",
       " {'text': 'Thither let us tend From off the tossing of these fiery waves ; There rest , if any rest can harbour there ; And , re - assembling our afflicted powers , Consult how we may henceforth most offend Our enemy , our own loss how repair , How overcome this dire calamity , What reinforcement we may gain from hope , If not , what resolution from despair .\"',\n",
       "  'compound': -0.8991,\n",
       "  'positive': 0.083,\n",
       "  'negative': 0.255,\n",
       "  'neutral': 0.662},\n",
       " {'text': \"Thus Satan , talking to his nearest mate , With head uplift above the wave , and eyes That sparkling blazed ; his other parts besides Prone on the flood , extended long and large , Lay floating many a rood , in bulk as huge As whom the fables name of monstrous size , Titanian or Earth - born , that warred on Jove , Briareos or Typhon , whom the den By ancient Tarsus held , or that sea - beast Leviathan , which God of all his works Created hugest that swim th ' ocean - stream .\",\n",
       "  'compound': 0.4939,\n",
       "  'positive': 0.097,\n",
       "  'negative': 0.038,\n",
       "  'neutral': 0.865},\n",
       " {'text': 'Him , haply slumbering on the Norway foam , The pilot of some small night - foundered skiff , Deeming some island , oft , as seamen tell , With fixed anchor in his scaly rind , Moors by his side under the lee , while night Invests the sea , and wished morn delays .',\n",
       "  'compound': 0.0,\n",
       "  'positive': 0.0,\n",
       "  'negative': 0.0,\n",
       "  'neutral': 1.0},\n",
       " {'text': 'So stretched out huge in length the Arch - fiend lay , Chained on the burning lake ; nor ever thence Had risen , or heaved his head , but that the will And high permission of all - ruling Heaven Left him at large to his own dark designs , That with reiterated crimes he might Heap on himself damnation , while he sought Evil to others , and enraged might see How all his malice served but to bring forth Infinite goodness , grace , and mercy , shewn On Man by him seduced , but on himself Treble confusion , wrath , and vengeance poured .',\n",
       "  'compound': -0.6617,\n",
       "  'positive': 0.142,\n",
       "  'negative': 0.171,\n",
       "  'neutral': 0.687},\n",
       " {'text': \"Forthwith upright he rears from off the pool His mighty stature ; on each hand the flames Driven backward slope their pointing spires , and , rolled In billows , leave i ' th ' midst a horrid vale .\",\n",
       "  'compound': -0.128,\n",
       "  'positive': 0.089,\n",
       "  'negative': 0.131,\n",
       "  'neutral': 0.78},\n",
       " {'text': 'Then with expanded wings he steers his flight Aloft , incumbent on the dusky air , That felt unusual weight ; till on dry land He lights -- if it were land that ever burned With solid , as the lake with liquid fire , And such appeared in hue as when the force Of subterranean wind transprots a hill Torn from Pelorus , or the shattered side Of thundering Etna , whose combustible And fuelled entrails , thence conceiving fire , Sublimed with mineral fury , aid the winds , And leave a singed bottom all involved With stench and smoke .',\n",
       "  'compound': -0.9382,\n",
       "  'positive': 0.016,\n",
       "  'negative': 0.18,\n",
       "  'neutral': 0.804},\n",
       " {'text': 'Such resting found the sole Of unblest feet .',\n",
       "  'compound': 0.0,\n",
       "  'positive': 0.0,\n",
       "  'negative': 0.0,\n",
       "  'neutral': 1.0},\n",
       " {'text': 'Him followed his next mate ; Both glorying to have scaped the Stygian flood As gods , and by their own recovered strength , Not by the sufferance of supernal Power .',\n",
       "  'compound': 0.4939,\n",
       "  'positive': 0.106,\n",
       "  'negative': 0.0,\n",
       "  'neutral': 0.894},\n",
       " {'text': '\" Is this the region , this the soil , the clime ,\" Said then the lost Archangel , \" this the seat That we must change for Heaven ?-- this mournful gloom For that celestial light ?',\n",
       "  'compound': -0.6767,\n",
       "  'positive': 0.082,\n",
       "  'negative': 0.221,\n",
       "  'neutral': 0.697},\n",
       " {'text': 'Be it so , since he Who now is sovereign can dispose and bid What shall be right : farthest from him is best Whom reason hath equalled , force hath made supreme Above his equals .',\n",
       "  'compound': 0.8316,\n",
       "  'positive': 0.201,\n",
       "  'negative': 0.0,\n",
       "  'neutral': 0.799},\n",
       " {'text': 'Farewell , happy fields , Where joy for ever dwells !',\n",
       "  'compound': 0.8268,\n",
       "  'positive': 0.561,\n",
       "  'negative': 0.079,\n",
       "  'neutral': 0.36},\n",
       " {'text': 'Hail , horrors !',\n",
       "  'compound': -0.5707,\n",
       "  'positive': 0.246,\n",
       "  'negative': 0.754,\n",
       "  'neutral': 0.0},\n",
       " {'text': 'hail , Infernal world !',\n",
       "  'compound': 0.1511,\n",
       "  'positive': 0.443,\n",
       "  'negative': 0.0,\n",
       "  'neutral': 0.557},\n",
       " {'text': 'and thou , profoundest Hell , Receive thy new possessor -- one who brings A mind not to be changed by place or time .',\n",
       "  'compound': -0.6808,\n",
       "  'positive': 0.0,\n",
       "  'negative': 0.187,\n",
       "  'neutral': 0.813},\n",
       " {'text': 'The mind is its own place , and in itself Can make a Heaven of Hell , a Hell of Heaven .',\n",
       "  'compound': -0.5574,\n",
       "  'positive': 0.229,\n",
       "  'negative': 0.319,\n",
       "  'neutral': 0.451},\n",
       " {'text': 'What matter where , if I be still the same , And what I should be , all but less than he Whom thunder hath made greater ?',\n",
       "  'compound': 0.5106,\n",
       "  'positive': 0.177,\n",
       "  'negative': 0.0,\n",
       "  'neutral': 0.823},\n",
       " {'text': \"Here at least We shall be free ; th ' Almighty hath not built Here for his envy , will not drive us hence : Here we may reigh secure ; and , in my choice , To reign is worth ambition , though in Hell : Better to reign in Hell than serve in Heaven .\",\n",
       "  'compound': 0.128,\n",
       "  'positive': 0.215,\n",
       "  'negative': 0.176,\n",
       "  'neutral': 0.608},\n",
       " {'text': 'But wherefore let we then our faithful friends , Th \\' associates and co - partners of our loss , Lie thus astonished on th \\' oblivious pool , And call them not to share with us their part In this unhappy mansion , or once more With rallied arms to try what may be yet Regained in Heaven , or what more lost in Hell ?\"',\n",
       "  'compound': -0.4579,\n",
       "  'positive': 0.155,\n",
       "  'negative': 0.194,\n",
       "  'neutral': 0.651},\n",
       " {'text': 'So Satan spake ; and him Beelzebub Thus answered :--\" Leader of those armies bright Which , but th \\' Omnipotent , none could have foiled !',\n",
       "  'compound': 0.3054,\n",
       "  'positive': 0.096,\n",
       "  'negative': 0.0,\n",
       "  'neutral': 0.904},\n",
       " {'text': 'If once they hear that voice , their liveliest pledge Of hope in fears and dangers -- heard so oft In worst extremes , and on the perilous edge Of battle , when it raged , in all assaults Their surest signal -- they will soon resume New courage and revive , though now they lie Grovelling and prostrate on yon lake of fire , As we erewhile , astounded and amazed ; No wonder , fallen such a pernicious height !\"',\n",
       "  'compound': -0.7879,\n",
       "  'positive': 0.194,\n",
       "  'negative': 0.261,\n",
       "  'neutral': 0.545},\n",
       " {'text': 'He scare had ceased when the superior Fiend Was moving toward the shore ; his ponderous shield , Ethereal temper , massy , large , and round , Behind him cast .',\n",
       "  'compound': -0.3612,\n",
       "  'positive': 0.111,\n",
       "  'negative': 0.19,\n",
       "  'neutral': 0.698},\n",
       " {'text': 'The broad circumference Hung on his shoulders like the moon , whose orb Through optic glass the Tuscan artist views At evening , from the top of Fesole , Or in Valdarno , to descry new lands , Rivers , or mountains , in her spotty globe .',\n",
       "  'compound': 0.5106,\n",
       "  'positive': 0.102,\n",
       "  'negative': 0.0,\n",
       "  'neutral': 0.898},\n",
       " {'text': \"His spear -- to equal which the tallest pine Hewn on Norwegian hills , to be the mast Of some great ammiral , were but a wand -- He walked with , to support uneasy steps Over the burning marl , not like those steps On Heaven ' s azure ; and the torrid clime Smote on him sore besides , vaulted with fire .\",\n",
       "  'compound': -0.218,\n",
       "  'positive': 0.149,\n",
       "  'negative': 0.175,\n",
       "  'neutral': 0.676},\n",
       " {'text': \"Nathless he so endured , till on the beach Of that inflamed sea he stood , and called His legions -- Angel Forms , who lay entranced Thick as autumnal leaves that strow the brooks In Vallombrosa , where th ' Etrurian shades High over - arched embower ; or scattered sedge Afloat , when with fierce winds Orion armed Hath vexed the Red - Sea coast , whose waves o ' erthrew Busiris and his Memphian chivalry , While with perfidious hatred they pursued The sojourners of Goshen , who beheld From the safe shore their floating carcases And broken chariot - wheels .\",\n",
       "  'compound': -0.7783,\n",
       "  'positive': 0.03,\n",
       "  'negative': 0.099,\n",
       "  'neutral': 0.871},\n",
       " {'text': 'So thick bestrown , Abject and lost , lay these , covering the flood , Under amazement of their hideous change .',\n",
       "  'compound': 0.296,\n",
       "  'positive': 0.168,\n",
       "  'negative': 0.111,\n",
       "  'neutral': 0.721},\n",
       " {'text': 'He called so loud that all the hollow deep Of Hell resounded :--\" Princes , Potentates , Warriors , the Flower of Heaven -- once yours ; now lost , If such astonishment as this can seize Eternal Spirits !',\n",
       "  'compound': -0.5983,\n",
       "  'positive': 0.08,\n",
       "  'negative': 0.173,\n",
       "  'neutral': 0.747},\n",
       " {'text': 'Or have ye chosen this place After the toil of battle to repose Your wearied virtue , for the ease you find To slumber here , as in the vales of Heaven ?',\n",
       "  'compound': 0.7184,\n",
       "  'positive': 0.231,\n",
       "  'negative': 0.07,\n",
       "  'neutral': 0.699},\n",
       " {'text': \"Or in this abject posture have ye sworn To adore the Conqueror , who now beholds Cherub and Seraph rolling in the flood With scattered arms and ensigns , till anon His swift pursuers from Heaven - gates discern Th ' advantage , and , descending , tread us down Thus drooping , or with linked thunderbolts Transfix us to the bottom of this gulf ?\",\n",
       "  'compound': 0.8658,\n",
       "  'positive': 0.168,\n",
       "  'negative': 0.0,\n",
       "  'neutral': 0.832},\n",
       " {'text': 'Awake , arise , or be for ever fallen !\"',\n",
       "  'compound': -0.4199,\n",
       "  'positive': 0.0,\n",
       "  'negative': 0.285,\n",
       "  'neutral': 0.715},\n",
       " {'text': 'They heard , and were abashed , and up they sprung Upon the wing , as when men wont to watch On duty , sleeping found by whom they dread , Rouse and bestir themselves ere well awake .',\n",
       "  'compound': -0.2263,\n",
       "  'positive': 0.058,\n",
       "  'negative': 0.083,\n",
       "  'neutral': 0.859},\n",
       " {'text': \"Nor did they not perceive the evil plight In which they were , or the fierce pains not feel ; Yet to their General ' s voice they soon obeyed Innumerable .\",\n",
       "  'compound': 0.1818,\n",
       "  'positive': 0.112,\n",
       "  'negative': 0.089,\n",
       "  'neutral': 0.798},\n",
       " {'text': \"As when the potent rod Of Amram ' s son , in Egypt ' s evil day , Waved round the coast , up - called a pitchy cloud Of locusts , warping on the eastern wind , That o ' er the realm of impious Pharaoh hung Like Night , and darkened all the land of Nile ; So numberless were those bad Angels seen Hovering on wing under the cope of Hell , ' Twixt upper , nether , and surrounding fires ; Till , as a signal given , th ' uplifted spear Of their great Sultan waving to direct Their course , in even balance down they light On the firm brimstone , and fill all the plain : A multitude like which the populous North Poured never from her frozen loins to pass Rhene or the Danaw , when her barbarous sons Came like a deluge on the South , and spread Beneath Gibraltar to the Libyan sands .\",\n",
       "  'compound': -0.4404,\n",
       "  'positive': 0.078,\n",
       "  'negative': 0.084,\n",
       "  'neutral': 0.838},\n",
       " {'text': 'Forthwith , form every squadron and each band , The heads and leaders thither haste where stood Their great Commander -- godlike Shapes , and Forms Excelling human ; princely Dignities ; And Powers that erst in Heaven sat on thrones , Though on their names in Heavenly records now Be no memorial , blotted out and rased By their rebellion from the Books of Life .',\n",
       "  'compound': 0.9393,\n",
       "  'positive': 0.237,\n",
       "  'negative': 0.051,\n",
       "  'neutral': 0.712},\n",
       " {'text': \"Nor had they yet among the sons of Eve Got them new names , till , wandering o ' er the earth , Through God ' s high sufferance for the trial of man , By falsities and lies the greatest part Of mankind they corrupted to forsake God their Creator , and th ' invisible Glory of him that made them to transform Oft to the image of a brute , adorned With gay religions full of pomp and gold , And devils to adore for deities : Then were they known to men by various names , And various idols through the heathen world .\",\n",
       "  'compound': 0.8689,\n",
       "  'positive': 0.162,\n",
       "  'negative': 0.061,\n",
       "  'neutral': 0.777},\n",
       " {'text': \"Say , Muse , their names then known , who first , who last , Roused from the slumber on that fiery couch , At their great Emperor ' s call , as next in worth Came singly where he stood on the bare strand , While the promiscuous crowd stood yet aloof ?\",\n",
       "  'compound': 0.5106,\n",
       "  'positive': 0.123,\n",
       "  'negative': 0.076,\n",
       "  'neutral': 0.801},\n",
       " {'text': 'The chief were those who , from the pit of Hell Roaming to seek their prey on Earth , durst fix Their seats , long after , next the seat of God , Their altars by his altar , gods adored Among the nations round , and durst abide Jehovah thundering out of Sion , throned Between the Cherubim ; yea , often placed Within his sanctuary itself their shrines , Abominations ; and with cursed things His holy rites and solemn feasts profaned , And with their darkness durst affront his light .',\n",
       "  'compound': -0.4588,\n",
       "  'positive': 0.056,\n",
       "  'negative': 0.09,\n",
       "  'neutral': 0.854},\n",
       " {'text': \"First , Moloch , horrid king , besmeared with blood Of human sacrifice , and parents ' tears ; Though , for the noise of drums and timbrels loud , Their children ' s cries unheard that passed through fire To his grim idol .\",\n",
       "  'compound': -0.9217,\n",
       "  'positive': 0.0,\n",
       "  'negative': 0.329,\n",
       "  'neutral': 0.671},\n",
       " {'text': 'Him the Ammonite Worshiped in Rabba and her watery plain , In Argob and in Basan , to the stream Of utmost Arnon .',\n",
       "  'compound': 0.5267,\n",
       "  'positive': 0.145,\n",
       "  'negative': 0.0,\n",
       "  'neutral': 0.855},\n",
       " {'text': 'Nor content with such Audacious neighbourhood , the wisest heart Of Solomon he led by fraoud to build His temple right against the temple of God On that opprobrious hill , and made his grove The pleasant valley of Hinnom , Tophet thence And black Gehenna called , the type of Hell .',\n",
       "  'compound': 0.5859,\n",
       "  'positive': 0.179,\n",
       "  'negative': 0.079,\n",
       "  'neutral': 0.741},\n",
       " {'text': \"Next Chemos , th ' obscene dread of Moab ' s sons , From Aroar to Nebo and the wild Of southmost Abarim ; in Hesebon And Horonaim , Seon ' s real , beyond The flowery dale of Sibma clad with vines , And Eleale to th ' Asphaltic Pool : Peor his other name , when he enticed Israel in Sittim , on their march from Nile , To do him wanton rites , which cost them woe .\",\n",
       "  'compound': -0.8625,\n",
       "  'positive': 0.0,\n",
       "  'negative': 0.138,\n",
       "  'neutral': 0.862},\n",
       " {'text': 'Yet thence his lustful orgies he enlarged Even to that hill of scandal , by the grove Of Moloch homicide , lust hard by hate , Till good Josiah drove them thence to Hell .',\n",
       "  'compound': -0.8658,\n",
       "  'positive': 0.07,\n",
       "  'negative': 0.304,\n",
       "  'neutral': 0.627},\n",
       " {'text': 'With these came they who , from the bordering flood Of old Euphrates to the brook that parts Egypt from Syrian ground , had general names Of Baalim and Ashtaroth -- those male , These feminine .',\n",
       "  'compound': 0.0,\n",
       "  'positive': 0.0,\n",
       "  'negative': 0.0,\n",
       "  'neutral': 1.0},\n",
       " {'text': 'For Spirits , when they please , Can either sex assume , or both ; so soft And uncompounded is their essence pure , Not tried or manacled with joint or limb , Nor founded on the brittle strength of bones , Like cumbrous flesh ; but , in what shape they choose , Dilated or condensed , bright or obscure , Can execute their airy purposes , And works of love or enmity fulfil .',\n",
       "  'compound': 0.9343,\n",
       "  'positive': 0.21,\n",
       "  'negative': 0.0,\n",
       "  'neutral': 0.79},\n",
       " {'text': 'For those the race of Israel oft forsook Their Living Strength , and unfrequented left His righteous altar , bowing lowly down To bestial gods ; for which their heads as low Bowed down in battle , sunk before the spear Of despicable foes .',\n",
       "  'compound': -0.6705,\n",
       "  'positive': 0.067,\n",
       "  'negative': 0.203,\n",
       "  'neutral': 0.731},\n",
       " {'text': \"With these in troop Came Astoreth , whom the Phoenicians called Astarte , queen of heaven , with crescent horns ; To whose bright image nigntly by the moon Sidonian virgins paid their vows and songs ; In Sion also not unsung , where stood Her temple on th ' offensive mountain , built By that uxorious king whose heart , though large , Beguiled by fair idolatresses , fell To idols foul .\",\n",
       "  'compound': 0.6705,\n",
       "  'positive': 0.122,\n",
       "  'negative': 0.043,\n",
       "  'neutral': 0.835},\n",
       " {'text': \"Thammuz came next behind , Whose annual wound in Lebanon allured The Syrian damsels to lament his fate In amorous ditties all a summer ' s day , While smooth Adonis from his native rock Ran purple to the sea , supposed with blood Of Thammuz yearly wounded : the love - tale Infected Sion ' s daughters with like heat , Whose wanton passions in the sacred proch Ezekiel saw , when , by the vision led , His eye surveyed the dark idolatries Of alienated Judah .\",\n",
       "  'compound': 0.8176,\n",
       "  'positive': 0.167,\n",
       "  'negative': 0.071,\n",
       "  'neutral': 0.762},\n",
       " {'text': \"Next came one Who mourned in earnest , when the captive ark Maimed his brute image , head and hands lopt off , In his own temple , on the grunsel - edge , Where he fell flat and shamed his worshippers : Dagon his name , sea - monster , upward man And downward fish ; yet had his temple high Reared in Azotus , dreaded through the coast Of Palestine , in Gath and Ascalon , And Accaron and Gaza ' s frontier bounds .\",\n",
       "  'compound': -0.6705,\n",
       "  'positive': 0.064,\n",
       "  'negative': 0.12,\n",
       "  'neutral': 0.816},\n",
       " {'text': 'Him followed Rimmon , whose delightful seat Was fair Damascus , on the fertile banks Of Abbana and Pharphar , lucid streams .',\n",
       "  'compound': 0.7269,\n",
       "  'positive': 0.264,\n",
       "  'negative': 0.0,\n",
       "  'neutral': 0.736},\n",
       " {'text': \"He also against the house of God was bold : A leper once he lost , and gained a king -- Ahaz , his sottish conqueror , whom he drew God ' s altar to disparage and displace For one of Syrian mode , whereon to burn His odious offerings , and adore the gods Whom he had vanquished .\",\n",
       "  'compound': 0.7717,\n",
       "  'positive': 0.216,\n",
       "  'negative': 0.088,\n",
       "  'neutral': 0.697},\n",
       " {'text': 'After these appeared A crew who , under names of old renown -- Osiris , Isis , Orus , and their train -- With monstrous shapes and sorceries abused Fanatic Egypt and her priests to seek Their wandering gods disguised in brutish forms Rather than human .',\n",
       "  'compound': -0.6597,\n",
       "  'positive': 0.0,\n",
       "  'negative': 0.122,\n",
       "  'neutral': 0.878},\n",
       " {'text': \"Nor did Israel scape Th ' infection , when their borrowed gold composed The calf in Oreb ; and the rebel king Doubled that sin in Bethel and in Dan , Likening his Maker to the grazed ox -- Jehovah , who , in one night , when he passed From Egypt marching , equalled with one stroke Both her first - born and all her bleating gods .\",\n",
       "  'compound': -0.6369,\n",
       "  'positive': 0.0,\n",
       "  'negative': 0.084,\n",
       "  'neutral': 0.916},\n",
       " {'text': 'Belial came last ; than whom a Spirit more lewd Fell not from Heaven , or more gross to love Vice for itself .',\n",
       "  'compound': 0.0177,\n",
       "  'positive': 0.218,\n",
       "  'negative': 0.216,\n",
       "  'neutral': 0.566},\n",
       " {'text': \"To him no temple stood Or altar smoked ; yet who more oft than he In temples and at altars , when the priest Turns atheist , as did Eli ' s sons , who filled With lust and violence the house of God ?\",\n",
       "  'compound': -0.6369,\n",
       "  'positive': 0.048,\n",
       "  'negative': 0.145,\n",
       "  'neutral': 0.806},\n",
       " {'text': 'In courts and palaces he also reigns , And in luxurious cities , where the noise Of riot ascends above their loftiest towers , And injury and outrage ; and , when night Darkens the streets , then wander forth the sons Of Belial , flown with insolence and wine .',\n",
       "  'compound': -0.8658,\n",
       "  'positive': 0.0,\n",
       "  'negative': 0.195,\n",
       "  'neutral': 0.805},\n",
       " {'text': 'Witness the streets of Sodom , and that night In Gibeah , when the hospitable door Exposed a matron , to avoid worse rape .',\n",
       "  'compound': -0.8834,\n",
       "  'positive': 0.0,\n",
       "  'negative': 0.414,\n",
       "  'neutral': 0.586},\n",
       " {'text': \"These were the prime in order and in might : The rest were long to tell ; though far renowned Th ' Ionian gods -- of Javan ' s issue held Gods , yet confessed later than Heaven and Earth , Their boasted parents ;-- Titan , Heaven ' s first - born , With his enormous brood , and birthright seized By younger Saturn : he from mightier Jove , His own and Rhea ' s son , like measure found ; So Jove usurping reigned .\",\n",
       "  'compound': 0.8442,\n",
       "  'positive': 0.123,\n",
       "  'negative': 0.0,\n",
       "  'neutral': 0.877},\n",
       " {'text': \"These , first in Crete And Ida known , thence on the snowy top Of cold Olympus ruled the middle air , Their highest heaven ; or on the Delphian cliff , Or in Dodona , and through all the bounds Of Doric land ; or who with Saturn old Fled over Adria to th ' Hesperian fields , And o ' er the Celtic roamed the utmost Isles .\",\n",
       "  'compound': 0.6249,\n",
       "  'positive': 0.083,\n",
       "  'negative': 0.0,\n",
       "  'neutral': 0.917},\n",
       " {'text': 'All these and more came flocking ; but with looks Downcast and damp ; yet such wherein appeared Obscure some glimpse of joy to have found their Chief Not in despair , to have found themselves not lost In loss itself ; which on his countenance cast Like doubtful hue .',\n",
       "  'compound': 0.8393,\n",
       "  'positive': 0.256,\n",
       "  'negative': 0.11,\n",
       "  'neutral': 0.633},\n",
       " {'text': 'But he , his wonted pride Soon recollecting , with high words , that bore Semblance of worth , not substance , gently raised Their fainting courage , and dispelled their fears .',\n",
       "  'compound': 0.0567,\n",
       "  'positive': 0.216,\n",
       "  'negative': 0.209,\n",
       "  'neutral': 0.575},\n",
       " {'text': 'Then straight commands that , at the warlike sound Of trumpets loud and clarions , be upreared His mighty standard .',\n",
       "  'compound': 0.2263,\n",
       "  'positive': 0.101,\n",
       "  'negative': 0.0,\n",
       "  'neutral': 0.899},\n",
       " {'text': \"That proud honour claimed Azazel as his right , a Cherub tall : Who forthwith from the glittering staff unfurled Th ' imperial ensign ; which , full high advanced , Shone like a meteor streaming to the wind , With gems and golden lustre rich emblazed , Seraphic arms and trophies ; all the while Sonorous metal blowing martial sounds : At which the universal host up - sent A shout that tore Hell ' s concave , and beyond Frighted the reign of Chaos and old Night .\",\n",
       "  'compound': 0.4939,\n",
       "  'positive': 0.166,\n",
       "  'negative': 0.119,\n",
       "  'neutral': 0.714},\n",
       " {'text': 'All in a moment through the gloom were seen Ten thousand banners rise into the air , With orient colours waving : with them rose A forest huge of spears ; and thronging helms Appeared , and serried shields in thick array Of depth immeasurable .',\n",
       "  'compound': -0.3182,\n",
       "  'positive': 0.054,\n",
       "  'negative': 0.084,\n",
       "  'neutral': 0.862},\n",
       " {'text': 'Anon they move In perfect phalanx to the Dorian mood Of flutes and soft recorders -- such as raised To height of noblest temper heroes old Arming to battle , and instead of rage Deliberate valour breathed , firm , and unmoved With dread of death to flight or foul retreat ; Nor wanting power to mitigate and swage With solemn touches troubled thoughts , and chase Anguish and doubt and fear and sorrow and pain From mortal or immortal minds .',\n",
       "  'compound': -0.9769,\n",
       "  'positive': 0.101,\n",
       "  'negative': 0.34,\n",
       "  'neutral': 0.559},\n",
       " {'text': \"Thus they , Breathing united force with fixed thought , Moved on in silence to soft pipes that charmed Their painful steps o ' er the burnt soil .\",\n",
       "  'compound': 0.4404,\n",
       "  'positive': 0.195,\n",
       "  'negative': 0.098,\n",
       "  'neutral': 0.707},\n",
       " {'text': 'And now Advanced in view they stand -- a horrid front Of dreadful length and dazzling arms , in guise Of warriors old , with ordered spear and shield , Awaiting what command their mighty Chief Had to impose .',\n",
       "  'compound': -0.765,\n",
       "  'positive': 0.048,\n",
       "  'negative': 0.207,\n",
       "  'neutral': 0.745},\n",
       " {'text': 'He through the armed files Darts his experienced eye , and soon traverse The whole battalion views -- their order due , Their visages and stature as of gods ; Their number last he sums .',\n",
       "  'compound': 0.0772,\n",
       "  'positive': 0.04,\n",
       "  'negative': 0.0,\n",
       "  'neutral': 0.96},\n",
       " {'text': \"And now his heart Distends with pride , and , hardening in his strength , Glories : for never , since created Man , Met such embodied force as , named with these , Could merit more than that small infantry Warred on by cranes -- though all the giant brood Of Phlegra with th ' heroic race were joined That fought at Thebes and Ilium , on each side Mixed with auxiliar gods ; and what resounds In fable or romance of Uther ' s son , Begirt with British and Armoric knights ; And all who since , baptized or infidel , Jousted in Aspramont , or Montalban , Damasco , or Marocco , or Trebisond , Or whom Biserta sent from Afric shore When Charlemain with all his peerage fell By Fontarabbia .\",\n",
       "  'compound': 0.9054,\n",
       "  'positive': 0.144,\n",
       "  'negative': 0.057,\n",
       "  'neutral': 0.799},\n",
       " {'text': 'Thus far these beyond Compare of mortal prowess , yet observed Their dread Commander .',\n",
       "  'compound': -0.4588,\n",
       "  'positive': 0.0,\n",
       "  'negative': 0.2,\n",
       "  'neutral': 0.8},\n",
       " {'text': 'He , above the rest In shape and gesture proudly eminent , Stood like a tower .',\n",
       "  'compound': 0.7269,\n",
       "  'positive': 0.357,\n",
       "  'negative': 0.0,\n",
       "  'neutral': 0.643}]"
      ]
     },
     "execution_count": 82,
     "metadata": {},
     "output_type": "execute_result"
    }
   ],
   "source": [
    "sentiments=[]\n",
    "for sentence in paradise:\n",
    "    paradise_lines = \" \".join(sentence)\n",
    "    sentiment = analyzer.polarity_scores(paradise_lines)\n",
    "    #print(paradise_lines, sentiment)    \n",
    "    #sentiment['text'] = paradise_text\n",
    "    #sentiments.append(sentiment)\n",
    "    compound = sentiment[\"compound\"]\n",
    "    pos = sentiment[\"pos\"]\n",
    "    neu = sentiment[\"neu\"]\n",
    "    neg = sentiment[\"neg\"]\n",
    "    sentiments.append({\n",
    "            \"text\":paradise_lines,\n",
    "            \"compound\":compound,\n",
    "            \"positive\":pos,\n",
    "            \"negative\":neg,\n",
    "            \"neutral\":neu\n",
    "    })\n",
    "    \n",
    "sentiments[:100] #printing just the first 100 because the whole text is huge"
   ]
  },
  {
   "cell_type": "code",
   "execution_count": null,
   "metadata": {},
   "outputs": [],
   "source": []
  },
  {
   "cell_type": "code",
   "execution_count": 47,
   "metadata": {},
   "outputs": [],
   "source": [
    "#text_df = pd.DataFrame(sentiments.items(), columns=['Text', 'Compound', 'Positive', 'Negative', 'Neutral'])\n",
    "#sorted(sentiment, key=lambda sentiment: sentiment[\"pos\"]) \n",
    "#sortedkey=lambda sentiment: sentiment['pos']"
   ]
  },
  {
   "cell_type": "code",
   "execution_count": 80,
   "metadata": {},
   "outputs": [
    {
     "data": {
      "text/plain": [
       "[{'text': 'O friends !',\n",
       "  'compound': 0.5255,\n",
       "  'positive': 1.0,\n",
       "  'negative': 0.0,\n",
       "  'neutral': 0.0},\n",
       " {'text': 'O Heaven !',\n",
       "  'compound': 0.5562,\n",
       "  'positive': 1.0,\n",
       "  'negative': 0.0,\n",
       "  'neutral': 0.0},\n",
       " {'text': 'O Friends !',\n",
       "  'compound': 0.5255,\n",
       "  'positive': 1.0,\n",
       "  'negative': 0.0,\n",
       "  'neutral': 0.0},\n",
       " {'text': 'O Heaven !',\n",
       "  'compound': 0.5562,\n",
       "  'positive': 1.0,\n",
       "  'negative': 0.0,\n",
       "  'neutral': 0.0},\n",
       " {'text': 'She fair , divinely fair , fit love for Gods !',\n",
       "  'compound': 0.9381,\n",
       "  'positive': 0.838,\n",
       "  'negative': 0.0,\n",
       "  'neutral': 0.162}]"
      ]
     },
     "execution_count": 80,
     "metadata": {},
     "output_type": "execute_result"
    }
   ],
   "source": [
    "#sorted(sentiment, key=lambda sentiment: sentiment[\"pos\"]) \n",
    "#sortedkey=lambda sentiment: sentiment['pos']\n",
    "#sorting sentiments by the positive sentiment and choosing top5\n",
    "positive = sorted(sentiments, key=lambda k: k['positive'], reverse=True) \n",
    "positive[:5]"
   ]
  },
  {
   "cell_type": "code",
   "execution_count": 81,
   "metadata": {},
   "outputs": [
    {
     "data": {
      "text/plain": [
       "[{'text': 'No !',\n",
       "  'compound': -0.3595,\n",
       "  'positive': 0.0,\n",
       "  'negative': 1.0,\n",
       "  'neutral': 0.0},\n",
       " {'text': 'O Hell !',\n",
       "  'compound': -0.7088,\n",
       "  'positive': 0.0,\n",
       "  'negative': 1.0,\n",
       "  'neutral': 0.0},\n",
       " {'text': 'Alas !',\n",
       "  'compound': -0.3382,\n",
       "  'positive': 0.0,\n",
       "  'negative': 1.0,\n",
       "  'neutral': 0.0},\n",
       " {'text': 'Me miserable !',\n",
       "  'compound': -0.5411,\n",
       "  'positive': 0.0,\n",
       "  'negative': 0.777,\n",
       "  'neutral': 0.223},\n",
       " {'text': 'Sad cure !',\n",
       "  'compound': -0.5255,\n",
       "  'positive': 0.0,\n",
       "  'negative': 0.772,\n",
       "  'neutral': 0.228}]"
      ]
     },
     "execution_count": 81,
     "metadata": {},
     "output_type": "execute_result"
    }
   ],
   "source": [
    "#sorting sentiments by the negqtive sentiment and choosing top5\n",
    "negative = sorted(sentiments, key=lambda k: k['negative'], reverse=True) \n",
    "negative[:5]"
   ]
  },
  {
   "cell_type": "code",
   "execution_count": 46,
   "metadata": {},
   "outputs": [
    {
     "data": {
      "text/plain": [
       "[{'text': 'Book I',\n",
       "  'compound': 0.0,\n",
       "  'positive': 0.0,\n",
       "  'negative': 0.0,\n",
       "  'neutral': 1.0},\n",
       " {'text': 'Oh how unlike the place from whence they fell !',\n",
       "  'compound': 0.0,\n",
       "  'positive': 0.0,\n",
       "  'negative': 0.0,\n",
       "  'neutral': 1.0},\n",
       " {'text': 'But see !',\n",
       "  'compound': 0.0,\n",
       "  'positive': 0.0,\n",
       "  'negative': 0.0,\n",
       "  'neutral': 1.0},\n",
       " {'text': 'Him , haply slumbering on the Norway foam , The pilot of some small night - foundered skiff , Deeming some island , oft , as seamen tell , With fixed anchor in his scaly rind , Moors by his side under the lee , while night Invests the sea , and wished morn delays .',\n",
       "  'compound': 0.0,\n",
       "  'positive': 0.0,\n",
       "  'negative': 0.0,\n",
       "  'neutral': 1.0},\n",
       " {'text': 'Such resting found the sole Of unblest feet .',\n",
       "  'compound': 0.0,\n",
       "  'positive': 0.0,\n",
       "  'negative': 0.0,\n",
       "  'neutral': 1.0}]"
      ]
     },
     "execution_count": 46,
     "metadata": {},
     "output_type": "execute_result"
    }
   ],
   "source": [
    "#sorting sentiments by the neutral sentiment and choosing top5\n",
    "neutral = sorted(sentiments, key=lambda k: k['neutral'], reverse=True) \n",
    "neutral[:5]"
   ]
  },
  {
   "cell_type": "markdown",
   "metadata": {},
   "source": [
    "## 3. Explain your findings from the previous question. Are the sentences and their sentiment analysis scores correct? Explain why or why not. "
   ]
  },
  {
   "cell_type": "markdown",
   "metadata": {},
   "source": [
    "Yes, I'd say the sentiment analysis was correct. For example, the top positive sentiment sentences include words like: friends, heaven, fair, love, God. All these words have positive connotation.\n",
    "\n",
    "We can observe the similar thing with negative sentiment sentences. They include words like: no, hell, alas(an expression of grief, pity, or concern), miserable (unhappy), sad. All these words have negative connotation.\n",
    "\n",
    "The neutral sentiment sentences are pretty accurate too. All the sentences are pretty descriptive and don't imply any emotion behind them. That makes them of a neutral connotation."
   ]
  },
  {
   "cell_type": "code",
   "execution_count": null,
   "metadata": {},
   "outputs": [],
   "source": []
  }
 ],
 "metadata": {
  "kernelspec": {
   "display_name": "Python 3",
   "language": "python",
   "name": "python3"
  },
  "language_info": {
   "codemirror_mode": {
    "name": "ipython",
    "version": 3
   },
   "file_extension": ".py",
   "mimetype": "text/x-python",
   "name": "python",
   "nbconvert_exporter": "python",
   "pygments_lexer": "ipython3",
   "version": "3.8.5"
  }
 },
 "nbformat": 4,
 "nbformat_minor": 4
}
