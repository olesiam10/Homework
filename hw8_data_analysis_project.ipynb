{
 "cells": [
  {
   "cell_type": "code",
   "execution_count": 5,
   "metadata": {},
   "outputs": [],
   "source": [
    "import matplotlib.pyplot as plt\n",
    "import pandas as pd\n",
    "import numpy as np\n",
    "import requests\n",
    "import time\n",
    "from pprint import pprint\n",
    "\n",
    "# Import API key\n",
    "import api_keys"
   ]
  },
  {
   "cell_type": "markdown",
   "metadata": {},
   "source": [
    "## FBI API Data\n",
    "\n",
    "For our analysis, we've picked the FBI data.\n",
    "Main FBI terms used in this dataset:\n",
    "\n",
    "--> LEOKA: Law Enforcement Officers Killed and Assaulted\n",
    "\n",
    "--> NIBRS: National Incident-Based Reporting System"
   ]
  },
  {
   "cell_type": "code",
   "execution_count": 67,
   "metadata": {},
   "outputs": [],
   "source": [
    "project_key = api_keys.data_key\n",
    "base_url = \"https://api.usa.gov/crime/fbi/sapi/api/participation/national?api_key=\" + project_key\n",
    "req = requests.get(base_url).json()\n",
    "#print(req)"
   ]
  },
  {
   "cell_type": "code",
   "execution_count": 7,
   "metadata": {
    "scrolled": false
   },
   "outputs": [],
   "source": [
    "fbi=list(req.values())\n",
    "#print(fbi)\n",
    "#print(fbi[0])\n",
    "\n",
    "#for i in fbi[0]:\n",
    "    #print(i['data_year']) "
   ]
  },
  {
   "cell_type": "code",
   "execution_count": 8,
   "metadata": {},
   "outputs": [
    {
     "data": {
      "text/html": [
       "<div>\n",
       "<style scoped>\n",
       "    .dataframe tbody tr th:only-of-type {\n",
       "        vertical-align: middle;\n",
       "    }\n",
       "\n",
       "    .dataframe tbody tr th {\n",
       "        vertical-align: top;\n",
       "    }\n",
       "\n",
       "    .dataframe thead th {\n",
       "        text-align: right;\n",
       "    }\n",
       "</style>\n",
       "<table border=\"1\" class=\"dataframe\">\n",
       "  <thead>\n",
       "    <tr style=\"text-align: right;\">\n",
       "      <th></th>\n",
       "      <th>data_year</th>\n",
       "      <th>population</th>\n",
       "      <th>total_agency_count</th>\n",
       "      <th>published_agency_count</th>\n",
       "      <th>active_agency_count</th>\n",
       "      <th>covered_agency_count</th>\n",
       "      <th>population_covered</th>\n",
       "      <th>agency_count_nibrs_submitting</th>\n",
       "      <th>agency_count_leoka_submitting</th>\n",
       "      <th>agency_count_pe_submitting</th>\n",
       "      <th>agency_count_srs_submitting</th>\n",
       "      <th>agency_count_asr_submitting</th>\n",
       "      <th>agency_count_hc_submitting</th>\n",
       "      <th>agency_count_supp_submitting</th>\n",
       "      <th>nibrs_population_covered</th>\n",
       "      <th>total_population</th>\n",
       "    </tr>\n",
       "  </thead>\n",
       "  <tbody>\n",
       "    <tr>\n",
       "      <th>0</th>\n",
       "      <td>2019</td>\n",
       "      <td>337556149</td>\n",
       "      <td>18671</td>\n",
       "      <td>14993</td>\n",
       "      <td>22021</td>\n",
       "      <td>16</td>\n",
       "      <td>18660</td>\n",
       "      <td>8536</td>\n",
       "      <td>8356</td>\n",
       "      <td>15004</td>\n",
       "      <td>7786</td>\n",
       "      <td>11788</td>\n",
       "      <td>15520</td>\n",
       "      <td>15643</td>\n",
       "      <td>146950904</td>\n",
       "      <td>337556149</td>\n",
       "    </tr>\n",
       "    <tr>\n",
       "      <th>1</th>\n",
       "      <td>2018</td>\n",
       "      <td>336536616</td>\n",
       "      <td>18560</td>\n",
       "      <td>15236</td>\n",
       "      <td>21896</td>\n",
       "      <td>39</td>\n",
       "      <td>18737</td>\n",
       "      <td>7777</td>\n",
       "      <td>7122</td>\n",
       "      <td>15247</td>\n",
       "      <td>8200</td>\n",
       "      <td>13057</td>\n",
       "      <td>16107</td>\n",
       "      <td>15615</td>\n",
       "      <td>129148182</td>\n",
       "      <td>336536616</td>\n",
       "    </tr>\n",
       "    <tr>\n",
       "      <th>2</th>\n",
       "      <td>2017</td>\n",
       "      <td>335231625</td>\n",
       "      <td>18448</td>\n",
       "      <td>16393</td>\n",
       "      <td>21764</td>\n",
       "      <td>29</td>\n",
       "      <td>51097</td>\n",
       "      <td>7148</td>\n",
       "      <td>6680</td>\n",
       "      <td>16399</td>\n",
       "      <td>9381</td>\n",
       "      <td>13684</td>\n",
       "      <td>16285</td>\n",
       "      <td>15578</td>\n",
       "      <td>109218573</td>\n",
       "      <td>335231625</td>\n",
       "    </tr>\n",
       "    <tr>\n",
       "      <th>3</th>\n",
       "      <td>2016</td>\n",
       "      <td>329242793</td>\n",
       "      <td>18466</td>\n",
       "      <td>16921</td>\n",
       "      <td>21625</td>\n",
       "      <td>28</td>\n",
       "      <td>111631</td>\n",
       "      <td>7083</td>\n",
       "      <td>6388</td>\n",
       "      <td>16927</td>\n",
       "      <td>9986</td>\n",
       "      <td>13661</td>\n",
       "      <td>15940</td>\n",
       "      <td>15785</td>\n",
       "      <td>105287171</td>\n",
       "      <td>329242793</td>\n",
       "    </tr>\n",
       "    <tr>\n",
       "      <th>4</th>\n",
       "      <td>2015</td>\n",
       "      <td>327511036</td>\n",
       "      <td>18435</td>\n",
       "      <td>16813</td>\n",
       "      <td>21551</td>\n",
       "      <td>20</td>\n",
       "      <td>40665</td>\n",
       "      <td>6823</td>\n",
       "      <td>6223</td>\n",
       "      <td>16815</td>\n",
       "      <td>10102</td>\n",
       "      <td>13434</td>\n",
       "      <td>15096</td>\n",
       "      <td>15655</td>\n",
       "      <td>99789318</td>\n",
       "      <td>327511036</td>\n",
       "    </tr>\n",
       "  </tbody>\n",
       "</table>\n",
       "</div>"
      ],
      "text/plain": [
       "   data_year  population  total_agency_count  published_agency_count  \\\n",
       "0       2019   337556149               18671                   14993   \n",
       "1       2018   336536616               18560                   15236   \n",
       "2       2017   335231625               18448                   16393   \n",
       "3       2016   329242793               18466                   16921   \n",
       "4       2015   327511036               18435                   16813   \n",
       "\n",
       "   active_agency_count  covered_agency_count  population_covered  \\\n",
       "0                22021                    16               18660   \n",
       "1                21896                    39               18737   \n",
       "2                21764                    29               51097   \n",
       "3                21625                    28              111631   \n",
       "4                21551                    20               40665   \n",
       "\n",
       "   agency_count_nibrs_submitting  agency_count_leoka_submitting  \\\n",
       "0                           8536                           8356   \n",
       "1                           7777                           7122   \n",
       "2                           7148                           6680   \n",
       "3                           7083                           6388   \n",
       "4                           6823                           6223   \n",
       "\n",
       "   agency_count_pe_submitting  agency_count_srs_submitting  \\\n",
       "0                       15004                         7786   \n",
       "1                       15247                         8200   \n",
       "2                       16399                         9381   \n",
       "3                       16927                         9986   \n",
       "4                       16815                        10102   \n",
       "\n",
       "   agency_count_asr_submitting  agency_count_hc_submitting  \\\n",
       "0                        11788                       15520   \n",
       "1                        13057                       16107   \n",
       "2                        13684                       16285   \n",
       "3                        13661                       15940   \n",
       "4                        13434                       15096   \n",
       "\n",
       "   agency_count_supp_submitting  nibrs_population_covered  total_population  \n",
       "0                         15643                 146950904         337556149  \n",
       "1                         15615                 129148182         336536616  \n",
       "2                         15578                 109218573         335231625  \n",
       "3                         15785                 105287171         329242793  \n",
       "4                         15655                  99789318         327511036  "
      ]
     },
     "execution_count": 8,
     "metadata": {},
     "output_type": "execute_result"
    }
   ],
   "source": [
    "fbi_data = {\"data_year\":[],\n",
    "        \"population\":[],\n",
    "        \"total_agency_count\" : [],\n",
    "        \"published_agency_count\" : [],\n",
    "        \"active_agency_count\" : [],\n",
    "        \"covered_agency_count\" : [],\n",
    "        \"population_covered\" : [],\n",
    "        \"agency_count_nibrs_submitting\" : [],\n",
    "        \"agency_count_leoka_submitting\" : [],\n",
    "        \"agency_count_pe_submitting\" : [],\n",
    "        \"agency_count_srs_submitting\" : [],\n",
    "        \"agency_count_asr_submitting\" : [],\n",
    "        \"agency_count_hc_submitting\" : [],\n",
    "        \"agency_count_supp_submitting\" : [],\n",
    "        \"nibrs_population_covered\" : [],\n",
    "        \"total_population\" : []}\n",
    "\n",
    "for i in fbi[0]:\n",
    "    fbi_data[\"data_year\"].append(i['data_year'])\n",
    "    fbi_data[\"population\"].append(i['population'])\n",
    "    fbi_data[\"total_agency_count\"].append(i['total_agency_count'])\n",
    "    fbi_data[\"published_agency_count\"].append(i['published_agency_count'])\n",
    "    fbi_data[\"active_agency_count\"].append(i['active_agency_count'])\n",
    "    fbi_data[\"covered_agency_count\"].append(i['covered_agency_count'])\n",
    "    fbi_data[\"population_covered\"].append(i['population_covered'])\n",
    "    fbi_data[\"agency_count_nibrs_submitting\"].append(i['agency_count_nibrs_submitting'])\n",
    "    fbi_data[\"agency_count_leoka_submitting\"].append(i['agency_count_leoka_submitting'])\n",
    "    fbi_data[\"agency_count_pe_submitting\"].append(i['agency_count_pe_submitting'])\n",
    "    fbi_data[\"agency_count_srs_submitting\"].append(i['agency_count_srs_submitting'])\n",
    "    fbi_data[\"agency_count_asr_submitting\"].append(i['agency_count_asr_submitting'])\n",
    "    fbi_data[\"agency_count_hc_submitting\"].append(i['agency_count_hc_submitting'])\n",
    "    fbi_data[\"agency_count_supp_submitting\"].append(i['agency_count_supp_submitting'])\n",
    "    fbi_data[\"nibrs_population_covered\"].append(i['nibrs_population_covered'])\n",
    "    fbi_data[\"total_population\"].append(i['total_population'])\n",
    "\n",
    "\n",
    "fbi_data_df = pd.DataFrame.from_dict(fbi_data)\n",
    "fbi_data_df.head(5)"
   ]
  },
  {
   "cell_type": "markdown",
   "metadata": {},
   "source": [
    "## 2 Hypothesis\n",
    "\n",
    "1) Compared to last 2 decades of the 20th century (1980-2000), the count of population covered by the FBI \n",
    "increased by 20% in the first 2 decades of the 21st century (2000-2019)\n",
    "\n",
    "\n",
    "2) Compared to the previous 5 years (2010 - 2014), the percentage of officers who got killed or assaulted increased\n",
    "in the last 5 years (2015-2019) due to the increased amount of the illegal weapons\n"
   ]
  },
  {
   "cell_type": "markdown",
   "metadata": {},
   "source": [
    "## Hypothesis 1 - Analysis"
   ]
  },
  {
   "cell_type": "code",
   "execution_count": 9,
   "metadata": {},
   "outputs": [],
   "source": [
    "hyp1_df = fbi_data_df[0:40]\n",
    "first_decade=fbi_data_df[0:19] #selecting all data that belongs to the first 2 decades of 21st century\n",
    "first_decade_covered_population = first_decade[\"nibrs_population_covered\"].sum()\n",
    "first_decade_total_population = first_decade[\"population\"].sum()"
   ]
  },
  {
   "cell_type": "code",
   "execution_count": 10,
   "metadata": {},
   "outputs": [],
   "source": [
    "first_decade_percent = first_decade_covered_population/first_decade_total_population"
   ]
  },
  {
   "cell_type": "code",
   "execution_count": 29,
   "metadata": {},
   "outputs": [
    {
     "data": {
      "text/plain": [
       "0.27979465476066495"
      ]
     },
     "execution_count": 29,
     "metadata": {},
     "output_type": "execute_result"
    }
   ],
   "source": [
    "first_decade_percent"
   ]
  },
  {
   "cell_type": "code",
   "execution_count": 11,
   "metadata": {},
   "outputs": [],
   "source": [
    "second_decade = fbi_data_df[20:40] #selecting all data that belongs to the last 2 decades of 20st century"
   ]
  },
  {
   "cell_type": "code",
   "execution_count": 12,
   "metadata": {},
   "outputs": [],
   "source": [
    "second_decade_covered_population = second_decade[\"nibrs_population_covered\"].sum()\n",
    "second_decade_total_population = second_decade[\"population\"].sum()"
   ]
  },
  {
   "cell_type": "code",
   "execution_count": 13,
   "metadata": {},
   "outputs": [],
   "source": [
    "second_decade_percent = second_decade_covered_population/second_decade_total_population"
   ]
  },
  {
   "cell_type": "code",
   "execution_count": 14,
   "metadata": {},
   "outputs": [
    {
     "data": {
      "text/plain": [
       "0.04200547338570496"
      ]
     },
     "execution_count": 14,
     "metadata": {},
     "output_type": "execute_result"
    }
   ],
   "source": [
    "second_decade_percent"
   ]
  },
  {
   "cell_type": "code",
   "execution_count": 34,
   "metadata": {},
   "outputs": [],
   "source": [
    "#increase = first_decade_percent - second_decade_percent"
   ]
  },
  {
   "cell_type": "code",
   "execution_count": 15,
   "metadata": {},
   "outputs": [],
   "source": [
    "fbi_hyp1 = {\"Covered population\": [second_decade_covered_population, first_decade_covered_population] ,\n",
    "            \"Total population\": [second_decade_total_population, first_decade_total_population],\n",
    "            \"Covered percent\": [second_decade_percent, first_decade_percent]}\n",
    "\n",
    "fbi_hyp1_df = pd.DataFrame(fbi_hyp1, index = [1,2])"
   ]
  },
  {
   "cell_type": "markdown",
   "metadata": {},
   "source": [
    "## Hypothesis 1 - Visualization 1\n",
    "Based on the bar chart below, the population covered by the NIBRS (National Incident-Based Reporting System) increased by 566.099% in the last 2 decades (2000-2019) compared to the previous 2 decades (1980-2000).\n"
   ]
  },
  {
   "cell_type": "code",
   "execution_count": 16,
   "metadata": {},
   "outputs": [
    {
     "data": {
      "text/html": [
       "<div>\n",
       "<style scoped>\n",
       "    .dataframe tbody tr th:only-of-type {\n",
       "        vertical-align: middle;\n",
       "    }\n",
       "\n",
       "    .dataframe tbody tr th {\n",
       "        vertical-align: top;\n",
       "    }\n",
       "\n",
       "    .dataframe thead th {\n",
       "        text-align: right;\n",
       "    }\n",
       "</style>\n",
       "<table border=\"1\" class=\"dataframe\">\n",
       "  <thead>\n",
       "    <tr style=\"text-align: right;\">\n",
       "      <th></th>\n",
       "      <th>Covered population</th>\n",
       "      <th>Total population</th>\n",
       "      <th>Covered percent</th>\n",
       "    </tr>\n",
       "  </thead>\n",
       "  <tbody>\n",
       "    <tr>\n",
       "      <th>1</th>\n",
       "      <td>213416681</td>\n",
       "      <td>5080687439</td>\n",
       "      <td>0.042005</td>\n",
       "    </tr>\n",
       "    <tr>\n",
       "      <th>2</th>\n",
       "      <td>1671895631</td>\n",
       "      <td>5975438067</td>\n",
       "      <td>0.279795</td>\n",
       "    </tr>\n",
       "  </tbody>\n",
       "</table>\n",
       "</div>"
      ],
      "text/plain": [
       "   Covered population  Total population  Covered percent\n",
       "1           213416681        5080687439         0.042005\n",
       "2          1671895631        5975438067         0.279795"
      ]
     },
     "execution_count": 16,
     "metadata": {},
     "output_type": "execute_result"
    }
   ],
   "source": [
    "fbi_hyp1_df"
   ]
  },
  {
   "cell_type": "code",
   "execution_count": 18,
   "metadata": {},
   "outputs": [
    {
     "data": {
      "text/plain": [
       "566.0992738959648"
      ]
     },
     "execution_count": 18,
     "metadata": {},
     "output_type": "execute_result"
    }
   ],
   "source": [
    "#calculation the % change using this formula: % increase = Increase ÷ Original Number × 100.\n",
    "increase = 0.279795 - 0.042005\n",
    "finalNum = (0.23779/0.042005)*100\n",
    "finalNum"
   ]
  },
  {
   "cell_type": "code",
   "execution_count": null,
   "metadata": {},
   "outputs": [],
   "source": []
  },
  {
   "cell_type": "code",
   "execution_count": 19,
   "metadata": {},
   "outputs": [
    {
     "data": {
      "image/png": "[encoded data removed]",
      "text/plain": [
       "<Figure size 432x288 with 1 Axes>"
      ]
     },
     "metadata": {
      "needs_background": "light"
     },
     "output_type": "display_data"
    }
   ],
   "source": [
    "import seaborn as sns\n",
    "labels = [\"1980-2000\", \"2000-2019\"]\n",
    "sns.barplot(x= labels, y=fbi_hyp1_df[\"Covered percent\"])\n",
    "plt.title(\"Nibrs Covered Poplutation in 1980-2000 vs 2000-2019\")\n",
    "plt.show()"
   ]
  },
  {
   "cell_type": "markdown",
   "metadata": {},
   "source": [
    "## Hypothesis 1 - Visualization 2\n",
    "Based on the scatterplot below, we can see that up until the population reached 250 million, the nibrs (National Incident-Based Reporting System) was 0, and from that poin it started to steadily grow until the present days. During the last few years it grew very quickly."
   ]
  },
  {
   "cell_type": "code",
   "execution_count": 66,
   "metadata": {},
   "outputs": [
    {
     "data": {
      "image/png": "[encoded data removed]",
      "text/plain": [
       "<Figure size 432x288 with 1 Axes>"
      ]
     },
     "metadata": {
      "needs_background": "light"
     },
     "output_type": "display_data"
    }
   ],
   "source": [
    "import seaborn as sns\n",
    "sns.scatterplot(x = hyp1_df[\"population\"], y = hyp1_df[\"nibrs_population_covered\"], hue = hyp1_df[\"nibrs_population_covered\"]  )\n",
    "sns.lineplot(x = hyp1_df[\"population\"], y = hyp1_df[\"nibrs_population_covered\"], color = 'blue' )\n",
    "plt.title(\"Nibrs Covered Population Over the Last 4 Decades\")\n",
    "plt.title(\"Nibrs Covered Population Over the Last 4 Decades\")\n",
    "plt.show() "
   ]
  },
  {
   "cell_type": "markdown",
   "metadata": {},
   "source": [
    "## Hypothesis 2 - Analysis"
   ]
  },
  {
   "cell_type": "code",
   "execution_count": 22,
   "metadata": {},
   "outputs": [],
   "source": [
    "# hypothesis 2 : Compared to the previous 5 years (2010 - 2014), the percentage of officers who got killed\n",
    "#or assaulted increased in the last 5 years (2015-2019) due to the increased amount of the illegal weapons\n",
    "hyp2_df = fbi_data_df[0:10]\n",
    "first_five=fbi_data_df[0:5]\n",
    "second_five=fbi_data_df[5:10]\n",
    "sum1 = fbi_data_df[\"population\"].iloc[0] - fbi_data_df['population'].iloc[5]\n",
    "sum2 = fbi_data_df[\"population\"].iloc[5] - fbi_data_df['population'].iloc[10]\n",
    "#summing the agency_count_leoka_submitting column for each time segment\n",
    "first_leoka = np.average(first_five[\"agency_count_leoka_submitting\"])\n",
    "second_leoka = np.average(second_five[\"agency_count_leoka_submitting\"])\n",
    "first_total = np.average(first_five[\"population\"])\n",
    "second_total = np.average(second_five[\"population\"])\n",
    "first_percent_leoka = (first_leoka/sum1)*100\n",
    "second_percent_leoka = (second_leoka/sum2)*100\n",
    "fbi_hyp2 = {\"Leoka\": [first_leoka,second_leoka] ,\n",
    "            \"Total Population increase\": [sum1, sum2],\n",
    "            \"Leoka Percent\": [first_percent_leoka, second_percent_leoka]}\n",
    "fbi_hyp2_df = pd.DataFrame(fbi_hyp2, index = [1,2])\n",
    "#30.33 % increase in average leoka per population increase in last 5 years (2015-2019)\n",
    "#compared to previous 5 years (2010-2014)."
   ]
  },
  {
   "cell_type": "markdown",
   "metadata": {},
   "source": [
    "## Hypothesis 2 - Visualization 1\n",
    "Based on the bar chart below, there was a 30.33% increase in leoka(Law Enforcement Officers Killed and Assaulted) cases per population in the last five years (2015-2019) compared to the previous 5 years (2010-2014)"
   ]
  },
  {
   "cell_type": "code",
   "execution_count": 23,
   "metadata": {},
   "outputs": [
    {
     "data": {
      "text/html": [
       "<div>\n",
       "<style scoped>\n",
       "    .dataframe tbody tr th:only-of-type {\n",
       "        vertical-align: middle;\n",
       "    }\n",
       "\n",
       "    .dataframe tbody tr th {\n",
       "        vertical-align: top;\n",
       "    }\n",
       "\n",
       "    .dataframe thead th {\n",
       "        text-align: right;\n",
       "    }\n",
       "</style>\n",
       "<table border=\"1\" class=\"dataframe\">\n",
       "  <thead>\n",
       "    <tr style=\"text-align: right;\">\n",
       "      <th></th>\n",
       "      <th>Leoka</th>\n",
       "      <th>Total Population increase</th>\n",
       "      <th>Leoka Percent</th>\n",
       "    </tr>\n",
       "  </thead>\n",
       "  <tbody>\n",
       "    <tr>\n",
       "      <th>1</th>\n",
       "      <td>6953.8</td>\n",
       "      <td>12821050</td>\n",
       "      <td>0.054237</td>\n",
       "    </tr>\n",
       "    <tr>\n",
       "      <th>2</th>\n",
       "      <td>5148.4</td>\n",
       "      <td>12371716</td>\n",
       "      <td>0.041614</td>\n",
       "    </tr>\n",
       "  </tbody>\n",
       "</table>\n",
       "</div>"
      ],
      "text/plain": [
       "    Leoka  Total Population increase  Leoka Percent\n",
       "1  6953.8                   12821050       0.054237\n",
       "2  5148.4                   12371716       0.041614"
      ]
     },
     "execution_count": 23,
     "metadata": {},
     "output_type": "execute_result"
    }
   ],
   "source": [
    "fbi_hyp2_df #dataframe with analysis"
   ]
  },
  {
   "cell_type": "code",
   "execution_count": 25,
   "metadata": {},
   "outputs": [
    {
     "data": {
      "image/png": "[encoded data removed]",
      "text/plain": [
       "<Figure size 432x288 with 1 Axes>"
      ]
     },
     "metadata": {
      "needs_background": "light"
     },
     "output_type": "display_data"
    }
   ],
   "source": [
    "plt.bar(['2010-2014', '2015-2019'], [0.041614, 0.054237], label = \"plot\")\n",
    "plt.xlabel('5 years periods')\n",
    "plt.ylabel('Leoka')\n",
    "plt.title('Leoka Over Last 10 Years')\n",
    "plt.show()"
   ]
  },
  {
   "cell_type": "markdown",
   "metadata": {},
   "source": [
    "## Hypothesis 2 - Visualization 2\n",
    "The scatterplot below displays the increase of leoka cases over the period of last 10 years."
   ]
  },
  {
   "cell_type": "code",
   "execution_count": 49,
   "metadata": {},
   "outputs": [
    {
     "data": {
      "image/png": "[encoded data removed]",
      "text/plain": [
       "<Figure size 432x288 with 1 Axes>"
      ]
     },
     "metadata": {
      "needs_background": "light"
     },
     "output_type": "display_data"
    }
   ],
   "source": [
    "fig, ax = plt.subplots()\n",
    "ax.scatter(hyp2_df[\"population\"],hyp2_df[\"agency_count_leoka_submitting\"])\n",
    "ax.plot(hyp2_df[\"population\"],hyp2_df[\"agency_count_leoka_submitting\"])\n",
    "ax.set_xlabel(\"Total Population\")\n",
    "ax.set_ylabel(\"Leoka\")\n",
    "ax.set_title(\"Leoka vs Total Population Over Last 10 Years\")\n",
    "plt.show()"
   ]
  },
  {
   "cell_type": "code",
   "execution_count": null,
   "metadata": {},
   "outputs": [],
   "source": []
  }
 ],
 "metadata": {
  "kernelspec": {
   "display_name": "Python 3",
   "language": "python",
   "name": "python3"
  },
  "language_info": {
   "codemirror_mode": {
    "name": "ipython",
    "version": 3
   },
   "file_extension": ".py",
   "mimetype": "text/x-python",
   "name": "python",
   "nbconvert_exporter": "python",
   "pygments_lexer": "ipython3",
   "version": "3.8.5"
  }
 },
 "nbformat": 4,
 "nbformat_minor": 4
}
