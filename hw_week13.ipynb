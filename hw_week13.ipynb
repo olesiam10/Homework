{
 "cells": [
  {
   "attachments": {},
   "cell_type": "markdown",
   "metadata": {},
   "source": [
    "## 1.\n",
    "Download the dataset here: https://www.kaggle.com/sohier/calcofi and create one DataFrame for the bottle file and another for the cast file. Perform preprocessing on this dataset. You do not need to do all six types of preprocessing we discussed. For this dataset, 2-3 is all you need."
   ]
  },
  {
   "cell_type": "code",
   "execution_count": 77,
   "metadata": {},
   "outputs": [
    {
     "name": "stderr",
     "output_type": "stream",
     "text": [
      "/Users/olesiamukha/opt/anaconda3/lib/python3.8/site-packages/IPython/core/interactiveshell.py:3146: DtypeWarning: Columns (40,41,44,45,46,47) have mixed types.Specify dtype option on import or set low_memory=False.\n",
      "  has_raised = await self.run_ast_nodes(code_ast.body, cell_name,\n"
     ]
    }
   ],
   "source": [
    "import pandas as pd\n",
    "import numpy as np\n",
    "import matplotlib.pyplot as plt\n",
    "\n",
    "import statistics as stats\n",
    "from scipy import stats\n",
    "\n",
    "#loading cast dataset\n",
    "file_to_load = \"cast.csv\"\n",
    "\n",
    "# Read Purchasing File and store into Pandas data frame\n",
    "cast_df = pd.read_csv(file_to_load)"
   ]
  },
  {
   "cell_type": "code",
   "execution_count": 78,
   "metadata": {},
   "outputs": [
    {
     "data": {
      "text/html": [
       "<div>\n",
       "<style scoped>\n",
       "    .dataframe tbody tr th:only-of-type {\n",
       "        vertical-align: middle;\n",
       "    }\n",
       "\n",
       "    .dataframe tbody tr th {\n",
       "        vertical-align: top;\n",
       "    }\n",
       "\n",
       "    .dataframe thead th {\n",
       "        text-align: right;\n",
       "    }\n",
       "</style>\n",
       "<table border=\"1\" class=\"dataframe\">\n",
       "  <thead>\n",
       "    <tr style=\"text-align: right;\">\n",
       "      <th></th>\n",
       "      <th>Cst_Cnt</th>\n",
       "      <th>Cruise_ID</th>\n",
       "      <th>Cruise</th>\n",
       "      <th>Cruz_Sta</th>\n",
       "      <th>DbSta_ID</th>\n",
       "      <th>Cast_ID</th>\n",
       "      <th>Sta_ID</th>\n",
       "      <th>Quarter</th>\n",
       "      <th>Sta_Code</th>\n",
       "      <th>Distance</th>\n",
       "      <th>...</th>\n",
       "      <th>Wave_Prd</th>\n",
       "      <th>Wind_Dir</th>\n",
       "      <th>Wind_Spd</th>\n",
       "      <th>Barometer</th>\n",
       "      <th>Dry_T</th>\n",
       "      <th>Wet_T</th>\n",
       "      <th>Wea</th>\n",
       "      <th>Cloud_Typ</th>\n",
       "      <th>Cloud_Amt</th>\n",
       "      <th>Visibility</th>\n",
       "    </tr>\n",
       "  </thead>\n",
       "  <tbody>\n",
       "    <tr>\n",
       "      <th>0</th>\n",
       "      <td>1</td>\n",
       "      <td>1949-03-01-C-31CR</td>\n",
       "      <td>194903</td>\n",
       "      <td>19490305400560</td>\n",
       "      <td>5400560</td>\n",
       "      <td>19-4903CR-HY-060-0930-05400560</td>\n",
       "      <td>054.0 056.0</td>\n",
       "      <td>1</td>\n",
       "      <td>NST</td>\n",
       "      <td>NaN</td>\n",
       "      <td>...</td>\n",
       "      <td>NaN</td>\n",
       "      <td>23.0</td>\n",
       "      <td>18.0</td>\n",
       "      <td>NaN</td>\n",
       "      <td>NaN</td>\n",
       "      <td>NaN</td>\n",
       "      <td>2.0</td>\n",
       "      <td>NaN</td>\n",
       "      <td>NaN</td>\n",
       "      <td>NaN</td>\n",
       "    </tr>\n",
       "    <tr>\n",
       "      <th>1</th>\n",
       "      <td>2</td>\n",
       "      <td>1949-03-01-C-31CR</td>\n",
       "      <td>194903</td>\n",
       "      <td>19490305200750</td>\n",
       "      <td>5200750</td>\n",
       "      <td>19-4903CR-HY-060-2112-05200750</td>\n",
       "      <td>052.0 075.0</td>\n",
       "      <td>1</td>\n",
       "      <td>NST</td>\n",
       "      <td>NaN</td>\n",
       "      <td>...</td>\n",
       "      <td>NaN</td>\n",
       "      <td>16.0</td>\n",
       "      <td>5.0</td>\n",
       "      <td>NaN</td>\n",
       "      <td>NaN</td>\n",
       "      <td>NaN</td>\n",
       "      <td>4.0</td>\n",
       "      <td>NaN</td>\n",
       "      <td>NaN</td>\n",
       "      <td>NaN</td>\n",
       "    </tr>\n",
       "    <tr>\n",
       "      <th>2</th>\n",
       "      <td>3</td>\n",
       "      <td>1949-03-01-C-31CR</td>\n",
       "      <td>194903</td>\n",
       "      <td>19490305100850</td>\n",
       "      <td>5100850</td>\n",
       "      <td>19-4903CR-HY-061-0354-05100850</td>\n",
       "      <td>051.0 085.0</td>\n",
       "      <td>1</td>\n",
       "      <td>NST</td>\n",
       "      <td>NaN</td>\n",
       "      <td>...</td>\n",
       "      <td>NaN</td>\n",
       "      <td>23.0</td>\n",
       "      <td>5.0</td>\n",
       "      <td>NaN</td>\n",
       "      <td>NaN</td>\n",
       "      <td>NaN</td>\n",
       "      <td>6.0</td>\n",
       "      <td>NaN</td>\n",
       "      <td>NaN</td>\n",
       "      <td>NaN</td>\n",
       "    </tr>\n",
       "    <tr>\n",
       "      <th>3</th>\n",
       "      <td>4</td>\n",
       "      <td>1949-03-01-C-31CR</td>\n",
       "      <td>194903</td>\n",
       "      <td>19490305000950</td>\n",
       "      <td>5000950</td>\n",
       "      <td>19-4903CR-HY-061-1042-05000950</td>\n",
       "      <td>050.0 095.0</td>\n",
       "      <td>1</td>\n",
       "      <td>NST</td>\n",
       "      <td>NaN</td>\n",
       "      <td>...</td>\n",
       "      <td>NaN</td>\n",
       "      <td>18.0</td>\n",
       "      <td>8.0</td>\n",
       "      <td>NaN</td>\n",
       "      <td>NaN</td>\n",
       "      <td>NaN</td>\n",
       "      <td>2.0</td>\n",
       "      <td>NaN</td>\n",
       "      <td>NaN</td>\n",
       "      <td>NaN</td>\n",
       "    </tr>\n",
       "    <tr>\n",
       "      <th>4</th>\n",
       "      <td>5</td>\n",
       "      <td>1949-03-01-C-31CR</td>\n",
       "      <td>194903</td>\n",
       "      <td>19490305001040</td>\n",
       "      <td>5001040</td>\n",
       "      <td>19-4903CR-HY-061-1706-05001040</td>\n",
       "      <td>050.0 104.0</td>\n",
       "      <td>1</td>\n",
       "      <td>NST</td>\n",
       "      <td>NaN</td>\n",
       "      <td>...</td>\n",
       "      <td>NaN</td>\n",
       "      <td>27.0</td>\n",
       "      <td>13.0</td>\n",
       "      <td>NaN</td>\n",
       "      <td>NaN</td>\n",
       "      <td>NaN</td>\n",
       "      <td>7.0</td>\n",
       "      <td>NaN</td>\n",
       "      <td>NaN</td>\n",
       "      <td>NaN</td>\n",
       "    </tr>\n",
       "  </tbody>\n",
       "</table>\n",
       "<p>5 rows × 61 columns</p>\n",
       "</div>"
      ],
      "text/plain": [
       "   Cst_Cnt          Cruise_ID  Cruise        Cruz_Sta  DbSta_ID  \\\n",
       "0        1  1949-03-01-C-31CR  194903  19490305400560   5400560   \n",
       "1        2  1949-03-01-C-31CR  194903  19490305200750   5200750   \n",
       "2        3  1949-03-01-C-31CR  194903  19490305100850   5100850   \n",
       "3        4  1949-03-01-C-31CR  194903  19490305000950   5000950   \n",
       "4        5  1949-03-01-C-31CR  194903  19490305001040   5001040   \n",
       "\n",
       "                          Cast_ID       Sta_ID  Quarter Sta_Code  Distance  \\\n",
       "0  19-4903CR-HY-060-0930-05400560  054.0 056.0        1      NST       NaN   \n",
       "1  19-4903CR-HY-060-2112-05200750  052.0 075.0        1      NST       NaN   \n",
       "2  19-4903CR-HY-061-0354-05100850  051.0 085.0        1      NST       NaN   \n",
       "3  19-4903CR-HY-061-1042-05000950  050.0 095.0        1      NST       NaN   \n",
       "4  19-4903CR-HY-061-1706-05001040  050.0 104.0        1      NST       NaN   \n",
       "\n",
       "   ... Wave_Prd  Wind_Dir  Wind_Spd  Barometer  Dry_T Wet_T  Wea  Cloud_Typ  \\\n",
       "0  ...      NaN      23.0      18.0        NaN    NaN   NaN  2.0        NaN   \n",
       "1  ...      NaN      16.0       5.0        NaN    NaN   NaN  4.0        NaN   \n",
       "2  ...      NaN      23.0       5.0        NaN    NaN   NaN  6.0        NaN   \n",
       "3  ...      NaN      18.0       8.0        NaN    NaN   NaN  2.0        NaN   \n",
       "4  ...      NaN      27.0      13.0        NaN    NaN   NaN  7.0        NaN   \n",
       "\n",
       "   Cloud_Amt Visibility  \n",
       "0        NaN        NaN  \n",
       "1        NaN        NaN  \n",
       "2        NaN        NaN  \n",
       "3        NaN        NaN  \n",
       "4        NaN        NaN  \n",
       "\n",
       "[5 rows x 61 columns]"
      ]
     },
     "execution_count": 78,
     "metadata": {},
     "output_type": "execute_result"
    }
   ],
   "source": [
    "cast_df.head()"
   ]
  },
  {
   "cell_type": "code",
   "execution_count": 79,
   "metadata": {},
   "outputs": [
    {
     "name": "stderr",
     "output_type": "stream",
     "text": [
      "/Users/olesiamukha/opt/anaconda3/lib/python3.8/site-packages/IPython/core/interactiveshell.py:3146: DtypeWarning: Columns (47,73) have mixed types.Specify dtype option on import or set low_memory=False.\n",
      "  has_raised = await self.run_ast_nodes(code_ast.body, cell_name,\n"
     ]
    }
   ],
   "source": [
    "#loading bottle dataset\n",
    "file_to_load2 = \"bottle.csv\"\n",
    "\n",
    "# Read Purchasing File and store into Pandas data frame\n",
    "bottle_df = pd.read_csv(file_to_load2)"
   ]
  },
  {
   "cell_type": "code",
   "execution_count": 80,
   "metadata": {},
   "outputs": [
    {
     "data": {
      "text/html": [
       "<div>\n",
       "<style scoped>\n",
       "    .dataframe tbody tr th:only-of-type {\n",
       "        vertical-align: middle;\n",
       "    }\n",
       "\n",
       "    .dataframe tbody tr th {\n",
       "        vertical-align: top;\n",
       "    }\n",
       "\n",
       "    .dataframe thead th {\n",
       "        text-align: right;\n",
       "    }\n",
       "</style>\n",
       "<table border=\"1\" class=\"dataframe\">\n",
       "  <thead>\n",
       "    <tr style=\"text-align: right;\">\n",
       "      <th></th>\n",
       "      <th>Cst_Cnt</th>\n",
       "      <th>Btl_Cnt</th>\n",
       "      <th>Sta_ID</th>\n",
       "      <th>Depth_ID</th>\n",
       "      <th>Depthm</th>\n",
       "      <th>T_degC</th>\n",
       "      <th>Salnty</th>\n",
       "      <th>O2ml_L</th>\n",
       "      <th>STheta</th>\n",
       "      <th>O2Sat</th>\n",
       "      <th>...</th>\n",
       "      <th>R_PHAEO</th>\n",
       "      <th>R_PRES</th>\n",
       "      <th>R_SAMP</th>\n",
       "      <th>DIC1</th>\n",
       "      <th>DIC2</th>\n",
       "      <th>TA1</th>\n",
       "      <th>TA2</th>\n",
       "      <th>pH2</th>\n",
       "      <th>pH1</th>\n",
       "      <th>DIC Quality Comment</th>\n",
       "    </tr>\n",
       "  </thead>\n",
       "  <tbody>\n",
       "    <tr>\n",
       "      <th>0</th>\n",
       "      <td>1</td>\n",
       "      <td>1</td>\n",
       "      <td>054.0 056.0</td>\n",
       "      <td>19-4903CR-HY-060-0930-05400560-0000A-3</td>\n",
       "      <td>0</td>\n",
       "      <td>10.50</td>\n",
       "      <td>33.440</td>\n",
       "      <td>NaN</td>\n",
       "      <td>25.649</td>\n",
       "      <td>NaN</td>\n",
       "      <td>...</td>\n",
       "      <td>NaN</td>\n",
       "      <td>0</td>\n",
       "      <td>NaN</td>\n",
       "      <td>NaN</td>\n",
       "      <td>NaN</td>\n",
       "      <td>NaN</td>\n",
       "      <td>NaN</td>\n",
       "      <td>NaN</td>\n",
       "      <td>NaN</td>\n",
       "      <td>NaN</td>\n",
       "    </tr>\n",
       "    <tr>\n",
       "      <th>1</th>\n",
       "      <td>1</td>\n",
       "      <td>2</td>\n",
       "      <td>054.0 056.0</td>\n",
       "      <td>19-4903CR-HY-060-0930-05400560-0008A-3</td>\n",
       "      <td>8</td>\n",
       "      <td>10.46</td>\n",
       "      <td>33.440</td>\n",
       "      <td>NaN</td>\n",
       "      <td>25.656</td>\n",
       "      <td>NaN</td>\n",
       "      <td>...</td>\n",
       "      <td>NaN</td>\n",
       "      <td>8</td>\n",
       "      <td>NaN</td>\n",
       "      <td>NaN</td>\n",
       "      <td>NaN</td>\n",
       "      <td>NaN</td>\n",
       "      <td>NaN</td>\n",
       "      <td>NaN</td>\n",
       "      <td>NaN</td>\n",
       "      <td>NaN</td>\n",
       "    </tr>\n",
       "    <tr>\n",
       "      <th>2</th>\n",
       "      <td>1</td>\n",
       "      <td>3</td>\n",
       "      <td>054.0 056.0</td>\n",
       "      <td>19-4903CR-HY-060-0930-05400560-0010A-7</td>\n",
       "      <td>10</td>\n",
       "      <td>10.46</td>\n",
       "      <td>33.437</td>\n",
       "      <td>NaN</td>\n",
       "      <td>25.654</td>\n",
       "      <td>NaN</td>\n",
       "      <td>...</td>\n",
       "      <td>NaN</td>\n",
       "      <td>10</td>\n",
       "      <td>NaN</td>\n",
       "      <td>NaN</td>\n",
       "      <td>NaN</td>\n",
       "      <td>NaN</td>\n",
       "      <td>NaN</td>\n",
       "      <td>NaN</td>\n",
       "      <td>NaN</td>\n",
       "      <td>NaN</td>\n",
       "    </tr>\n",
       "    <tr>\n",
       "      <th>3</th>\n",
       "      <td>1</td>\n",
       "      <td>4</td>\n",
       "      <td>054.0 056.0</td>\n",
       "      <td>19-4903CR-HY-060-0930-05400560-0019A-3</td>\n",
       "      <td>19</td>\n",
       "      <td>10.45</td>\n",
       "      <td>33.420</td>\n",
       "      <td>NaN</td>\n",
       "      <td>25.643</td>\n",
       "      <td>NaN</td>\n",
       "      <td>...</td>\n",
       "      <td>NaN</td>\n",
       "      <td>19</td>\n",
       "      <td>NaN</td>\n",
       "      <td>NaN</td>\n",
       "      <td>NaN</td>\n",
       "      <td>NaN</td>\n",
       "      <td>NaN</td>\n",
       "      <td>NaN</td>\n",
       "      <td>NaN</td>\n",
       "      <td>NaN</td>\n",
       "    </tr>\n",
       "    <tr>\n",
       "      <th>4</th>\n",
       "      <td>1</td>\n",
       "      <td>5</td>\n",
       "      <td>054.0 056.0</td>\n",
       "      <td>19-4903CR-HY-060-0930-05400560-0020A-7</td>\n",
       "      <td>20</td>\n",
       "      <td>10.45</td>\n",
       "      <td>33.421</td>\n",
       "      <td>NaN</td>\n",
       "      <td>25.643</td>\n",
       "      <td>NaN</td>\n",
       "      <td>...</td>\n",
       "      <td>NaN</td>\n",
       "      <td>20</td>\n",
       "      <td>NaN</td>\n",
       "      <td>NaN</td>\n",
       "      <td>NaN</td>\n",
       "      <td>NaN</td>\n",
       "      <td>NaN</td>\n",
       "      <td>NaN</td>\n",
       "      <td>NaN</td>\n",
       "      <td>NaN</td>\n",
       "    </tr>\n",
       "  </tbody>\n",
       "</table>\n",
       "<p>5 rows × 74 columns</p>\n",
       "</div>"
      ],
      "text/plain": [
       "   Cst_Cnt  Btl_Cnt       Sta_ID                                Depth_ID  \\\n",
       "0        1        1  054.0 056.0  19-4903CR-HY-060-0930-05400560-0000A-3   \n",
       "1        1        2  054.0 056.0  19-4903CR-HY-060-0930-05400560-0008A-3   \n",
       "2        1        3  054.0 056.0  19-4903CR-HY-060-0930-05400560-0010A-7   \n",
       "3        1        4  054.0 056.0  19-4903CR-HY-060-0930-05400560-0019A-3   \n",
       "4        1        5  054.0 056.0  19-4903CR-HY-060-0930-05400560-0020A-7   \n",
       "\n",
       "   Depthm  T_degC  Salnty  O2ml_L  STheta  O2Sat  ...  R_PHAEO  R_PRES  \\\n",
       "0       0   10.50  33.440     NaN  25.649    NaN  ...      NaN       0   \n",
       "1       8   10.46  33.440     NaN  25.656    NaN  ...      NaN       8   \n",
       "2      10   10.46  33.437     NaN  25.654    NaN  ...      NaN      10   \n",
       "3      19   10.45  33.420     NaN  25.643    NaN  ...      NaN      19   \n",
       "4      20   10.45  33.421     NaN  25.643    NaN  ...      NaN      20   \n",
       "\n",
       "   R_SAMP  DIC1  DIC2  TA1  TA2  pH2  pH1  DIC Quality Comment  \n",
       "0     NaN   NaN   NaN  NaN  NaN  NaN  NaN                  NaN  \n",
       "1     NaN   NaN   NaN  NaN  NaN  NaN  NaN                  NaN  \n",
       "2     NaN   NaN   NaN  NaN  NaN  NaN  NaN                  NaN  \n",
       "3     NaN   NaN   NaN  NaN  NaN  NaN  NaN                  NaN  \n",
       "4     NaN   NaN   NaN  NaN  NaN  NaN  NaN                  NaN  \n",
       "\n",
       "[5 rows x 74 columns]"
      ]
     },
     "execution_count": 80,
     "metadata": {},
     "output_type": "execute_result"
    }
   ],
   "source": [
    "bottle_df.head()"
   ]
  },
  {
   "cell_type": "code",
   "execution_count": 114,
   "metadata": {},
   "outputs": [
    {
     "data": {
      "text/plain": [
       "Cst_Cnt                  int64\n",
       "Btl_Cnt                  int64\n",
       "Sta_ID                  object\n",
       "Depth_ID                object\n",
       "Depthm                   int64\n",
       "                        ...   \n",
       "TA1                    float64\n",
       "TA2                    float64\n",
       "pH2                    float64\n",
       "pH1                    float64\n",
       "DIC Quality Comment     object\n",
       "Length: 74, dtype: object"
      ]
     },
     "execution_count": 114,
     "metadata": {},
     "output_type": "execute_result"
    }
   ],
   "source": [
    "bottle_df.dtypes"
   ]
  },
  {
   "cell_type": "code",
   "execution_count": 108,
   "metadata": {},
   "outputs": [
    {
     "data": {
      "text/plain": [
       "Cst_Cnt    1.048771e+08\n",
       "Btl_Cnt    6.233241e+10\n",
       "Depthm     9.988777e+04\n",
       "T_degC     1.801005e+01\n",
       "Salnty     2.132993e-01\n",
       "               ...     \n",
       "DIC2       2.397924e+04\n",
       "TA1        1.214135e+03\n",
       "TA2        3.421840e+03\n",
       "pH2        4.501179e-04\n",
       "pH1        6.032021e-03\n",
       "Length: 70, dtype: float64"
      ]
     },
     "execution_count": 108,
     "metadata": {},
     "output_type": "execute_result"
    }
   ],
   "source": [
    "bottle_df.var()#checking the dataset variance.\n",
    "#the variance of the columns is pretty similar so no need to normalize it."
   ]
  },
  {
   "cell_type": "code",
   "execution_count": null,
   "metadata": {},
   "outputs": [],
   "source": [
    "#scaling data\n",
    "from sklearn.preprocessing import StandardScaler\n",
    "scaler = StandardScaler()\n",
    "df_scaled = pd.DataFrame(scaler.fit_transform(bottle_df), columns = bottle_df.columns)"
   ]
  },
  {
   "cell_type": "code",
   "execution_count": 81,
   "metadata": {},
   "outputs": [
    {
     "name": "stdout",
     "output_type": "stream",
     "text": [
      "Index(['Cst_Cnt', 'Btl_Cnt', 'Sta_ID', 'Depth_ID', 'Depthm', 'T_degC',\n",
      "       'Salnty', 'O2ml_L', 'STheta', 'O2Sat', 'Oxy_µmol/Kg', 'BtlNum',\n",
      "       'RecInd', 'T_prec', 'T_qual', 'S_prec', 'S_qual', 'P_qual', 'O_qual',\n",
      "       'SThtaq', 'O2Satq', 'ChlorA', 'Chlqua', 'Phaeop', 'Phaqua', 'PO4uM',\n",
      "       'PO4q', 'SiO3uM', 'SiO3qu', 'NO2uM', 'NO2q', 'NO3uM', 'NO3q', 'NH3uM',\n",
      "       'NH3q', 'C14As1', 'C14A1p', 'C14A1q', 'C14As2', 'C14A2p', 'C14A2q',\n",
      "       'DarkAs', 'DarkAp', 'DarkAq', 'MeanAs', 'MeanAp', 'MeanAq', 'IncTim',\n",
      "       'LightP', 'R_Depth', 'R_TEMP', 'R_POTEMP', 'R_SALINITY', 'R_SIGMA',\n",
      "       'R_SVA', 'R_DYNHT', 'R_O2', 'R_O2Sat', 'R_SIO3', 'R_PO4', 'R_NO3',\n",
      "       'R_NO2', 'R_NH4', 'R_CHLA', 'R_PHAEO', 'R_PRES', 'R_SAMP', 'DIC1',\n",
      "       'DIC2', 'TA1', 'TA2', 'pH2', 'pH1', 'DIC Quality Comment'],\n",
      "      dtype='object')\n"
     ]
    }
   ],
   "source": [
    "#checking to see which columns the dataset has\n",
    "print(bottle_df.columns)"
   ]
  },
  {
   "cell_type": "code",
   "execution_count": 82,
   "metadata": {},
   "outputs": [
    {
     "name": "stdout",
     "output_type": "stream",
     "text": [
      "47354\n",
      "10963\n"
     ]
    }
   ],
   "source": [
    "#figuring our how many NaNs our 2 columns we'll work with Salinity and Water Temperature contain.\n",
    "print(bottle_df[\"Salnty\"].isnull().sum())\n",
    "print(bottle_df[\"T_degC\"].isnull().sum())"
   ]
  },
  {
   "cell_type": "code",
   "execution_count": 83,
   "metadata": {},
   "outputs": [
    {
     "data": {
      "text/plain": [
       "dtype('float64')"
      ]
     },
     "execution_count": 83,
     "metadata": {},
     "output_type": "execute_result"
    }
   ],
   "source": [
    "#checking the column types\n",
    "bottle_df[\"Salnty\"].dtypes\n",
    "bottle_df[\"T_degC\"].dtypes"
   ]
  },
  {
   "cell_type": "code",
   "execution_count": null,
   "metadata": {},
   "outputs": [],
   "source": []
  },
  {
   "cell_type": "code",
   "execution_count": 132,
   "metadata": {},
   "outputs": [
    {
     "data": {
      "text/html": [
       "<div>\n",
       "<style scoped>\n",
       "    .dataframe tbody tr th:only-of-type {\n",
       "        vertical-align: middle;\n",
       "    }\n",
       "\n",
       "    .dataframe tbody tr th {\n",
       "        vertical-align: top;\n",
       "    }\n",
       "\n",
       "    .dataframe thead th {\n",
       "        text-align: right;\n",
       "    }\n",
       "</style>\n",
       "<table border=\"1\" class=\"dataframe\">\n",
       "  <thead>\n",
       "    <tr style=\"text-align: right;\">\n",
       "      <th></th>\n",
       "      <th>Salnty</th>\n",
       "      <th>T_degC</th>\n",
       "    </tr>\n",
       "  </thead>\n",
       "  <tbody>\n",
       "    <tr>\n",
       "      <th>count</th>\n",
       "      <td>814247.000000</td>\n",
       "      <td>814247.000000</td>\n",
       "    </tr>\n",
       "    <tr>\n",
       "      <th>mean</th>\n",
       "      <td>33.841337</td>\n",
       "      <td>10.860287</td>\n",
       "    </tr>\n",
       "    <tr>\n",
       "      <th>std</th>\n",
       "      <td>0.461636</td>\n",
       "      <td>4.224930</td>\n",
       "    </tr>\n",
       "    <tr>\n",
       "      <th>min</th>\n",
       "      <td>28.431000</td>\n",
       "      <td>1.440000</td>\n",
       "    </tr>\n",
       "    <tr>\n",
       "      <th>25%</th>\n",
       "      <td>33.489000</td>\n",
       "      <td>7.750000</td>\n",
       "    </tr>\n",
       "    <tr>\n",
       "      <th>50%</th>\n",
       "      <td>33.866000</td>\n",
       "      <td>10.110000</td>\n",
       "    </tr>\n",
       "    <tr>\n",
       "      <th>75%</th>\n",
       "      <td>34.197000</td>\n",
       "      <td>13.930000</td>\n",
       "    </tr>\n",
       "    <tr>\n",
       "      <th>max</th>\n",
       "      <td>37.034000</td>\n",
       "      <td>31.140000</td>\n",
       "    </tr>\n",
       "  </tbody>\n",
       "</table>\n",
       "</div>"
      ],
      "text/plain": [
       "              Salnty         T_degC\n",
       "count  814247.000000  814247.000000\n",
       "mean       33.841337      10.860287\n",
       "std         0.461636       4.224930\n",
       "min        28.431000       1.440000\n",
       "25%        33.489000       7.750000\n",
       "50%        33.866000      10.110000\n",
       "75%        34.197000      13.930000\n",
       "max        37.034000      31.140000"
      ]
     },
     "execution_count": 132,
     "metadata": {},
     "output_type": "execute_result"
    }
   ],
   "source": [
    "#cleaning the 2 columns we'll be using in our analysis from all the NaN values and storing them in a new dataframe\n",
    "df1 = bottle_df[[\"Salnty\", \"T_degC\"]].dropna()\n",
    "df1"
   ]
  },
  {
   "attachments": {},
   "cell_type": "markdown",
   "metadata": {},
   "source": [
    "## 2.\n",
    "Create a correlation matrix to see how the features are correlated. Describe your findings. Pay particular attention to what is correlated with water temperature."
   ]
  },
  {
   "cell_type": "code",
   "execution_count": 85,
   "metadata": {},
   "outputs": [],
   "source": [
    "import seaborn as sns\n",
    "corrMatrix = bottle_df.corr()"
   ]
  },
  {
   "cell_type": "code",
   "execution_count": 86,
   "metadata": {},
   "outputs": [
    {
     "data": {
      "text/html": [
       "<div>\n",
       "<style scoped>\n",
       "    .dataframe tbody tr th:only-of-type {\n",
       "        vertical-align: middle;\n",
       "    }\n",
       "\n",
       "    .dataframe tbody tr th {\n",
       "        vertical-align: top;\n",
       "    }\n",
       "\n",
       "    .dataframe thead th {\n",
       "        text-align: right;\n",
       "    }\n",
       "</style>\n",
       "<table border=\"1\" class=\"dataframe\">\n",
       "  <thead>\n",
       "    <tr style=\"text-align: right;\">\n",
       "      <th></th>\n",
       "      <th>Cst_Cnt</th>\n",
       "      <th>Btl_Cnt</th>\n",
       "      <th>Depthm</th>\n",
       "      <th>T_degC</th>\n",
       "      <th>Salnty</th>\n",
       "      <th>O2ml_L</th>\n",
       "      <th>STheta</th>\n",
       "      <th>O2Sat</th>\n",
       "      <th>Oxy_µmol/Kg</th>\n",
       "      <th>BtlNum</th>\n",
       "      <th>...</th>\n",
       "      <th>R_CHLA</th>\n",
       "      <th>R_PHAEO</th>\n",
       "      <th>R_PRES</th>\n",
       "      <th>R_SAMP</th>\n",
       "      <th>DIC1</th>\n",
       "      <th>DIC2</th>\n",
       "      <th>TA1</th>\n",
       "      <th>TA2</th>\n",
       "      <th>pH2</th>\n",
       "      <th>pH1</th>\n",
       "    </tr>\n",
       "  </thead>\n",
       "  <tbody>\n",
       "    <tr>\n",
       "      <th>Cst_Cnt</th>\n",
       "      <td>1.000000</td>\n",
       "      <td>0.999345</td>\n",
       "      <td>-0.162222</td>\n",
       "      <td>0.089329</td>\n",
       "      <td>-0.198024</td>\n",
       "      <td>0.156096</td>\n",
       "      <td>-0.089902</td>\n",
       "      <td>0.136510</td>\n",
       "      <td>0.147493</td>\n",
       "      <td>-0.026749</td>\n",
       "      <td>...</td>\n",
       "      <td>0.005807</td>\n",
       "      <td>-0.040576</td>\n",
       "      <td>-0.161961</td>\n",
       "      <td>-0.604945</td>\n",
       "      <td>-0.036155</td>\n",
       "      <td>-0.097938</td>\n",
       "      <td>-0.075060</td>\n",
       "      <td>-0.115212</td>\n",
       "      <td>-0.262587</td>\n",
       "      <td>0.020778</td>\n",
       "    </tr>\n",
       "    <tr>\n",
       "      <th>Btl_Cnt</th>\n",
       "      <td>0.999345</td>\n",
       "      <td>1.000000</td>\n",
       "      <td>-0.161617</td>\n",
       "      <td>0.090118</td>\n",
       "      <td>-0.195207</td>\n",
       "      <td>0.154219</td>\n",
       "      <td>-0.089521</td>\n",
       "      <td>0.134732</td>\n",
       "      <td>0.145498</td>\n",
       "      <td>-0.027514</td>\n",
       "      <td>...</td>\n",
       "      <td>0.009648</td>\n",
       "      <td>-0.035778</td>\n",
       "      <td>-0.161348</td>\n",
       "      <td>-0.595142</td>\n",
       "      <td>-0.035516</td>\n",
       "      <td>-0.097251</td>\n",
       "      <td>-0.074255</td>\n",
       "      <td>-0.114165</td>\n",
       "      <td>-0.259082</td>\n",
       "      <td>0.020315</td>\n",
       "    </tr>\n",
       "    <tr>\n",
       "      <th>Depthm</th>\n",
       "      <td>-0.162222</td>\n",
       "      <td>-0.161617</td>\n",
       "      <td>1.000000</td>\n",
       "      <td>-0.681201</td>\n",
       "      <td>0.572630</td>\n",
       "      <td>-0.592399</td>\n",
       "      <td>0.582710</td>\n",
       "      <td>-0.595547</td>\n",
       "      <td>-0.589175</td>\n",
       "      <td>-0.681935</td>\n",
       "      <td>...</td>\n",
       "      <td>-0.279636</td>\n",
       "      <td>-0.201450</td>\n",
       "      <td>0.999994</td>\n",
       "      <td>-0.018605</td>\n",
       "      <td>0.567855</td>\n",
       "      <td>0.572374</td>\n",
       "      <td>0.786873</td>\n",
       "      <td>0.866185</td>\n",
       "      <td>0.223304</td>\n",
       "      <td>-0.611798</td>\n",
       "    </tr>\n",
       "    <tr>\n",
       "      <th>T_degC</th>\n",
       "      <td>0.089329</td>\n",
       "      <td>0.090118</td>\n",
       "      <td>-0.681201</td>\n",
       "      <td>1.000000</td>\n",
       "      <td>-0.505266</td>\n",
       "      <td>0.795700</td>\n",
       "      <td>-0.829155</td>\n",
       "      <td>0.850596</td>\n",
       "      <td>0.795543</td>\n",
       "      <td>0.750413</td>\n",
       "      <td>...</td>\n",
       "      <td>0.108925</td>\n",
       "      <td>0.014987</td>\n",
       "      <td>-0.679852</td>\n",
       "      <td>0.006503</td>\n",
       "      <td>-0.936239</td>\n",
       "      <td>-0.949972</td>\n",
       "      <td>-0.742196</td>\n",
       "      <td>-0.889635</td>\n",
       "      <td>0.547436</td>\n",
       "      <td>0.743735</td>\n",
       "    </tr>\n",
       "    <tr>\n",
       "      <th>Salnty</th>\n",
       "      <td>-0.198024</td>\n",
       "      <td>-0.195207</td>\n",
       "      <td>0.572630</td>\n",
       "      <td>-0.505266</td>\n",
       "      <td>1.000000</td>\n",
       "      <td>-0.823870</td>\n",
       "      <td>0.603470</td>\n",
       "      <td>-0.790231</td>\n",
       "      <td>-0.824338</td>\n",
       "      <td>-0.693341</td>\n",
       "      <td>...</td>\n",
       "      <td>-0.029373</td>\n",
       "      <td>-0.003063</td>\n",
       "      <td>0.571405</td>\n",
       "      <td>-0.000758</td>\n",
       "      <td>0.938153</td>\n",
       "      <td>0.955942</td>\n",
       "      <td>0.895124</td>\n",
       "      <td>0.937147</td>\n",
       "      <td>0.583807</td>\n",
       "      <td>0.106417</td>\n",
       "    </tr>\n",
       "    <tr>\n",
       "      <th>...</th>\n",
       "      <td>...</td>\n",
       "      <td>...</td>\n",
       "      <td>...</td>\n",
       "      <td>...</td>\n",
       "      <td>...</td>\n",
       "      <td>...</td>\n",
       "      <td>...</td>\n",
       "      <td>...</td>\n",
       "      <td>...</td>\n",
       "      <td>...</td>\n",
       "      <td>...</td>\n",
       "      <td>...</td>\n",
       "      <td>...</td>\n",
       "      <td>...</td>\n",
       "      <td>...</td>\n",
       "      <td>...</td>\n",
       "      <td>...</td>\n",
       "      <td>...</td>\n",
       "      <td>...</td>\n",
       "      <td>...</td>\n",
       "      <td>...</td>\n",
       "    </tr>\n",
       "    <tr>\n",
       "      <th>DIC2</th>\n",
       "      <td>-0.097938</td>\n",
       "      <td>-0.097251</td>\n",
       "      <td>0.572374</td>\n",
       "      <td>-0.949972</td>\n",
       "      <td>0.955942</td>\n",
       "      <td>-0.941214</td>\n",
       "      <td>0.965546</td>\n",
       "      <td>-0.962977</td>\n",
       "      <td>-0.941528</td>\n",
       "      <td>-0.958549</td>\n",
       "      <td>...</td>\n",
       "      <td>0.024819</td>\n",
       "      <td>0.220101</td>\n",
       "      <td>0.570633</td>\n",
       "      <td>-0.026912</td>\n",
       "      <td>0.991091</td>\n",
       "      <td>1.000000</td>\n",
       "      <td>0.885735</td>\n",
       "      <td>0.888669</td>\n",
       "      <td>NaN</td>\n",
       "      <td>NaN</td>\n",
       "    </tr>\n",
       "    <tr>\n",
       "      <th>TA1</th>\n",
       "      <td>-0.075060</td>\n",
       "      <td>-0.074255</td>\n",
       "      <td>0.786873</td>\n",
       "      <td>-0.742196</td>\n",
       "      <td>0.895124</td>\n",
       "      <td>-0.802493</td>\n",
       "      <td>0.779899</td>\n",
       "      <td>-0.788291</td>\n",
       "      <td>-0.802435</td>\n",
       "      <td>-0.737828</td>\n",
       "      <td>...</td>\n",
       "      <td>0.006186</td>\n",
       "      <td>-0.010690</td>\n",
       "      <td>0.785334</td>\n",
       "      <td>0.025613</td>\n",
       "      <td>0.853682</td>\n",
       "      <td>0.885735</td>\n",
       "      <td>1.000000</td>\n",
       "      <td>0.994924</td>\n",
       "      <td>0.616844</td>\n",
       "      <td>0.260047</td>\n",
       "    </tr>\n",
       "    <tr>\n",
       "      <th>TA2</th>\n",
       "      <td>-0.115212</td>\n",
       "      <td>-0.114165</td>\n",
       "      <td>0.866185</td>\n",
       "      <td>-0.889635</td>\n",
       "      <td>0.937147</td>\n",
       "      <td>-0.726460</td>\n",
       "      <td>0.887778</td>\n",
       "      <td>-0.767766</td>\n",
       "      <td>-0.727023</td>\n",
       "      <td>-0.828905</td>\n",
       "      <td>...</td>\n",
       "      <td>0.265152</td>\n",
       "      <td>0.235116</td>\n",
       "      <td>0.865140</td>\n",
       "      <td>0.020177</td>\n",
       "      <td>0.883278</td>\n",
       "      <td>0.888669</td>\n",
       "      <td>0.994924</td>\n",
       "      <td>1.000000</td>\n",
       "      <td>0.578090</td>\n",
       "      <td>0.577613</td>\n",
       "    </tr>\n",
       "    <tr>\n",
       "      <th>pH2</th>\n",
       "      <td>-0.262587</td>\n",
       "      <td>-0.259082</td>\n",
       "      <td>0.223304</td>\n",
       "      <td>0.547436</td>\n",
       "      <td>0.583807</td>\n",
       "      <td>0.174204</td>\n",
       "      <td>-0.480397</td>\n",
       "      <td>0.732628</td>\n",
       "      <td>0.180058</td>\n",
       "      <td>-0.457365</td>\n",
       "      <td>...</td>\n",
       "      <td>0.047099</td>\n",
       "      <td>0.049127</td>\n",
       "      <td>0.223304</td>\n",
       "      <td>-0.457365</td>\n",
       "      <td>NaN</td>\n",
       "      <td>NaN</td>\n",
       "      <td>0.616844</td>\n",
       "      <td>0.578090</td>\n",
       "      <td>1.000000</td>\n",
       "      <td>0.995913</td>\n",
       "    </tr>\n",
       "    <tr>\n",
       "      <th>pH1</th>\n",
       "      <td>0.020778</td>\n",
       "      <td>0.020315</td>\n",
       "      <td>-0.611798</td>\n",
       "      <td>0.743735</td>\n",
       "      <td>0.106417</td>\n",
       "      <td>0.663591</td>\n",
       "      <td>-0.717815</td>\n",
       "      <td>0.913807</td>\n",
       "      <td>0.666715</td>\n",
       "      <td>0.333808</td>\n",
       "      <td>...</td>\n",
       "      <td>-0.252746</td>\n",
       "      <td>-0.525839</td>\n",
       "      <td>-0.611798</td>\n",
       "      <td>0.333808</td>\n",
       "      <td>NaN</td>\n",
       "      <td>NaN</td>\n",
       "      <td>0.260047</td>\n",
       "      <td>0.577613</td>\n",
       "      <td>0.995913</td>\n",
       "      <td>1.000000</td>\n",
       "    </tr>\n",
       "  </tbody>\n",
       "</table>\n",
       "<p>70 rows × 70 columns</p>\n",
       "</div>"
      ],
      "text/plain": [
       "          Cst_Cnt   Btl_Cnt    Depthm    T_degC    Salnty    O2ml_L    STheta  \\\n",
       "Cst_Cnt  1.000000  0.999345 -0.162222  0.089329 -0.198024  0.156096 -0.089902   \n",
       "Btl_Cnt  0.999345  1.000000 -0.161617  0.090118 -0.195207  0.154219 -0.089521   \n",
       "Depthm  -0.162222 -0.161617  1.000000 -0.681201  0.572630 -0.592399  0.582710   \n",
       "T_degC   0.089329  0.090118 -0.681201  1.000000 -0.505266  0.795700 -0.829155   \n",
       "Salnty  -0.198024 -0.195207  0.572630 -0.505266  1.000000 -0.823870  0.603470   \n",
       "...           ...       ...       ...       ...       ...       ...       ...   \n",
       "DIC2    -0.097938 -0.097251  0.572374 -0.949972  0.955942 -0.941214  0.965546   \n",
       "TA1     -0.075060 -0.074255  0.786873 -0.742196  0.895124 -0.802493  0.779899   \n",
       "TA2     -0.115212 -0.114165  0.866185 -0.889635  0.937147 -0.726460  0.887778   \n",
       "pH2     -0.262587 -0.259082  0.223304  0.547436  0.583807  0.174204 -0.480397   \n",
       "pH1      0.020778  0.020315 -0.611798  0.743735  0.106417  0.663591 -0.717815   \n",
       "\n",
       "            O2Sat  Oxy_µmol/Kg    BtlNum  ...    R_CHLA   R_PHAEO    R_PRES  \\\n",
       "Cst_Cnt  0.136510     0.147493 -0.026749  ...  0.005807 -0.040576 -0.161961   \n",
       "Btl_Cnt  0.134732     0.145498 -0.027514  ...  0.009648 -0.035778 -0.161348   \n",
       "Depthm  -0.595547    -0.589175 -0.681935  ... -0.279636 -0.201450  0.999994   \n",
       "T_degC   0.850596     0.795543  0.750413  ...  0.108925  0.014987 -0.679852   \n",
       "Salnty  -0.790231    -0.824338 -0.693341  ... -0.029373 -0.003063  0.571405   \n",
       "...           ...          ...       ...  ...       ...       ...       ...   \n",
       "DIC2    -0.962977    -0.941528 -0.958549  ...  0.024819  0.220101  0.570633   \n",
       "TA1     -0.788291    -0.802435 -0.737828  ...  0.006186 -0.010690  0.785334   \n",
       "TA2     -0.767766    -0.727023 -0.828905  ...  0.265152  0.235116  0.865140   \n",
       "pH2      0.732628     0.180058 -0.457365  ...  0.047099  0.049127  0.223304   \n",
       "pH1      0.913807     0.666715  0.333808  ... -0.252746 -0.525839 -0.611798   \n",
       "\n",
       "           R_SAMP      DIC1      DIC2       TA1       TA2       pH2       pH1  \n",
       "Cst_Cnt -0.604945 -0.036155 -0.097938 -0.075060 -0.115212 -0.262587  0.020778  \n",
       "Btl_Cnt -0.595142 -0.035516 -0.097251 -0.074255 -0.114165 -0.259082  0.020315  \n",
       "Depthm  -0.018605  0.567855  0.572374  0.786873  0.866185  0.223304 -0.611798  \n",
       "T_degC   0.006503 -0.936239 -0.949972 -0.742196 -0.889635  0.547436  0.743735  \n",
       "Salnty  -0.000758  0.938153  0.955942  0.895124  0.937147  0.583807  0.106417  \n",
       "...           ...       ...       ...       ...       ...       ...       ...  \n",
       "DIC2    -0.026912  0.991091  1.000000  0.885735  0.888669       NaN       NaN  \n",
       "TA1      0.025613  0.853682  0.885735  1.000000  0.994924  0.616844  0.260047  \n",
       "TA2      0.020177  0.883278  0.888669  0.994924  1.000000  0.578090  0.577613  \n",
       "pH2     -0.457365       NaN       NaN  0.616844  0.578090  1.000000  0.995913  \n",
       "pH1      0.333808       NaN       NaN  0.260047  0.577613  0.995913  1.000000  \n",
       "\n",
       "[70 rows x 70 columns]"
      ]
     },
     "execution_count": 86,
     "metadata": {},
     "output_type": "execute_result"
    }
   ],
   "source": [
    "corrMatrix"
   ]
  },
  {
   "cell_type": "code",
   "execution_count": null,
   "metadata": {},
   "outputs": [],
   "source": []
  },
  {
   "attachments": {},
   "cell_type": "markdown",
   "metadata": {},
   "source": [
    "## 3.\n",
    "Perform linear regression on the dataset to see if you can predict water temperature based on salinity."
   ]
  },
  {
   "cell_type": "code",
   "execution_count": 87,
   "metadata": {},
   "outputs": [],
   "source": [
    "from sklearn.model_selection import train_test_split"
   ]
  },
  {
   "cell_type": "code",
   "execution_count": 88,
   "metadata": {},
   "outputs": [],
   "source": [
    "X = np.array(df1['Salnty']).reshape(-1,1)\n",
    "y=np.array(df1['T_degC']).reshape(-1,1)\n",
    "\n",
    "X_train, X_test, y_train, y_test = train_test_split(X, y, test_size=0.5, random_state=45)"
   ]
  },
  {
   "cell_type": "code",
   "execution_count": 89,
   "metadata": {},
   "outputs": [
    {
     "data": {
      "text/plain": [
       "LinearRegression()"
      ]
     },
     "execution_count": 89,
     "metadata": {},
     "output_type": "execute_result"
    }
   ],
   "source": [
    "from sklearn.linear_model import LinearRegression\n",
    "\n",
    "regression_df = LinearRegression()\n",
    "regression_df.fit(X_train, y_train)"
   ]
  },
  {
   "cell_type": "code",
   "execution_count": 90,
   "metadata": {},
   "outputs": [],
   "source": [
    "y_pred = regression_df.predict(X_test)"
   ]
  },
  {
   "cell_type": "code",
   "execution_count": 91,
   "metadata": {},
   "outputs": [
    {
     "data": {
      "text/plain": [
       "0.2554282557626898"
      ]
     },
     "execution_count": 91,
     "metadata": {},
     "output_type": "execute_result"
    }
   ],
   "source": [
    "accuracy_score = regression_df.score(X_test, y_test)\n",
    "accuracy_score"
   ]
  },
  {
   "cell_type": "code",
   "execution_count": 92,
   "metadata": {},
   "outputs": [
    {
     "data": {
      "image/png": "[encoded data removed]",
      "text/plain": [
       "<Figure size 720x720 with 1 Axes>"
      ]
     },
     "metadata": {},
     "output_type": "display_data"
    }
   ],
   "source": [
    "plt.scatter(X_test, y_test, color = 'm')\n",
    "plt.plot(X_test, y_pred, color='g')\n",
    "plt.show()"
   ]
  },
  {
   "attachments": {},
   "cell_type": "markdown",
   "metadata": {},
   "source": [
    "## 4. \n",
    "Find your mean squared error and R2 values. Be sure to indicate what these tell you. You can import these from sklearn.metrics!"
   ]
  },
  {
   "cell_type": "code",
   "execution_count": 93,
   "metadata": {},
   "outputs": [
    {
     "data": {
      "text/plain": [
       "0.2554282557626898"
      ]
     },
     "execution_count": 93,
     "metadata": {},
     "output_type": "execute_result"
    }
   ],
   "source": [
    "from sklearn.metrics import r2_score\n",
    "r2_score(y_test, y_pred)"
   ]
  },
  {
   "cell_type": "code",
   "execution_count": 94,
   "metadata": {},
   "outputs": [
    {
     "data": {
      "text/plain": [
       "13.292437299940586"
      ]
     },
     "execution_count": 94,
     "metadata": {},
     "output_type": "execute_result"
    }
   ],
   "source": [
    "from sklearn.metrics import mean_squared_error\n",
    "mean_squared_error(y_test, y_pred)"
   ]
  },
  {
   "attachments": {},
   "cell_type": "markdown",
   "metadata": {},
   "source": [
    "## 5.\n",
    "Create a final plot of the relationship between water temperature and salinity. Be sure to show the values from the dataset in a scatter plot with a trend line that shows the predicted temperature values."
   ]
  },
  {
   "cell_type": "code",
   "execution_count": 95,
   "metadata": {},
   "outputs": [
    {
     "data": {
      "image/png": "[encoded data removed]",
      "text/plain": [
       "<Figure size 720x720 with 1 Axes>"
      ]
     },
     "metadata": {},
     "output_type": "display_data"
    }
   ],
   "source": [
    "plt.scatter(X_test, y_test, color = 'm')\n",
    "plt.plot(X_test, y_pred, color='g')\n",
    "plt.show()"
   ]
  },
  {
   "attachments": {},
   "cell_type": "markdown",
   "metadata": {},
   "source": [
    "## 6.\n",
    "Do some research on polynomial regression. Describe what it is any how it works in markdown. This article is useful https://machinelearningmastery.com/polynomial-features-transforms-for-machine-learning/ !"
   ]
  },
  {
   "cell_type": "markdown",
   "metadata": {},
   "source": [
    "Polynomial regressions is used to expose different data interactions that can improve the performance of a model. We're basically raising the variable to the power. Transforms like raising input variables to a power can help to better expose the important relationships between input variables and the target variable. Basically, we use polynomial transforms to create new versions of input variables for predictive modeling.\n",
    "\n",
    "Polynomial regression tends to provide the best approximation of the relationship between dependent and independent variable"
   ]
  },
  {
   "attachments": {},
   "cell_type": "markdown",
   "metadata": {},
   "source": [
    "## 7.\n",
    "\n",
    "Perform polynomial regression on this same dataset. Train and validate your model as you did when you used linear regression. Mean squared error and R2 both apply here."
   ]
  },
  {
   "cell_type": "code",
   "execution_count": 96,
   "metadata": {},
   "outputs": [],
   "source": [
    "X = np.array(df1['Salnty']).reshape(-1,1)\n",
    "y=np.array(df1['T_degC']).reshape(-1,1)"
   ]
  },
  {
   "cell_type": "code",
   "execution_count": 97,
   "metadata": {},
   "outputs": [
    {
     "data": {
      "text/plain": [
       "LinearRegression()"
      ]
     },
     "execution_count": 97,
     "metadata": {},
     "output_type": "execute_result"
    }
   ],
   "source": [
    "lin = LinearRegression()\n",
    "lin.fit(X, y)"
   ]
  },
  {
   "cell_type": "code",
   "execution_count": 125,
   "metadata": {},
   "outputs": [
    {
     "data": {
      "text/plain": [
       "array([[12.6100292 ],\n",
       "       [12.6100292 ],\n",
       "       [12.62788751],\n",
       "       ...,\n",
       "       [12.75978514],\n",
       "       [12.81300581],\n",
       "       [12.92391275]])"
      ]
     },
     "execution_count": 125,
     "metadata": {},
     "output_type": "execute_result"
    }
   ],
   "source": [
    "# Fitting Polynomial Regression to the dataset\n",
    "from sklearn.preprocessing import PolynomialFeatures\n",
    "  \n",
    "poly = PolynomialFeatures(degree = 2)\n",
    "X_poly = poly.fit_transform(X)\n",
    "  \n",
    "poly.fit(X_poly, y)\n",
    "lin2 = LinearRegression()\n",
    "lin2.fit(X_poly, y)\n",
    "y_poly_pred = lin2.predict(X_poly)\n",
    "y_poly_pred"
   ]
  },
  {
   "cell_type": "code",
   "execution_count": 106,
   "metadata": {
    "scrolled": true
   },
   "outputs": [
    {
     "data": {
      "image/png": "[encoded data removed]",
      "text/plain": [
       "<Figure size 720x720 with 1 Axes>"
      ]
     },
     "metadata": {},
     "output_type": "display_data"
    }
   ],
   "source": [
    "# Visualising the Linear Regression results\n",
    "plt.scatter(X, y, color = 'blue')\n",
    "  \n",
    "plt.plot(X, lin.predict(X), color = 'red')\n",
    "plt.title('Linear Regression')\n",
    "plt.xlabel('Salinity')\n",
    "plt.ylabel('Water Temperature')\n",
    "  \n",
    "plt.show()"
   ]
  },
  {
   "cell_type": "code",
   "execution_count": 128,
   "metadata": {},
   "outputs": [
    {
     "data": {
      "text/plain": [
       "13.022386758725505"
      ]
     },
     "execution_count": 128,
     "metadata": {},
     "output_type": "execute_result"
    }
   ],
   "source": [
    "from sklearn import metrics\n",
    "#calculating mean suqred error\n",
    "mean_quared_error = metrics.mean_squared_error(y, y_poly_pred)\n",
    "mean_quared_error"
   ]
  },
  {
   "cell_type": "code",
   "execution_count": 131,
   "metadata": {},
   "outputs": [
    {
     "data": {
      "text/plain": [
       "0.27045499715936394"
      ]
     },
     "execution_count": 131,
     "metadata": {},
     "output_type": "execute_result"
    }
   ],
   "source": [
    "#calculating. r2 score\n",
    "r2_score = metrics.r2_score(y,  y_poly_pred)\n",
    "r2_score"
   ]
  },
  {
   "attachments": {},
   "cell_type": "markdown",
   "metadata": {},
   "source": [
    "## 8.\n",
    "Create a final plot of the relationship between water temperature and salinity. Be sure to show the values from the dataset in a scatter plot with a trend line that shows the polynomial regression predicted temperature values. The resulting trend line should be curved."
   ]
  },
  {
   "cell_type": "code",
   "execution_count": 107,
   "metadata": {},
   "outputs": [
    {
     "data": {
      "image/png": "[encoded data removed]",
      "text/plain": [
       "<Figure size 720x720 with 1 Axes>"
      ]
     },
     "metadata": {},
     "output_type": "display_data"
    }
   ],
   "source": [
    "# Visualising the Polynomial Regression results\n",
    "plt.scatter(X, y, color = 'blue')\n",
    "  \n",
    "plt.plot(X, lin2.predict(poly.fit_transform(X)), color = 'red')\n",
    "plt.title('Polynomial Regression')\n",
    "plt.xlabel('Salinity')\n",
    "plt.ylabel('Water Termerature')\n",
    "  \n",
    "plt.show()"
   ]
  },
  {
   "cell_type": "code",
   "execution_count": null,
   "metadata": {},
   "outputs": [],
   "source": []
  }
 ],
 "metadata": {
  "kernelspec": {
   "display_name": "Python 3",
   "language": "python",
   "name": "python3"
  },
  "language_info": {
   "codemirror_mode": {
    "name": "ipython",
    "version": 3
   },
   "file_extension": ".py",
   "mimetype": "text/x-python",
   "name": "python",
   "nbconvert_exporter": "python",
   "pygments_lexer": "ipython3",
   "version": "3.8.5"
  }
 },
 "nbformat": 4,
 "nbformat_minor": 4
}
