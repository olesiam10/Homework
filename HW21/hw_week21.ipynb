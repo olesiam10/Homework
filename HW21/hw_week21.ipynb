{
 "cells": [
  {
   "cell_type": "markdown",
   "metadata": {},
   "source": [
    "## 1) Create a basic API in Azure (as we did in class) that tells you how to access the different endpoints when you go to the home page. You should have the following endpoints:\n",
    "\t* A /all endpoint that displays all of the nobel.json data\n",
    "\t* A /<year> GET endpoint that allows for you to pass in any year and shows you the Nobel prizes from that year\n",
    "\t* A /add POST endpoint that lets you add additional data\n",
    "\t* You should use a basic HTML form, but you can also pass the data in to the API url. The latter may require use of a tool called Postman. First, make sure the data from the form is getting passed to python, and then work on appending it to the json file.\n",
    "\t* Make sure you see your updates when you go to /all"
   ]
  },
  {
   "cell_type": "markdown",
   "metadata": {},
   "source": [
    "### 1. testing to see if it works with \"hello world\""
   ]
  },
  {
   "cell_type": "markdown",
   "metadata": {},
   "source": [
    "<img width=\"962\" alt=\"Screen Shot 2021-08-02 at 8 54 09 PM\" src=\"https://user-images.githubusercontent.com/79989694/127945848-d12a5e8b-f8bd-4827-a20e-d874bafeb519.png\">"
   ]
  },
  {
   "cell_type": "markdown",
   "metadata": {},
   "source": [
    "### 2. /all API end point that shows all nobel data"
   ]
  },
  {
   "cell_type": "markdown",
   "metadata": {},
   "source": [
    "<img width=\"1439\" alt=\"Screen Shot 2021-08-02 at 8 54 22 PM\" src=\"https://user-images.githubusercontent.com/79989694/127945870-4b2dbf59-90ce-4678-8769-1977fe4a0ec2.png\">"
   ]
  },
  {
   "cell_type": "markdown",
   "metadata": {},
   "source": [
    "### 3. /<year Get API end point that shows data for a specific year. In this case 2019"
   ]
  },
  {
   "cell_type": "markdown",
   "metadata": {},
   "source": [
    "<img width=\"1435\" alt=\"Screen Shot 2021-08-02 at 8 54 33 PM\" src=\"https://user-images.githubusercontent.com/79989694/127945895-528fe07b-9539-48f1-92a6-caed8c081a12.png\">"
   ]
  },
  {
   "cell_type": "markdown",
   "metadata": {},
   "source": [
    "### 4. /add post end point. I used Postman to create a post request."
   ]
  },
  {
   "cell_type": "markdown",
   "metadata": {},
   "source": [
    "#### Step1. Making a post request in post man & adding json data we want to post."
   ]
  },
  {
   "cell_type": "markdown",
   "metadata": {},
   "source": [
    "<img width=\"847\" alt=\"Screen Shot 2021-08-02 at 9 20 19 PM\" src=\"https://user-images.githubusercontent.com/79989694/127951862-8919dec7-37f5-4249-9860-638bec462411.png\">"
   ]
  },
  {
   "cell_type": "markdown",
   "metadata": {},
   "source": [
    "#### Step2. Creating a json data that we want to post. Once we hit \"post\" we can see as an output of the api the json file we've created"
   ]
  },
  {
   "cell_type": "markdown",
   "metadata": {},
   "source": [
    "<img width=\"877\" alt=\"Screen Shot 2021-08-02 at 9 36 57 PM\" src=\"https://user-images.githubusercontent.com/79989694/127951941-8ccb8e6a-4c07-4d2d-a8ef-e8785f3ecc40.png\">\n"
   ]
  },
  {
   "cell_type": "markdown",
   "metadata": {},
   "source": [
    "#### Step3. Once we go to /all endpoint the new json data we've posted appears in the original nobel json file. (I'm attaching the py file to this homework with the code that appends & writes  the new json data to the original nobel json file)\n",
    "#### The new json data is reflected at the bottom."
   ]
  },
  {
   "cell_type": "markdown",
   "metadata": {},
   "source": [
    "<img width=\"1434\" alt=\"Screen Shot 2021-08-02 at 9 49 02 PM\" src=\"https://user-images.githubusercontent.com/79989694/127951960-4c675655-85d7-4bc4-b981-11f5e99e762a.png\">\n"
   ]
  },
  {
   "cell_type": "markdown",
   "metadata": {},
   "source": [
    "## 2) What kind of API did you build? What types of APIs are there? Why are APIs important?"
   ]
  },
  {
   "cell_type": "markdown",
   "metadata": {},
   "source": [
    "The API we've build is a REST API within the flask framework which stands for representational State Transfer. It is a popular architectural style for software, especially web APIs. \n",
    "\n",
    "Besides rest APIs, there are also CRUDE APIs. These 2 types of APIs use different methods. REST APIs communicate with clients using the HTTP protocol. The methods they use are GET, POST, DELETE, PUT, and PATCH.\n",
    "CRUDE APIs use these methods: CREATE, READ, UPDATE, DELATE. Some of them overlap.\n",
    "\n",
    "APIs are important because they enables two applications to exchange data among each other, they allow 2 different programms communicate. For example, accessing weather through the facebook app, to do that we're using apis where 2 different programs communicate with each other.\n",
    "\n",
    "\n"
   ]
  },
  {
   "cell_type": "code",
   "execution_count": null,
   "metadata": {},
   "outputs": [],
   "source": []
  }
 ],
 "metadata": {
  "kernelspec": {
   "display_name": "Python 3",
   "language": "python",
   "name": "python3"
  },
  "language_info": {
   "codemirror_mode": {
    "name": "ipython",
    "version": 3
   },
   "file_extension": ".py",
   "mimetype": "text/x-python",
   "name": "python",
   "nbconvert_exporter": "python",
   "pygments_lexer": "ipython3",
   "version": "3.8.5"
  }
 },
 "nbformat": 4,
 "nbformat_minor": 4
}
