{
 "cells": [
  {
   "cell_type": "code",
   "execution_count": 8,
   "metadata": {},
   "outputs": [
    {
     "name": "stdout",
     "output_type": "stream",
     "text": [
      "a + b =4\n",
      "a - b =zero\n",
      "a * b =4\n"
     ]
    }
   ],
   "source": [
    "def new(a,b):\n",
    "    total = a+b\n",
    "    if total > 0:\n",
    "        print(\"a + b =\" + str(total))\n",
    "    elif total == 0:\n",
    "        print(\"a + b =\" + \"zero\")\n",
    "        \n",
    "  \n",
    "    diff = a-b\n",
    "    if diff > 0:\n",
    "        print(\"a - b =\" + str(diff))\n",
    "    elif diff == 0:\n",
    "        print(\"a - b =\" + \"zero\")\n",
    "        \n",
    "    product = a*b\n",
    "    if product > 0:\n",
    "        print(\"a * b =\" + str(product))\n",
    "    elif diff == 0:\n",
    "        print(\"a * b =\" + \"zero\")\n",
    "        \n",
    "    \n",
    "new(2,2)\n",
    "    "
   ]
  },
  {
   "cell_type": "code",
   "execution_count": null,
   "metadata": {},
   "outputs": [],
   "source": []
  }
 ],
 "metadata": {
  "kernelspec": {
   "display_name": "Python 3",
   "language": "python",
   "name": "python3"
  },
  "language_info": {
   "codemirror_mode": {
    "name": "ipython",
    "version": 3
   },
   "file_extension": ".py",
   "mimetype": "text/x-python",
   "name": "python",
   "nbconvert_exporter": "python",
   "pygments_lexer": "ipython3",
   "version": "3.8.5"
  }
 },
 "nbformat": 4,
 "nbformat_minor": 4
}
