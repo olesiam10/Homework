{
 "cells": [
  {
   "cell_type": "markdown",
   "metadata": {},
   "source": [
    "## 1. Look up the Adam optimization functions in PyTorch https://pytorch.org/docs/stable/optim.html . How does it work? Try at least one other optimization function with the diabetes dataset shown in class. How does the model perform with the new optimizer? Did it perform better or worse than Adam? Why do you think that is?"
   ]
  },
  {
   "cell_type": "code",
   "execution_count": 23,
   "metadata": {},
   "outputs": [
    {
     "data": {
      "text/html": [
       "<div>\n",
       "<style scoped>\n",
       "    .dataframe tbody tr th:only-of-type {\n",
       "        vertical-align: middle;\n",
       "    }\n",
       "\n",
       "    .dataframe tbody tr th {\n",
       "        vertical-align: top;\n",
       "    }\n",
       "\n",
       "    .dataframe thead th {\n",
       "        text-align: right;\n",
       "    }\n",
       "</style>\n",
       "<table border=\"1\" class=\"dataframe\">\n",
       "  <thead>\n",
       "    <tr style=\"text-align: right;\">\n",
       "      <th></th>\n",
       "      <th>Pregnancies</th>\n",
       "      <th>Glucose</th>\n",
       "      <th>BloodPressure</th>\n",
       "      <th>SkinThickness</th>\n",
       "      <th>Insulin</th>\n",
       "      <th>BMI</th>\n",
       "      <th>DiabetesPedigreeFunction</th>\n",
       "      <th>Age</th>\n",
       "      <th>Outcome</th>\n",
       "    </tr>\n",
       "  </thead>\n",
       "  <tbody>\n",
       "    <tr>\n",
       "      <th>0</th>\n",
       "      <td>6</td>\n",
       "      <td>148</td>\n",
       "      <td>72</td>\n",
       "      <td>35</td>\n",
       "      <td>0</td>\n",
       "      <td>33.6</td>\n",
       "      <td>0.627</td>\n",
       "      <td>50</td>\n",
       "      <td>1</td>\n",
       "    </tr>\n",
       "    <tr>\n",
       "      <th>1</th>\n",
       "      <td>1</td>\n",
       "      <td>85</td>\n",
       "      <td>66</td>\n",
       "      <td>29</td>\n",
       "      <td>0</td>\n",
       "      <td>26.6</td>\n",
       "      <td>0.351</td>\n",
       "      <td>31</td>\n",
       "      <td>0</td>\n",
       "    </tr>\n",
       "    <tr>\n",
       "      <th>2</th>\n",
       "      <td>8</td>\n",
       "      <td>183</td>\n",
       "      <td>64</td>\n",
       "      <td>0</td>\n",
       "      <td>0</td>\n",
       "      <td>23.3</td>\n",
       "      <td>0.672</td>\n",
       "      <td>32</td>\n",
       "      <td>1</td>\n",
       "    </tr>\n",
       "    <tr>\n",
       "      <th>3</th>\n",
       "      <td>1</td>\n",
       "      <td>89</td>\n",
       "      <td>66</td>\n",
       "      <td>23</td>\n",
       "      <td>94</td>\n",
       "      <td>28.1</td>\n",
       "      <td>0.167</td>\n",
       "      <td>21</td>\n",
       "      <td>0</td>\n",
       "    </tr>\n",
       "    <tr>\n",
       "      <th>4</th>\n",
       "      <td>0</td>\n",
       "      <td>137</td>\n",
       "      <td>40</td>\n",
       "      <td>35</td>\n",
       "      <td>168</td>\n",
       "      <td>43.1</td>\n",
       "      <td>2.288</td>\n",
       "      <td>33</td>\n",
       "      <td>1</td>\n",
       "    </tr>\n",
       "  </tbody>\n",
       "</table>\n",
       "</div>"
      ],
      "text/plain": [
       "   Pregnancies  Glucose  BloodPressure  SkinThickness  Insulin   BMI  \\\n",
       "0            6      148             72             35        0  33.6   \n",
       "1            1       85             66             29        0  26.6   \n",
       "2            8      183             64              0        0  23.3   \n",
       "3            1       89             66             23       94  28.1   \n",
       "4            0      137             40             35      168  43.1   \n",
       "\n",
       "   DiabetesPedigreeFunction  Age  Outcome  \n",
       "0                     0.627   50        1  \n",
       "1                     0.351   31        0  \n",
       "2                     0.672   32        1  \n",
       "3                     0.167   21        0  \n",
       "4                     2.288   33        1  "
      ]
     },
     "execution_count": 23,
     "metadata": {},
     "output_type": "execute_result"
    }
   ],
   "source": [
    "import pandas as pd\n",
    "import torch\n",
    "\n",
    "diabetes_df = pd.read_csv(\"diabetes.csv\")\n",
    "diabetes_df.head()"
   ]
  },
  {
   "cell_type": "code",
   "execution_count": 24,
   "metadata": {},
   "outputs": [],
   "source": [
    "from sklearn.model_selection import train_test_split\n",
    "from sklearn.preprocessing import StandardScaler\n",
    "\n",
    "X = diabetes_df.drop('Outcome', axis=1).values\n",
    "y = diabetes_df['Outcome'].values\n",
    "\n",
    "# Split into training and test set\n",
    "X_train, X_test, y_train, y_test = train_test_split(X, y, test_size = 0.2, random_state=42, stratify=y)\n",
    "\n",
    "# #Standardize\n",
    "sc= StandardScaler()\n",
    "X_train=sc.fit_transform(X_train)\n",
    "X_test=sc.fit_transform(X_test)"
   ]
  },
  {
   "cell_type": "code",
   "execution_count": 25,
   "metadata": {},
   "outputs": [
    {
     "name": "stdout",
     "output_type": "stream",
     "text": [
      "tensor([[-0.8514, -0.9801, -0.4048,  ..., -0.6077,  0.3108, -0.7922],\n",
      "        [ 0.3566,  0.1614,  0.4654,  ..., -0.3021, -0.1164,  0.5610],\n",
      "        [-0.5494, -0.5045, -0.6223,  ...,  0.3726, -0.7649, -0.7076],\n",
      "        ...,\n",
      "        [-0.8514, -0.7582,  0.0303,  ...,  0.7800, -0.7861, -0.2847],\n",
      "        [ 1.8665, -0.3142,  0.0303,  ..., -0.5695, -1.0194,  0.5610],\n",
      "        [ 0.0546,  0.7322, -0.6223,  ..., -0.3149, -0.5770,  0.3073]])\n"
     ]
    }
   ],
   "source": [
    "import torch.nn as nn\n",
    "import torch.nn.functional as F #this has activation functions\n",
    "\n",
    "# Creating tensors\n",
    "X_train = torch.FloatTensor(X_train)\n",
    "X_test = torch.FloatTensor(X_test)\n",
    "\n",
    "y_train = torch.LongTensor(y_train)\n",
    "y_test = torch.LongTensor(y_test)\n",
    "\n",
    "print(X_train)"
   ]
  },
  {
   "cell_type": "code",
   "execution_count": 26,
   "metadata": {},
   "outputs": [],
   "source": [
    "class ANN_Model(nn.Module):\n",
    "    def __init__(self, input_features=8, hidden1=20, hidden2=20, out_features =2):\n",
    "        super().__init__()\n",
    "        self.layer_1_connection = nn.Linear(input_features, hidden1)\n",
    "        self.layer_2_connection = nn.Linear(hidden1, hidden2)\n",
    "        self.out = nn.Linear(hidden2, out_features)\n",
    "    \n",
    "    def forward(self, x):\n",
    "        #apply activation functions\n",
    "        x = F.relu(self.layer_1_connection(x))\n",
    "        x = F.relu(self.layer_2_connection(x))\n",
    "        x = self.out(x)\n",
    "        return x"
   ]
  },
  {
   "cell_type": "code",
   "execution_count": 27,
   "metadata": {},
   "outputs": [],
   "source": [
    "torch.manual_seed(42)\n",
    "\n",
    "#instantiate the model\n",
    "model = ANN_Model()"
   ]
  },
  {
   "cell_type": "code",
   "execution_count": 84,
   "metadata": {},
   "outputs": [],
   "source": [
    "# loss function\n",
    "loss_function = nn.CrossEntropyLoss()\n",
    "\n",
    "#optimizer\n",
    "#optimizer = torch.optim.Adam(model.parameters(), lr = 0.01)"
   ]
  },
  {
   "cell_type": "code",
   "execution_count": 29,
   "metadata": {},
   "outputs": [
    {
     "name": "stdout",
     "output_type": "stream",
     "text": [
      "Epoch number: 1 with loss: 0.647413969039917\n",
      "Epoch number: 11 with loss: 0.5237652659416199\n",
      "Epoch number: 21 with loss: 0.45212870836257935\n",
      "Epoch number: 31 with loss: 0.416485071182251\n",
      "Epoch number: 41 with loss: 0.39122629165649414\n",
      "Epoch number: 51 with loss: 0.36800774931907654\n",
      "Epoch number: 61 with loss: 0.3417806625366211\n",
      "Epoch number: 71 with loss: 0.3113643229007721\n",
      "Epoch number: 81 with loss: 0.2804130017757416\n",
      "Epoch number: 91 with loss: 0.24845130741596222\n",
      "Epoch number: 101 with loss: 0.22124838829040527\n",
      "Epoch number: 111 with loss: 0.19681058824062347\n",
      "Epoch number: 121 with loss: 0.17579977214336395\n",
      "Epoch number: 131 with loss: 0.15588246285915375\n",
      "Epoch number: 141 with loss: 0.13907697796821594\n",
      "Epoch number: 151 with loss: 0.12018003314733505\n",
      "Epoch number: 161 with loss: 0.10505197942256927\n",
      "Epoch number: 171 with loss: 0.09225479513406754\n",
      "Epoch number: 181 with loss: 0.07996862381696701\n",
      "Epoch number: 191 with loss: 0.0701649934053421\n",
      "Epoch number: 201 with loss: 0.061516039073467255\n",
      "Epoch number: 211 with loss: 0.05396604910492897\n",
      "Epoch number: 221 with loss: 0.047924384474754333\n",
      "Epoch number: 231 with loss: 0.04239210486412048\n",
      "Epoch number: 241 with loss: 0.037359729409217834\n",
      "Epoch number: 251 with loss: 0.0334479995071888\n",
      "Epoch number: 261 with loss: 0.030222641304135323\n",
      "Epoch number: 271 with loss: 0.02644834667444229\n",
      "Epoch number: 281 with loss: 0.02378884144127369\n",
      "Epoch number: 291 with loss: 0.02155657485127449\n",
      "Epoch number: 301 with loss: 0.01960192620754242\n",
      "Epoch number: 311 with loss: 0.01782076247036457\n",
      "Epoch number: 321 with loss: 0.016194310039281845\n",
      "Epoch number: 331 with loss: 0.014796474017202854\n",
      "Epoch number: 341 with loss: 0.013543489389121532\n",
      "Epoch number: 351 with loss: 0.012419473379850388\n",
      "Epoch number: 361 with loss: 0.011436032131314278\n",
      "Epoch number: 371 with loss: 0.010577503591775894\n",
      "Epoch number: 381 with loss: 0.009780175983905792\n",
      "Epoch number: 391 with loss: 0.009063162840902805\n",
      "Epoch number: 401 with loss: 0.008418840356171131\n",
      "Epoch number: 411 with loss: 0.007825449109077454\n",
      "Epoch number: 421 with loss: 0.007261013612151146\n",
      "Epoch number: 431 with loss: 0.0067658806219697\n",
      "Epoch number: 441 with loss: 0.006333716679364443\n",
      "Epoch number: 451 with loss: 0.005934753455221653\n",
      "Epoch number: 461 with loss: 0.00555129861459136\n",
      "Epoch number: 471 with loss: 0.005224535707384348\n",
      "Epoch number: 481 with loss: 0.0049110520631074905\n",
      "Epoch number: 491 with loss: 0.00463127763941884\n"
     ]
    }
   ],
   "source": [
    "#run model through multiple epochs/iterations\n",
    "final_loss = []\n",
    "n_epochs = 500\n",
    "for epoch in range(n_epochs):\n",
    "    y_pred = model.forward(X_train)\n",
    "    loss = loss_function(y_pred, y_train)\n",
    "    final_loss.append(loss)\n",
    "    \n",
    "    if epoch % 10 == 1:\n",
    "        print(f'Epoch number: {epoch} with loss: {loss.item()}')\n",
    "    \n",
    "    optimizer.zero_grad() #zero the gradient before running backwards propagation\n",
    "    loss.backward() #for backward propagation \n",
    "    optimizer.step() #performs one optimization step each epoch"
   ]
  },
  {
   "cell_type": "code",
   "execution_count": 30,
   "metadata": {},
   "outputs": [],
   "source": [
    "#predictions\n",
    "y_pred = []\n",
    "\n",
    "with torch.no_grad():\n",
    "    for i, data in enumerate(X_test):\n",
    "        prediction = model(data)\n",
    "        y_pred.append(prediction.argmax().item())"
   ]
  },
  {
   "cell_type": "code",
   "execution_count": 31,
   "metadata": {},
   "outputs": [
    {
     "name": "stdout",
     "output_type": "stream",
     "text": [
      "0.6948051948051948\n"
     ]
    }
   ],
   "source": [
    "from sklearn.metrics import accuracy_score\n",
    "a_score = accuracy_score(y_test, y_pred)\n",
    "print(a_score)"
   ]
  },
  {
   "cell_type": "code",
   "execution_count": 32,
   "metadata": {},
   "outputs": [
    {
     "name": "stdout",
     "output_type": "stream",
     "text": [
      "              precision    recall  f1-score   support\n",
      "\n",
      "           0       0.78      0.74      0.76       100\n",
      "           1       0.56      0.61      0.58        54\n",
      "\n",
      "    accuracy                           0.69       154\n",
      "   macro avg       0.67      0.68      0.67       154\n",
      "weighted avg       0.70      0.69      0.70       154\n",
      "\n"
     ]
    }
   ],
   "source": [
    "from sklearn.metrics import classification_report\n",
    "\n",
    "print(classification_report(y_test, y_pred))"
   ]
  },
  {
   "cell_type": "code",
   "execution_count": 69,
   "metadata": {},
   "outputs": [
    {
     "data": {
      "text/plain": [
       "<torch._C.Generator at 0x7feb1c0b83d0>"
      ]
     },
     "execution_count": 69,
     "metadata": {},
     "output_type": "execute_result"
    }
   ],
   "source": [
    "torch.manual_seed(42)"
   ]
  },
  {
   "cell_type": "code",
   "execution_count": 85,
   "metadata": {},
   "outputs": [],
   "source": [
    "#trying a new optimizer\n",
    "optimizer_new = torch.optim.SGD(model.parameters(), lr=0.01, momentum=0.9)"
   ]
  },
  {
   "cell_type": "code",
   "execution_count": 86,
   "metadata": {},
   "outputs": [
    {
     "name": "stdout",
     "output_type": "stream",
     "text": [
      "Epoch number: 1 with loss: 0.0019075236050412059\n",
      "Epoch number: 11 with loss: 0.0019065699307247996\n",
      "Epoch number: 21 with loss: 0.0019047590903937817\n",
      "Epoch number: 31 with loss: 0.0019027445232495666\n",
      "Epoch number: 41 with loss: 0.00190059095621109\n",
      "Epoch number: 51 with loss: 0.001898408168926835\n",
      "Epoch number: 61 with loss: 0.0018962433096021414\n",
      "Epoch number: 71 with loss: 0.0018941123271360993\n",
      "Epoch number: 81 with loss: 0.001892012543976307\n",
      "Epoch number: 91 with loss: 0.0018898970447480679\n",
      "Epoch number: 101 with loss: 0.0018877907423302531\n",
      "Epoch number: 111 with loss: 0.0018855440430343151\n",
      "Epoch number: 121 with loss: 0.0018834267975762486\n",
      "Epoch number: 131 with loss: 0.0018813427304849029\n",
      "Epoch number: 141 with loss: 0.0018791434122249484\n",
      "Epoch number: 151 with loss: 0.0018770667957141995\n",
      "Epoch number: 161 with loss: 0.00187488307710737\n",
      "Epoch number: 171 with loss: 0.0018727665301412344\n",
      "Epoch number: 181 with loss: 0.001870694919489324\n",
      "Epoch number: 191 with loss: 0.0018686234252527356\n",
      "Epoch number: 201 with loss: 0.0018664601957425475\n",
      "Epoch number: 211 with loss: 0.001864302670583129\n",
      "Epoch number: 221 with loss: 0.001862228731624782\n",
      "Epoch number: 231 with loss: 0.001860008342191577\n",
      "Epoch number: 241 with loss: 0.0018579453462734818\n",
      "Epoch number: 251 with loss: 0.0018558499868959188\n",
      "Epoch number: 261 with loss: 0.001853674533776939\n",
      "Epoch number: 271 with loss: 0.001851645647548139\n",
      "Epoch number: 281 with loss: 0.0018495626281946898\n",
      "Epoch number: 291 with loss: 0.0018474351381883025\n",
      "Epoch number: 301 with loss: 0.0018452609656378627\n",
      "Epoch number: 311 with loss: 0.00184327969327569\n",
      "Epoch number: 321 with loss: 0.00184117560274899\n",
      "Epoch number: 331 with loss: 0.0018391028279438615\n",
      "Epoch number: 341 with loss: 0.0018369671888649464\n",
      "Epoch number: 351 with loss: 0.0018349491292610765\n",
      "Epoch number: 361 with loss: 0.0018329090671613812\n",
      "Epoch number: 371 with loss: 0.0018308679573237896\n",
      "Epoch number: 381 with loss: 0.0018287774873897433\n",
      "Epoch number: 391 with loss: 0.001826802734285593\n",
      "Epoch number: 401 with loss: 0.0018247895641252398\n",
      "Epoch number: 411 with loss: 0.0018226723186671734\n",
      "Epoch number: 421 with loss: 0.0018206044333055615\n",
      "Epoch number: 431 with loss: 0.0018186180386692286\n",
      "Epoch number: 441 with loss: 0.0018166335066780448\n",
      "Epoch number: 451 with loss: 0.0018145919311791658\n",
      "Epoch number: 461 with loss: 0.0018125699134543538\n",
      "Epoch number: 471 with loss: 0.0018105832859873772\n",
      "Epoch number: 481 with loss: 0.0018085218034684658\n",
      "Epoch number: 491 with loss: 0.0018065214389935136\n"
     ]
    }
   ],
   "source": [
    "#run model through multiple epochs/iterations\n",
    "final_loss = []\n",
    "n_epochs = 500\n",
    "for epoch in range(n_epochs):\n",
    "    y_pred = model.forward(X_train)\n",
    "    loss = loss_function(y_pred, y_train)\n",
    "    final_loss.append(loss)\n",
    "    \n",
    "    if epoch % 10 == 1:\n",
    "        print(f'Epoch number: {epoch} with loss: {loss.item()}')\n",
    "    \n",
    "    optimizer_new.zero_grad() #zero the gradient before running backwards propagation\n",
    "    loss.backward() #for backward propagation \n",
    "    optimizer_new.step() #performs one optimization step each epoch"
   ]
  },
  {
   "cell_type": "code",
   "execution_count": 87,
   "metadata": {},
   "outputs": [],
   "source": [
    "y_pred = []\n",
    "\n",
    "with torch.no_grad():\n",
    "    for i, data in enumerate(X_test):\n",
    "        prediction = model(data)\n",
    "        y_pred.append(prediction.argmax().item())"
   ]
  },
  {
   "cell_type": "code",
   "execution_count": 88,
   "metadata": {},
   "outputs": [
    {
     "name": "stdout",
     "output_type": "stream",
     "text": [
      "0.6948051948051948\n"
     ]
    }
   ],
   "source": [
    "from sklearn.metrics import accuracy_score\n",
    "a_score = accuracy_score(y_test, y_pred)\n",
    "print(a_score)"
   ]
  },
  {
   "cell_type": "markdown",
   "metadata": {},
   "source": [
    "## 2. Write a function that lists and counts the number of divisors for an input value."
   ]
  },
  {
   "cell_type": "code",
   "execution_count": 69,
   "metadata": {},
   "outputs": [
    {
     "data": {
      "text/plain": [
       "[1, 3, 5, 15]"
      ]
     },
     "execution_count": 69,
     "metadata": {},
     "output_type": "execute_result"
    }
   ],
   "source": [
    "def divisor(n):\n",
    "    for i in range(n):     \n",
    "        x = [i for i in range(1,n+1) if not n % i]\n",
    "    return x\n",
    "\n",
    "my_list = divisor(15)\n",
    "\n",
    "my_list "
   ]
  },
  {
   "cell_type": "code",
   "execution_count": 70,
   "metadata": {},
   "outputs": [
    {
     "data": {
      "text/plain": [
       "4"
      ]
     },
     "execution_count": 70,
     "metadata": {},
     "output_type": "execute_result"
    }
   ],
   "source": [
    "len(my_list)"
   ]
  },
  {
   "cell_type": "code",
   "execution_count": 71,
   "metadata": {},
   "outputs": [],
   "source": [
    "#converting to string\n",
    "list_string = map(str, my_list) \n",
    "new_list = list(list_string)"
   ]
  },
  {
   "cell_type": "code",
   "execution_count": 72,
   "metadata": {},
   "outputs": [],
   "source": [
    "#def format(l):\n",
    "    #return \",\".join(new_list)\n",
    "#format(new_list)"
   ]
  },
  {
   "cell_type": "code",
   "execution_count": 74,
   "metadata": {},
   "outputs": [
    {
     "name": "stdout",
     "output_type": "stream",
     "text": [
      "There are 4 divisors:1,3,5 and 15\n"
     ]
    }
   ],
   "source": [
    "def format1(l):\n",
    "    for i in l[:-1]:\n",
    "        blank = \",\".join(l[:-1]) + \" and \" + l[-1]\n",
    "        return blank\n",
    "\n",
    "num = str(len(new_list))\n",
    "print(\"There are\" +\" \"+ num  +\" \"+ \"divisors:\" + format1(new_list))   "
   ]
  },
  {
   "cell_type": "code",
   "execution_count": null,
   "metadata": {},
   "outputs": [],
   "source": []
  },
  {
   "cell_type": "code",
   "execution_count": null,
   "metadata": {},
   "outputs": [],
   "source": []
  },
  {
   "cell_type": "code",
   "execution_count": null,
   "metadata": {},
   "outputs": [],
   "source": []
  },
  {
   "cell_type": "code",
   "execution_count": null,
   "metadata": {},
   "outputs": [],
   "source": []
  }
 ],
 "metadata": {
  "kernelspec": {
   "display_name": "Python 3",
   "language": "python",
   "name": "python3"
  },
  "language_info": {
   "codemirror_mode": {
    "name": "ipython",
    "version": 3
   },
   "file_extension": ".py",
   "mimetype": "text/x-python",
   "name": "python",
   "nbconvert_exporter": "python",
   "pygments_lexer": "ipython3",
   "version": "3.8.5"
  }
 },
 "nbformat": 4,
 "nbformat_minor": 4
}
