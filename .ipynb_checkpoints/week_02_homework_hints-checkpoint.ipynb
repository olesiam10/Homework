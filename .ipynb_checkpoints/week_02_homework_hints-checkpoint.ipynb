{
 "cells": [
  {
   "cell_type": "markdown",
   "metadata": {},
   "source": [
    "#### Week 02 Homework Hints\n",
    "\n",
    "The homework was more challenging than anticipated. So here are some helpful hints. \n",
    "\n",
    "1. Don't worry about how your code looks. We only care about if it works. \n",
    "2. If you have struggled with it don't be afraid to google for help. \n",
    "    * Start with basic questions and if necessary google the answers. \n",
    "    * If you do this please work through a couple of solutions so you understand them. \n",
    "    * We want you to learn not just hand in working code. \n",
    "3. Some questions are a little ambiguous. Interpret them the easiest way first. Then you can modify your code to interpret them in a harder way if you choose. \n"
   ]
  },
  {
   "cell_type": "code",
   "execution_count": 30,
   "metadata": {},
   "outputs": [
    {
     "name": "stdout",
     "output_type": "stream",
     "text": [
      "0 cat\n",
      "1 dog\n",
      "2 bat\n",
      "3 rate\n"
     ]
    }
   ],
   "source": [
    "# enumerate may be a helpful function for looping lists\n",
    "# enumerate gives you the index as well as the value\n",
    "\n",
    "some_list = ['cat','dog','bat','rate']\n",
    "\n",
    "for index, item in enumerate(some_list):\n",
    "    print(index, item)"
   ]
  },
  {
   "cell_type": "code",
   "execution_count": 31,
   "metadata": {},
   "outputs": [
    {
     "name": "stdout",
     "output_type": "stream",
     "text": [
      "cat marvin\n",
      "dog zeus\n",
      "rat polly\n"
     ]
    }
   ],
   "source": [
    "# dict.items() is useful for getting the key/value together\n",
    "\n",
    "my_dict = {'cat':'marvin','dog':'zeus','rat':'polly'}\n",
    "\n",
    "for key,value in my_dict.items():\n",
    "    print(key, value)"
   ]
  },
  {
   "cell_type": "code",
   "execution_count": 32,
   "metadata": {},
   "outputs": [
    {
     "name": "stdout",
     "output_type": "stream",
     "text": [
      "[1, 2, 4, 5, 6, 7, 9]\n"
     ]
    }
   ],
   "source": [
    "# Don't worry about modifying lists or strings or dicts in place. \n",
    "# Feel free to return your own copy! \n",
    "\n",
    "my_list = [1,2,3,4,5,6,7,3,3,9,3]\n",
    "no_threes = []\n",
    "\n",
    "for i in my_list:\n",
    "    if i !=3:\n",
    "        no_threes.append(i)\n",
    "\n",
    "print(no_threes)"
   ]
  },
  {
   "cell_type": "code",
   "execution_count": 33,
   "metadata": {},
   "outputs": [
    {
     "name": "stdout",
     "output_type": "stream",
     "text": [
      "['A', 's', 't', 'r', 'i', 'n', 'g', 't', 'h', 'a', 't', 'I', 'n', 'e', 'e', 'd', 't', 'o', 'm', 'a', 'n', 'i', 'p', 'u', 'l', 'a', 't', 'e', '.']\n",
      "AstringthatIneedtomanipulate.\n",
      "\n",
      "Help on built-in function join:\n",
      "\n",
      "join(iterable, /) method of builtins.str instance\n",
      "    Concatenate any number of strings.\n",
      "    \n",
      "    The string whose method is called is inserted in between each given string.\n",
      "    The result is returned as a new string.\n",
      "    \n",
      "    Example: '.'.join(['ab', 'pq', 'rs']) -> 'ab.pq.rs'\n",
      "\n"
     ]
    }
   ],
   "source": [
    "# use the \"\".join(somelist) method to turn a list of characters into a string. \n",
    "\n",
    "some_string = 'Astrin2gth2atI2needtom2a2nipu2late.'\n",
    "\n",
    "char_list = []\n",
    "\n",
    "for char in some_string:\n",
    "    if char != '2':\n",
    "        char_list.append(char)\n",
    "print(char_list)\n",
    "\n",
    "print(\"\".join(char_list))\n",
    "\n",
    "#  \"\" is an object. It has the .join() method available. \n",
    "\n",
    "print()\n",
    "help(\"\".join)"
   ]
  },
  {
   "cell_type": "markdown",
   "metadata": {},
   "source": [
    "### Classes\n",
    "**instance variables** apply only to that object. \n",
    "\n",
    "**class variables** apply to every instance of a class. \n",
    "\n",
    "\n",
    "\n",
    "\n",
    "**regular methods** (instance methods) must use instance variables and MAY use class variables too.\n",
    "\n",
    "**class methods** use only class variables.\n",
    "\n",
    "**static methods** do not use either class variables or instance variables. \n",
    "\n",
    "Don't forget arguments such as `cls` and `self` in your classes! \n"
   ]
  },
  {
   "cell_type": "code",
   "execution_count": 36,
   "metadata": {},
   "outputs": [
    {
     "name": "stdout",
     "output_type": "stream",
     "text": [
      "935.02\n",
      "1135.02\n",
      "3\n",
      "Learn Python the Hard Way, by: John Smith, cost the library $19.99\n",
      "['Learn Python the Hard Way', 'SQL in 20 Minutes', 'Apple a Day']\n",
      "['Apple a Day', 'Learn Python the Hard Way', 'SQL in 20 Minutes']\n",
      "3\n"
     ]
    }
   ],
   "source": [
    "import webbrowser\n",
    "\n",
    "class Book():\n",
    "    \n",
    "    # class variables\n",
    "    collection_count = 0 # nunmber of books in our collection\n",
    "    library_funds = 1000 # money we have for buying books\n",
    "    collection = [] # list of books in our collection\n",
    "    \n",
    "    def __init__(self,title, author, ISBN, cost): # create a Book object\n",
    "        \n",
    "        # instance variables\n",
    "        self.title = title \n",
    "        self.author = author\n",
    "        self.ISBN = ISBN\n",
    "        self.cost = cost\n",
    "        \n",
    "        # change our class variables\n",
    "        Book.library_funds -= cost # reduce our library funds by the cost of the book\n",
    "        Book.collection_count +=1 # add to our  collection count\n",
    "        Book.collection.append(title) # add book title to our collection\n",
    "        \n",
    "    # @Classmethod decorator is required otherwise it will expect a 'self' argument. \n",
    "    @classmethod # classmethod. Only uses class variables. Applies to all instances of Book. \n",
    "    def funds(cls,funding):\n",
    "        cls.library_funds += funding\n",
    "        \n",
    "    def info(self): # regular method (instance method)\n",
    "        \n",
    "        return f'{self.title}, by: {self.author}, cost the library ${self.cost}'\n",
    "    \n",
    "    # @staticmethod decorator is required otherwise it will expect a 'self' argument. \n",
    "    @staticmethod # static mehtods do not rely on instance variables or class variables. But have related functionality. \n",
    "    def nearest_library():\n",
    "        \"\"\"Search the web for the nearest library.\"\"\"\n",
    "        webbrowser.open('https://www.google.com/search?channel=fs&client=ubuntu&q=nearest+library', new=0)\n",
    "        \n",
    "    # @Classmethod decorator is required otherwise it will expect a 'self' argument. \n",
    "    @classmethod # classmethod. Only uses class variables. Applies to all instances of Book. \n",
    "    def sort_books(cls):\n",
    "        \n",
    "        cls.collection.sort() # sort the collection (sort is an inplace operation)\n",
    "        return cls.collection\n",
    "    \n",
    "\n",
    "python = Book('Learn Python the Hard Way', 'John Smith', '694868464', 19.99) # create book\n",
    "\n",
    "sql = Book('SQL in 20 Minutes', 'Jane Doe', '98468468468', 32.99) # create book\n",
    "\n",
    "apple = Book('Apple a Day','Bill Brown', '123456789', 12.00)\n",
    "\n",
    "print(Book.library_funds) # funds decrease\n",
    "Book.funds(200) # add some money to our library\n",
    "\n",
    "print(Book.library_funds)\n",
    "\n",
    "print(Book.collection_count) # we have 2 books in our library\n",
    "\n",
    "print(python.info())\n",
    "\n",
    "# sql.nearest_library() # Search Google to find nearest library. \n",
    "print(Book.collection)\n",
    "Book.sort_books()\n",
    "\n",
    "print(Book.collection)\n",
    "print(Book.collection_count) # Books are now sorted"
   ]
  },
  {
   "cell_type": "code",
   "execution_count": 38,
   "metadata": {},
   "outputs": [],
   "source": [
    "Book.nearest_library() # Search Google to find nearest library. "
   ]
  },
  {
   "cell_type": "code",
   "execution_count": null,
   "metadata": {},
   "outputs": [],
   "source": []
  },
  {
   "cell_type": "code",
   "execution_count": null,
   "metadata": {},
   "outputs": [],
   "source": []
  }
 ],
 "metadata": {
  "kernelspec": {
   "display_name": "Python 3",
   "language": "python",
   "name": "python3"
  },
  "language_info": {
   "codemirror_mode": {
    "name": "ipython",
    "version": 3
   },
   "file_extension": ".py",
   "mimetype": "text/x-python",
   "name": "python",
   "nbconvert_exporter": "python",
   "pygments_lexer": "ipython3",
   "version": "3.8.5"
  }
 },
 "nbformat": 4,
 "nbformat_minor": 4
}
