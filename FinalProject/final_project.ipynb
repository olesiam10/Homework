{
 "cells": [
  {
   "cell_type": "code",
   "execution_count": 102,
   "metadata": {},
   "outputs": [],
   "source": [
    "#importing all necessary libraries\n",
    "import numpy as np\n",
    "import pandas as pd\n",
    "import matplotlib.pyplot as plt\n",
    "import seaborn as sns\n",
    "from sklearn.linear_model import LinearRegression\n",
    "from sklearn.model_selection import train_test_split\n",
    "from sklearn.metrics import confusion_matrix, classification_report, plot_confusion_matrix\n",
    "import pydotplus\n",
    "from sklearn.preprocessing import StandardScaler"
   ]
  },
  {
   "cell_type": "code",
   "execution_count": 103,
   "metadata": {},
   "outputs": [
    {
     "data": {
      "text/html": [
       "<div>\n",
       "<style scoped>\n",
       "    .dataframe tbody tr th:only-of-type {\n",
       "        vertical-align: middle;\n",
       "    }\n",
       "\n",
       "    .dataframe tbody tr th {\n",
       "        vertical-align: top;\n",
       "    }\n",
       "\n",
       "    .dataframe thead th {\n",
       "        text-align: right;\n",
       "    }\n",
       "</style>\n",
       "<table border=\"1\" class=\"dataframe\">\n",
       "  <thead>\n",
       "    <tr style=\"text-align: right;\">\n",
       "      <th></th>\n",
       "      <th>ANTIGENNEGATIVE</th>\n",
       "      <th>ANTIGENPOSITIVE</th>\n",
       "      <th>DATE</th>\n",
       "      <th>PCRINCONCLUSIVE</th>\n",
       "      <th>PCRNEGATIVE</th>\n",
       "      <th>PCRPOSITIVE</th>\n",
       "      <th>POSITIVITYRATE</th>\n",
       "      <th>POSITIVITYRATEROLLINGAVG</th>\n",
       "      <th>SEROLOGYINCONCLUSIVE</th>\n",
       "      <th>SEROLOGYNEGATIVE</th>\n",
       "      <th>SEROLOGYPOSITIVE</th>\n",
       "      <th>TOTALNEGATIVE</th>\n",
       "      <th>TOTALPOSITIVE</th>\n",
       "    </tr>\n",
       "  </thead>\n",
       "  <tbody>\n",
       "    <tr>\n",
       "      <th>0</th>\n",
       "      <td>0</td>\n",
       "      <td>0</td>\n",
       "      <td>03-03-2020</td>\n",
       "      <td>0</td>\n",
       "      <td>0</td>\n",
       "      <td>1</td>\n",
       "      <td>100.0</td>\n",
       "      <td>0.0</td>\n",
       "      <td>0</td>\n",
       "      <td>0</td>\n",
       "      <td>0</td>\n",
       "      <td>0</td>\n",
       "      <td>1</td>\n",
       "    </tr>\n",
       "    <tr>\n",
       "      <th>1</th>\n",
       "      <td>0</td>\n",
       "      <td>0</td>\n",
       "      <td>03-04-2020</td>\n",
       "      <td>0</td>\n",
       "      <td>0</td>\n",
       "      <td>0</td>\n",
       "      <td>0.0</td>\n",
       "      <td>0.0</td>\n",
       "      <td>0</td>\n",
       "      <td>0</td>\n",
       "      <td>0</td>\n",
       "      <td>0</td>\n",
       "      <td>0</td>\n",
       "    </tr>\n",
       "    <tr>\n",
       "      <th>2</th>\n",
       "      <td>0</td>\n",
       "      <td>0</td>\n",
       "      <td>03-05-2020</td>\n",
       "      <td>0</td>\n",
       "      <td>0</td>\n",
       "      <td>0</td>\n",
       "      <td>0.0</td>\n",
       "      <td>0.0</td>\n",
       "      <td>0</td>\n",
       "      <td>0</td>\n",
       "      <td>0</td>\n",
       "      <td>0</td>\n",
       "      <td>0</td>\n",
       "    </tr>\n",
       "    <tr>\n",
       "      <th>3</th>\n",
       "      <td>0</td>\n",
       "      <td>0</td>\n",
       "      <td>03-06-2020</td>\n",
       "      <td>0</td>\n",
       "      <td>1</td>\n",
       "      <td>0</td>\n",
       "      <td>0.0</td>\n",
       "      <td>0.0</td>\n",
       "      <td>0</td>\n",
       "      <td>0</td>\n",
       "      <td>0</td>\n",
       "      <td>1</td>\n",
       "      <td>0</td>\n",
       "    </tr>\n",
       "    <tr>\n",
       "      <th>4</th>\n",
       "      <td>0</td>\n",
       "      <td>0</td>\n",
       "      <td>03-07-2020</td>\n",
       "      <td>0</td>\n",
       "      <td>0</td>\n",
       "      <td>0</td>\n",
       "      <td>0.0</td>\n",
       "      <td>0.0</td>\n",
       "      <td>0</td>\n",
       "      <td>0</td>\n",
       "      <td>0</td>\n",
       "      <td>0</td>\n",
       "      <td>0</td>\n",
       "    </tr>\n",
       "  </tbody>\n",
       "</table>\n",
       "</div>"
      ],
      "text/plain": [
       "   ANTIGENNEGATIVE  ANTIGENPOSITIVE        DATE  PCRINCONCLUSIVE  PCRNEGATIVE  \\\n",
       "0                0                0  03-03-2020                0            0   \n",
       "1                0                0  03-04-2020                0            0   \n",
       "2                0                0  03-05-2020                0            0   \n",
       "3                0                0  03-06-2020                0            1   \n",
       "4                0                0  03-07-2020                0            0   \n",
       "\n",
       "   PCRPOSITIVE  POSITIVITYRATE  POSITIVITYRATEROLLINGAVG  \\\n",
       "0            1           100.0                       0.0   \n",
       "1            0             0.0                       0.0   \n",
       "2            0             0.0                       0.0   \n",
       "3            0             0.0                       0.0   \n",
       "4            0             0.0                       0.0   \n",
       "\n",
       "   SEROLOGYINCONCLUSIVE  SEROLOGYNEGATIVE  SEROLOGYPOSITIVE  TOTALNEGATIVE  \\\n",
       "0                     0                 0                 0              0   \n",
       "1                     0                 0                 0              0   \n",
       "2                     0                 0                 0              0   \n",
       "3                     0                 0                 0              1   \n",
       "4                     0                 0                 0              0   \n",
       "\n",
       "   TOTALPOSITIVE  \n",
       "0              1  \n",
       "1              0  \n",
       "2              0  \n",
       "3              0  \n",
       "4              0  "
      ]
     },
     "execution_count": 103,
     "metadata": {},
     "output_type": "execute_result"
    }
   ],
   "source": [
    "#loading the data\n",
    "tests_df = pd.read_csv('tests_data.csv')\n",
    "tests_df.head()"
   ]
  },
  {
   "cell_type": "markdown",
   "metadata": {},
   "source": [
    "## Preprocessing"
   ]
  },
  {
   "cell_type": "code",
   "execution_count": 104,
   "metadata": {},
   "outputs": [
    {
     "data": {
      "text/plain": [
       "ANTIGENNEGATIVE               int64\n",
       "ANTIGENPOSITIVE               int64\n",
       "DATE                         object\n",
       "PCRINCONCLUSIVE               int64\n",
       "PCRNEGATIVE                   int64\n",
       "PCRPOSITIVE                   int64\n",
       "POSITIVITYRATE              float64\n",
       "POSITIVITYRATEROLLINGAVG    float64\n",
       "SEROLOGYINCONCLUSIVE          int64\n",
       "SEROLOGYNEGATIVE              int64\n",
       "SEROLOGYPOSITIVE              int64\n",
       "TOTALNEGATIVE                 int64\n",
       "TOTALPOSITIVE                 int64\n",
       "dtype: object"
      ]
     },
     "execution_count": 104,
     "metadata": {},
     "output_type": "execute_result"
    }
   ],
   "source": [
    "#checking the data types\n",
    "tests_df.dtypes"
   ]
  },
  {
   "cell_type": "code",
   "execution_count": 105,
   "metadata": {},
   "outputs": [],
   "source": [
    "#creating a new columnd \"date\" with the date in a proper format\n",
    "tests_df[\"date\"]=tests_df[\"DATE\"].astype('datetime64')"
   ]
  },
  {
   "cell_type": "code",
   "execution_count": 106,
   "metadata": {},
   "outputs": [
    {
     "data": {
      "text/plain": [
       "ANTIGENNEGATIVE                      int64\n",
       "ANTIGENPOSITIVE                      int64\n",
       "DATE                                object\n",
       "PCRINCONCLUSIVE                      int64\n",
       "PCRNEGATIVE                          int64\n",
       "PCRPOSITIVE                          int64\n",
       "POSITIVITYRATE                     float64\n",
       "POSITIVITYRATEROLLINGAVG           float64\n",
       "SEROLOGYINCONCLUSIVE                 int64\n",
       "SEROLOGYNEGATIVE                     int64\n",
       "SEROLOGYPOSITIVE                     int64\n",
       "TOTALNEGATIVE                        int64\n",
       "TOTALPOSITIVE                        int64\n",
       "date                        datetime64[ns]\n",
       "dtype: object"
      ]
     },
     "execution_count": 106,
     "metadata": {},
     "output_type": "execute_result"
    }
   ],
   "source": [
    "tests_df.dtypes"
   ]
  },
  {
   "cell_type": "code",
   "execution_count": 107,
   "metadata": {},
   "outputs": [
    {
     "data": {
      "text/html": [
       "<div>\n",
       "<style scoped>\n",
       "    .dataframe tbody tr th:only-of-type {\n",
       "        vertical-align: middle;\n",
       "    }\n",
       "\n",
       "    .dataframe tbody tr th {\n",
       "        vertical-align: top;\n",
       "    }\n",
       "\n",
       "    .dataframe thead th {\n",
       "        text-align: right;\n",
       "    }\n",
       "</style>\n",
       "<table border=\"1\" class=\"dataframe\">\n",
       "  <thead>\n",
       "    <tr style=\"text-align: right;\">\n",
       "      <th></th>\n",
       "      <th>ANTIGENNEGATIVE</th>\n",
       "      <th>ANTIGENPOSITIVE</th>\n",
       "      <th>PCRINCONCLUSIVE</th>\n",
       "      <th>PCRNEGATIVE</th>\n",
       "      <th>PCRPOSITIVE</th>\n",
       "      <th>POSITIVITYRATE</th>\n",
       "      <th>POSITIVITYRATEROLLINGAVG</th>\n",
       "      <th>SEROLOGYINCONCLUSIVE</th>\n",
       "      <th>SEROLOGYNEGATIVE</th>\n",
       "      <th>SEROLOGYPOSITIVE</th>\n",
       "      <th>TOTALNEGATIVE</th>\n",
       "      <th>TOTALPOSITIVE</th>\n",
       "      <th>date</th>\n",
       "    </tr>\n",
       "  </thead>\n",
       "  <tbody>\n",
       "    <tr>\n",
       "      <th>0</th>\n",
       "      <td>0</td>\n",
       "      <td>0</td>\n",
       "      <td>0</td>\n",
       "      <td>0</td>\n",
       "      <td>1</td>\n",
       "      <td>100.000000</td>\n",
       "      <td>0.0</td>\n",
       "      <td>0</td>\n",
       "      <td>0</td>\n",
       "      <td>0</td>\n",
       "      <td>0</td>\n",
       "      <td>1</td>\n",
       "      <td>2020-03-03</td>\n",
       "    </tr>\n",
       "    <tr>\n",
       "      <th>1</th>\n",
       "      <td>0</td>\n",
       "      <td>0</td>\n",
       "      <td>0</td>\n",
       "      <td>0</td>\n",
       "      <td>0</td>\n",
       "      <td>0.000000</td>\n",
       "      <td>0.0</td>\n",
       "      <td>0</td>\n",
       "      <td>0</td>\n",
       "      <td>0</td>\n",
       "      <td>0</td>\n",
       "      <td>0</td>\n",
       "      <td>2020-03-04</td>\n",
       "    </tr>\n",
       "    <tr>\n",
       "      <th>2</th>\n",
       "      <td>0</td>\n",
       "      <td>0</td>\n",
       "      <td>0</td>\n",
       "      <td>0</td>\n",
       "      <td>0</td>\n",
       "      <td>0.000000</td>\n",
       "      <td>0.0</td>\n",
       "      <td>0</td>\n",
       "      <td>0</td>\n",
       "      <td>0</td>\n",
       "      <td>0</td>\n",
       "      <td>0</td>\n",
       "      <td>2020-03-05</td>\n",
       "    </tr>\n",
       "    <tr>\n",
       "      <th>3</th>\n",
       "      <td>0</td>\n",
       "      <td>0</td>\n",
       "      <td>0</td>\n",
       "      <td>1</td>\n",
       "      <td>0</td>\n",
       "      <td>0.000000</td>\n",
       "      <td>0.0</td>\n",
       "      <td>0</td>\n",
       "      <td>0</td>\n",
       "      <td>0</td>\n",
       "      <td>1</td>\n",
       "      <td>0</td>\n",
       "      <td>2020-03-06</td>\n",
       "    </tr>\n",
       "    <tr>\n",
       "      <th>4</th>\n",
       "      <td>0</td>\n",
       "      <td>0</td>\n",
       "      <td>0</td>\n",
       "      <td>0</td>\n",
       "      <td>0</td>\n",
       "      <td>0.000000</td>\n",
       "      <td>0.0</td>\n",
       "      <td>0</td>\n",
       "      <td>0</td>\n",
       "      <td>0</td>\n",
       "      <td>0</td>\n",
       "      <td>0</td>\n",
       "      <td>2020-03-07</td>\n",
       "    </tr>\n",
       "    <tr>\n",
       "      <th>...</th>\n",
       "      <td>...</td>\n",
       "      <td>...</td>\n",
       "      <td>...</td>\n",
       "      <td>...</td>\n",
       "      <td>...</td>\n",
       "      <td>...</td>\n",
       "      <td>...</td>\n",
       "      <td>...</td>\n",
       "      <td>...</td>\n",
       "      <td>...</td>\n",
       "      <td>...</td>\n",
       "      <td>...</td>\n",
       "      <td>...</td>\n",
       "    </tr>\n",
       "    <tr>\n",
       "      <th>497</th>\n",
       "      <td>190</td>\n",
       "      <td>25</td>\n",
       "      <td>0</td>\n",
       "      <td>464</td>\n",
       "      <td>49</td>\n",
       "      <td>9.551657</td>\n",
       "      <td>10.3</td>\n",
       "      <td>0</td>\n",
       "      <td>5</td>\n",
       "      <td>2</td>\n",
       "      <td>659</td>\n",
       "      <td>76</td>\n",
       "      <td>2021-07-13</td>\n",
       "    </tr>\n",
       "    <tr>\n",
       "      <th>498</th>\n",
       "      <td>222</td>\n",
       "      <td>22</td>\n",
       "      <td>0</td>\n",
       "      <td>416</td>\n",
       "      <td>48</td>\n",
       "      <td>10.344828</td>\n",
       "      <td>10.7</td>\n",
       "      <td>0</td>\n",
       "      <td>6</td>\n",
       "      <td>1</td>\n",
       "      <td>644</td>\n",
       "      <td>71</td>\n",
       "      <td>2021-07-14</td>\n",
       "    </tr>\n",
       "    <tr>\n",
       "      <th>499</th>\n",
       "      <td>172</td>\n",
       "      <td>21</td>\n",
       "      <td>0</td>\n",
       "      <td>293</td>\n",
       "      <td>52</td>\n",
       "      <td>15.072464</td>\n",
       "      <td>11.1</td>\n",
       "      <td>0</td>\n",
       "      <td>2</td>\n",
       "      <td>0</td>\n",
       "      <td>467</td>\n",
       "      <td>73</td>\n",
       "      <td>2021-07-15</td>\n",
       "    </tr>\n",
       "    <tr>\n",
       "      <th>500</th>\n",
       "      <td>9</td>\n",
       "      <td>2</td>\n",
       "      <td>0</td>\n",
       "      <td>54</td>\n",
       "      <td>4</td>\n",
       "      <td>6.896552</td>\n",
       "      <td>10.8</td>\n",
       "      <td>0</td>\n",
       "      <td>1</td>\n",
       "      <td>0</td>\n",
       "      <td>64</td>\n",
       "      <td>6</td>\n",
       "      <td>2021-07-16</td>\n",
       "    </tr>\n",
       "    <tr>\n",
       "      <th>501</th>\n",
       "      <td>0</td>\n",
       "      <td>0</td>\n",
       "      <td>0</td>\n",
       "      <td>0</td>\n",
       "      <td>0</td>\n",
       "      <td>0.000000</td>\n",
       "      <td>9.3</td>\n",
       "      <td>0</td>\n",
       "      <td>0</td>\n",
       "      <td>0</td>\n",
       "      <td>0</td>\n",
       "      <td>0</td>\n",
       "      <td>2021-07-17</td>\n",
       "    </tr>\n",
       "  </tbody>\n",
       "</table>\n",
       "<p>502 rows × 13 columns</p>\n",
       "</div>"
      ],
      "text/plain": [
       "     ANTIGENNEGATIVE  ANTIGENPOSITIVE  PCRINCONCLUSIVE  PCRNEGATIVE  \\\n",
       "0                  0                0                0            0   \n",
       "1                  0                0                0            0   \n",
       "2                  0                0                0            0   \n",
       "3                  0                0                0            1   \n",
       "4                  0                0                0            0   \n",
       "..               ...              ...              ...          ...   \n",
       "497              190               25                0          464   \n",
       "498              222               22                0          416   \n",
       "499              172               21                0          293   \n",
       "500                9                2                0           54   \n",
       "501                0                0                0            0   \n",
       "\n",
       "     PCRPOSITIVE  POSITIVITYRATE  POSITIVITYRATEROLLINGAVG  \\\n",
       "0              1      100.000000                       0.0   \n",
       "1              0        0.000000                       0.0   \n",
       "2              0        0.000000                       0.0   \n",
       "3              0        0.000000                       0.0   \n",
       "4              0        0.000000                       0.0   \n",
       "..           ...             ...                       ...   \n",
       "497           49        9.551657                      10.3   \n",
       "498           48       10.344828                      10.7   \n",
       "499           52       15.072464                      11.1   \n",
       "500            4        6.896552                      10.8   \n",
       "501            0        0.000000                       9.3   \n",
       "\n",
       "     SEROLOGYINCONCLUSIVE  SEROLOGYNEGATIVE  SEROLOGYPOSITIVE  TOTALNEGATIVE  \\\n",
       "0                       0                 0                 0              0   \n",
       "1                       0                 0                 0              0   \n",
       "2                       0                 0                 0              0   \n",
       "3                       0                 0                 0              1   \n",
       "4                       0                 0                 0              0   \n",
       "..                    ...               ...               ...            ...   \n",
       "497                     0                 5                 2            659   \n",
       "498                     0                 6                 1            644   \n",
       "499                     0                 2                 0            467   \n",
       "500                     0                 1                 0             64   \n",
       "501                     0                 0                 0              0   \n",
       "\n",
       "     TOTALPOSITIVE       date  \n",
       "0                1 2020-03-03  \n",
       "1                0 2020-03-04  \n",
       "2                0 2020-03-05  \n",
       "3                0 2020-03-06  \n",
       "4                0 2020-03-07  \n",
       "..             ...        ...  \n",
       "497             76 2021-07-13  \n",
       "498             71 2021-07-14  \n",
       "499             73 2021-07-15  \n",
       "500              6 2021-07-16  \n",
       "501              0 2021-07-17  \n",
       "\n",
       "[502 rows x 13 columns]"
      ]
     },
     "execution_count": 107,
     "metadata": {},
     "output_type": "execute_result"
    }
   ],
   "source": [
    "#droping the oroginal date column\n",
    "tests_df.drop(\"DATE\", axis = 1)"
   ]
  },
  {
   "cell_type": "code",
   "execution_count": 108,
   "metadata": {},
   "outputs": [
    {
     "data": {
      "text/html": [
       "<div>\n",
       "<style scoped>\n",
       "    .dataframe tbody tr th:only-of-type {\n",
       "        vertical-align: middle;\n",
       "    }\n",
       "\n",
       "    .dataframe tbody tr th {\n",
       "        vertical-align: top;\n",
       "    }\n",
       "\n",
       "    .dataframe thead th {\n",
       "        text-align: right;\n",
       "    }\n",
       "</style>\n",
       "<table border=\"1\" class=\"dataframe\">\n",
       "  <thead>\n",
       "    <tr style=\"text-align: right;\">\n",
       "      <th></th>\n",
       "      <th>ANTIGENNEGATIVE</th>\n",
       "      <th>ANTIGENPOSITIVE</th>\n",
       "      <th>PCRINCONCLUSIVE</th>\n",
       "      <th>PCRNEGATIVE</th>\n",
       "      <th>PCRPOSITIVE</th>\n",
       "      <th>POSITIVITYRATE</th>\n",
       "      <th>POSITIVITYRATEROLLINGAVG</th>\n",
       "      <th>SEROLOGYINCONCLUSIVE</th>\n",
       "      <th>SEROLOGYNEGATIVE</th>\n",
       "      <th>SEROLOGYPOSITIVE</th>\n",
       "      <th>TOTALNEGATIVE</th>\n",
       "      <th>TOTALPOSITIVE</th>\n",
       "      <th>month</th>\n",
       "      <th>year</th>\n",
       "    </tr>\n",
       "  </thead>\n",
       "  <tbody>\n",
       "    <tr>\n",
       "      <th>0</th>\n",
       "      <td>0</td>\n",
       "      <td>0</td>\n",
       "      <td>0</td>\n",
       "      <td>0</td>\n",
       "      <td>1</td>\n",
       "      <td>100.000000</td>\n",
       "      <td>0.0</td>\n",
       "      <td>0</td>\n",
       "      <td>0</td>\n",
       "      <td>0</td>\n",
       "      <td>0</td>\n",
       "      <td>1</td>\n",
       "      <td>3</td>\n",
       "      <td>2020</td>\n",
       "    </tr>\n",
       "    <tr>\n",
       "      <th>1</th>\n",
       "      <td>0</td>\n",
       "      <td>0</td>\n",
       "      <td>0</td>\n",
       "      <td>0</td>\n",
       "      <td>0</td>\n",
       "      <td>0.000000</td>\n",
       "      <td>0.0</td>\n",
       "      <td>0</td>\n",
       "      <td>0</td>\n",
       "      <td>0</td>\n",
       "      <td>0</td>\n",
       "      <td>0</td>\n",
       "      <td>3</td>\n",
       "      <td>2020</td>\n",
       "    </tr>\n",
       "    <tr>\n",
       "      <th>2</th>\n",
       "      <td>0</td>\n",
       "      <td>0</td>\n",
       "      <td>0</td>\n",
       "      <td>0</td>\n",
       "      <td>0</td>\n",
       "      <td>0.000000</td>\n",
       "      <td>0.0</td>\n",
       "      <td>0</td>\n",
       "      <td>0</td>\n",
       "      <td>0</td>\n",
       "      <td>0</td>\n",
       "      <td>0</td>\n",
       "      <td>3</td>\n",
       "      <td>2020</td>\n",
       "    </tr>\n",
       "    <tr>\n",
       "      <th>3</th>\n",
       "      <td>0</td>\n",
       "      <td>0</td>\n",
       "      <td>0</td>\n",
       "      <td>1</td>\n",
       "      <td>0</td>\n",
       "      <td>0.000000</td>\n",
       "      <td>0.0</td>\n",
       "      <td>0</td>\n",
       "      <td>0</td>\n",
       "      <td>0</td>\n",
       "      <td>1</td>\n",
       "      <td>0</td>\n",
       "      <td>3</td>\n",
       "      <td>2020</td>\n",
       "    </tr>\n",
       "    <tr>\n",
       "      <th>4</th>\n",
       "      <td>0</td>\n",
       "      <td>0</td>\n",
       "      <td>0</td>\n",
       "      <td>0</td>\n",
       "      <td>0</td>\n",
       "      <td>0.000000</td>\n",
       "      <td>0.0</td>\n",
       "      <td>0</td>\n",
       "      <td>0</td>\n",
       "      <td>0</td>\n",
       "      <td>0</td>\n",
       "      <td>0</td>\n",
       "      <td>3</td>\n",
       "      <td>2020</td>\n",
       "    </tr>\n",
       "    <tr>\n",
       "      <th>...</th>\n",
       "      <td>...</td>\n",
       "      <td>...</td>\n",
       "      <td>...</td>\n",
       "      <td>...</td>\n",
       "      <td>...</td>\n",
       "      <td>...</td>\n",
       "      <td>...</td>\n",
       "      <td>...</td>\n",
       "      <td>...</td>\n",
       "      <td>...</td>\n",
       "      <td>...</td>\n",
       "      <td>...</td>\n",
       "      <td>...</td>\n",
       "      <td>...</td>\n",
       "    </tr>\n",
       "    <tr>\n",
       "      <th>497</th>\n",
       "      <td>190</td>\n",
       "      <td>25</td>\n",
       "      <td>0</td>\n",
       "      <td>464</td>\n",
       "      <td>49</td>\n",
       "      <td>9.551657</td>\n",
       "      <td>10.3</td>\n",
       "      <td>0</td>\n",
       "      <td>5</td>\n",
       "      <td>2</td>\n",
       "      <td>659</td>\n",
       "      <td>76</td>\n",
       "      <td>7</td>\n",
       "      <td>2021</td>\n",
       "    </tr>\n",
       "    <tr>\n",
       "      <th>498</th>\n",
       "      <td>222</td>\n",
       "      <td>22</td>\n",
       "      <td>0</td>\n",
       "      <td>416</td>\n",
       "      <td>48</td>\n",
       "      <td>10.344828</td>\n",
       "      <td>10.7</td>\n",
       "      <td>0</td>\n",
       "      <td>6</td>\n",
       "      <td>1</td>\n",
       "      <td>644</td>\n",
       "      <td>71</td>\n",
       "      <td>7</td>\n",
       "      <td>2021</td>\n",
       "    </tr>\n",
       "    <tr>\n",
       "      <th>499</th>\n",
       "      <td>172</td>\n",
       "      <td>21</td>\n",
       "      <td>0</td>\n",
       "      <td>293</td>\n",
       "      <td>52</td>\n",
       "      <td>15.072464</td>\n",
       "      <td>11.1</td>\n",
       "      <td>0</td>\n",
       "      <td>2</td>\n",
       "      <td>0</td>\n",
       "      <td>467</td>\n",
       "      <td>73</td>\n",
       "      <td>7</td>\n",
       "      <td>2021</td>\n",
       "    </tr>\n",
       "    <tr>\n",
       "      <th>500</th>\n",
       "      <td>9</td>\n",
       "      <td>2</td>\n",
       "      <td>0</td>\n",
       "      <td>54</td>\n",
       "      <td>4</td>\n",
       "      <td>6.896552</td>\n",
       "      <td>10.8</td>\n",
       "      <td>0</td>\n",
       "      <td>1</td>\n",
       "      <td>0</td>\n",
       "      <td>64</td>\n",
       "      <td>6</td>\n",
       "      <td>7</td>\n",
       "      <td>2021</td>\n",
       "    </tr>\n",
       "    <tr>\n",
       "      <th>501</th>\n",
       "      <td>0</td>\n",
       "      <td>0</td>\n",
       "      <td>0</td>\n",
       "      <td>0</td>\n",
       "      <td>0</td>\n",
       "      <td>0.000000</td>\n",
       "      <td>9.3</td>\n",
       "      <td>0</td>\n",
       "      <td>0</td>\n",
       "      <td>0</td>\n",
       "      <td>0</td>\n",
       "      <td>0</td>\n",
       "      <td>7</td>\n",
       "      <td>2021</td>\n",
       "    </tr>\n",
       "  </tbody>\n",
       "</table>\n",
       "<p>502 rows × 14 columns</p>\n",
       "</div>"
      ],
      "text/plain": [
       "     ANTIGENNEGATIVE  ANTIGENPOSITIVE  PCRINCONCLUSIVE  PCRNEGATIVE  \\\n",
       "0                  0                0                0            0   \n",
       "1                  0                0                0            0   \n",
       "2                  0                0                0            0   \n",
       "3                  0                0                0            1   \n",
       "4                  0                0                0            0   \n",
       "..               ...              ...              ...          ...   \n",
       "497              190               25                0          464   \n",
       "498              222               22                0          416   \n",
       "499              172               21                0          293   \n",
       "500                9                2                0           54   \n",
       "501                0                0                0            0   \n",
       "\n",
       "     PCRPOSITIVE  POSITIVITYRATE  POSITIVITYRATEROLLINGAVG  \\\n",
       "0              1      100.000000                       0.0   \n",
       "1              0        0.000000                       0.0   \n",
       "2              0        0.000000                       0.0   \n",
       "3              0        0.000000                       0.0   \n",
       "4              0        0.000000                       0.0   \n",
       "..           ...             ...                       ...   \n",
       "497           49        9.551657                      10.3   \n",
       "498           48       10.344828                      10.7   \n",
       "499           52       15.072464                      11.1   \n",
       "500            4        6.896552                      10.8   \n",
       "501            0        0.000000                       9.3   \n",
       "\n",
       "     SEROLOGYINCONCLUSIVE  SEROLOGYNEGATIVE  SEROLOGYPOSITIVE  TOTALNEGATIVE  \\\n",
       "0                       0                 0                 0              0   \n",
       "1                       0                 0                 0              0   \n",
       "2                       0                 0                 0              0   \n",
       "3                       0                 0                 0              1   \n",
       "4                       0                 0                 0              0   \n",
       "..                    ...               ...               ...            ...   \n",
       "497                     0                 5                 2            659   \n",
       "498                     0                 6                 1            644   \n",
       "499                     0                 2                 0            467   \n",
       "500                     0                 1                 0             64   \n",
       "501                     0                 0                 0              0   \n",
       "\n",
       "     TOTALPOSITIVE  month  year  \n",
       "0                1      3  2020  \n",
       "1                0      3  2020  \n",
       "2                0      3  2020  \n",
       "3                0      3  2020  \n",
       "4                0      3  2020  \n",
       "..             ...    ...   ...  \n",
       "497             76      7  2021  \n",
       "498             71      7  2021  \n",
       "499             73      7  2021  \n",
       "500              6      7  2021  \n",
       "501              0      7  2021  \n",
       "\n",
       "[502 rows x 14 columns]"
      ]
     },
     "execution_count": 108,
     "metadata": {},
     "output_type": "execute_result"
    }
   ],
   "source": [
    "#creating 2 separate columns for a month and a year to help us better categorize the data\n",
    "tests_df['month'] = pd.DatetimeIndex(tests_df['date']).month\n",
    "tests_df['year'] = pd.DatetimeIndex(tests_df['date']).year\n",
    "no_date = tests_df.drop([\"DATE\", \"date\"], axis = 1) #dropping the original date columns since we don't need them any more\n",
    "no_date"
   ]
  },
  {
   "cell_type": "code",
   "execution_count": 109,
   "metadata": {},
   "outputs": [
    {
     "name": "stdout",
     "output_type": "stream",
     "text": [
      "Index(['ANTIGENNEGATIVE', 'ANTIGENPOSITIVE', 'PCRINCONCLUSIVE', 'PCRNEGATIVE',\n",
      "       'PCRPOSITIVE', 'POSITIVITYRATEROLLINGAVG', 'SEROLOGYINCONCLUSIVE',\n",
      "       'SEROLOGYNEGATIVE', 'SEROLOGYPOSITIVE', 'TOTALNEGATIVE',\n",
      "       'TOTALPOSITIVE', 'month', 'year'],\n",
      "      dtype='object')\n",
      "[False False  True False False  True  True  True  True False False  True\n",
      "  True]\n",
      "[4 3 1 7 2 1 1 1 1 5 6 1 1]\n"
     ]
    }
   ],
   "source": [
    "#using RFE, selecting the best features to use, selecting those with a score of \"1\"\n",
    "from sklearn.feature_selection import RFE\n",
    "X = no_date.drop('POSITIVITYRATE',axis=1)\n",
    "y = no_date['POSITIVITYRATE']\n",
    "\n",
    "reg = LinearRegression()\n",
    "rfe = RFE(reg,n_features_to_select=7)\n",
    "rfe_ = rfe.fit(X, y)\n",
    "print(X.columns)\n",
    "print(rfe_.support_)\n",
    "print(rfe.ranking_)"
   ]
  },
  {
   "cell_type": "code",
   "execution_count": 110,
   "metadata": {},
   "outputs": [],
   "source": [
    "#dropping the columns that are not useful (6 columns); selecting only features that are True, so all with 1\n",
    "clean_df=no_date.drop([\"ANTIGENNEGATIVE\", \"ANTIGENPOSITIVE\",\"PCRNEGATIVE\", 'PCRPOSITIVE',\n",
    "                       \"TOTALNEGATIVE\", \"TOTALPOSITIVE\" ], axis = 1)"
   ]
  },
  {
   "cell_type": "code",
   "execution_count": 111,
   "metadata": {},
   "outputs": [
    {
     "data": {
      "text/html": [
       "<div>\n",
       "<style scoped>\n",
       "    .dataframe tbody tr th:only-of-type {\n",
       "        vertical-align: middle;\n",
       "    }\n",
       "\n",
       "    .dataframe tbody tr th {\n",
       "        vertical-align: top;\n",
       "    }\n",
       "\n",
       "    .dataframe thead th {\n",
       "        text-align: right;\n",
       "    }\n",
       "</style>\n",
       "<table border=\"1\" class=\"dataframe\">\n",
       "  <thead>\n",
       "    <tr style=\"text-align: right;\">\n",
       "      <th></th>\n",
       "      <th>PCRINCONCLUSIVE</th>\n",
       "      <th>POSITIVITYRATE</th>\n",
       "      <th>POSITIVITYRATEROLLINGAVG</th>\n",
       "      <th>SEROLOGYINCONCLUSIVE</th>\n",
       "      <th>SEROLOGYNEGATIVE</th>\n",
       "      <th>SEROLOGYPOSITIVE</th>\n",
       "      <th>month</th>\n",
       "      <th>year</th>\n",
       "    </tr>\n",
       "  </thead>\n",
       "  <tbody>\n",
       "    <tr>\n",
       "      <th>0</th>\n",
       "      <td>0</td>\n",
       "      <td>100.0</td>\n",
       "      <td>0.0</td>\n",
       "      <td>0</td>\n",
       "      <td>0</td>\n",
       "      <td>0</td>\n",
       "      <td>3</td>\n",
       "      <td>2020</td>\n",
       "    </tr>\n",
       "    <tr>\n",
       "      <th>1</th>\n",
       "      <td>0</td>\n",
       "      <td>0.0</td>\n",
       "      <td>0.0</td>\n",
       "      <td>0</td>\n",
       "      <td>0</td>\n",
       "      <td>0</td>\n",
       "      <td>3</td>\n",
       "      <td>2020</td>\n",
       "    </tr>\n",
       "    <tr>\n",
       "      <th>2</th>\n",
       "      <td>0</td>\n",
       "      <td>0.0</td>\n",
       "      <td>0.0</td>\n",
       "      <td>0</td>\n",
       "      <td>0</td>\n",
       "      <td>0</td>\n",
       "      <td>3</td>\n",
       "      <td>2020</td>\n",
       "    </tr>\n",
       "    <tr>\n",
       "      <th>3</th>\n",
       "      <td>0</td>\n",
       "      <td>0.0</td>\n",
       "      <td>0.0</td>\n",
       "      <td>0</td>\n",
       "      <td>0</td>\n",
       "      <td>0</td>\n",
       "      <td>3</td>\n",
       "      <td>2020</td>\n",
       "    </tr>\n",
       "    <tr>\n",
       "      <th>4</th>\n",
       "      <td>0</td>\n",
       "      <td>0.0</td>\n",
       "      <td>0.0</td>\n",
       "      <td>0</td>\n",
       "      <td>0</td>\n",
       "      <td>0</td>\n",
       "      <td>3</td>\n",
       "      <td>2020</td>\n",
       "    </tr>\n",
       "  </tbody>\n",
       "</table>\n",
       "</div>"
      ],
      "text/plain": [
       "   PCRINCONCLUSIVE  POSITIVITYRATE  POSITIVITYRATEROLLINGAVG  \\\n",
       "0                0           100.0                       0.0   \n",
       "1                0             0.0                       0.0   \n",
       "2                0             0.0                       0.0   \n",
       "3                0             0.0                       0.0   \n",
       "4                0             0.0                       0.0   \n",
       "\n",
       "   SEROLOGYINCONCLUSIVE  SEROLOGYNEGATIVE  SEROLOGYPOSITIVE  month  year  \n",
       "0                     0                 0                 0      3  2020  \n",
       "1                     0                 0                 0      3  2020  \n",
       "2                     0                 0                 0      3  2020  \n",
       "3                     0                 0                 0      3  2020  \n",
       "4                     0                 0                 0      3  2020  "
      ]
     },
     "execution_count": 111,
     "metadata": {},
     "output_type": "execute_result"
    }
   ],
   "source": [
    "clean_df.head()"
   ]
  },
  {
   "cell_type": "code",
   "execution_count": 112,
   "metadata": {},
   "outputs": [
    {
     "data": {
      "text/plain": [
       "<AxesSubplot:>"
      ]
     },
     "execution_count": 112,
     "metadata": {},
     "output_type": "execute_result"
    },
    {
     "data": {
      "image/png": "[encoded data removed]",
      "text/plain": [
       "<Figure size 1296x864 with 1 Axes>"
      ]
     },
     "metadata": {
      "needs_background": "light"
     },
     "output_type": "display_data"
    }
   ],
   "source": [
    "#checking the outliers\n",
    "clean_df.boxplot(figsize=(18,12))"
   ]
  },
  {
   "cell_type": "code",
   "execution_count": 113,
   "metadata": {},
   "outputs": [],
   "source": [
    "#revoming the outliers\n",
    "for x in ['PCRINCONCLUSIVE','POSITIVITYRATE', 'POSITIVITYRATEROLLINGAVG', 'SEROLOGYNEGATIVE','SEROLOGYINCONCLUSIVE', 'SEROLOGYPOSITIVE']:\n",
    "    q75,q25 = np.percentile(clean_df.loc[:,x],[75,25])\n",
    "    intr_qr = q75-q25\n",
    "    max = q75+(1.5*intr_qr)\n",
    "    min = q25-(1.5*intr_qr)\n",
    "    clean_df.loc[clean_df[x] < min,x] = np.nan\n",
    "    clean_df.loc[clean_df[x] > max,x] = np.nan"
   ]
  },
  {
   "cell_type": "code",
   "execution_count": 114,
   "metadata": {},
   "outputs": [
    {
     "data": {
      "text/html": [
       "<div>\n",
       "<style scoped>\n",
       "    .dataframe tbody tr th:only-of-type {\n",
       "        vertical-align: middle;\n",
       "    }\n",
       "\n",
       "    .dataframe tbody tr th {\n",
       "        vertical-align: top;\n",
       "    }\n",
       "\n",
       "    .dataframe thead th {\n",
       "        text-align: right;\n",
       "    }\n",
       "</style>\n",
       "<table border=\"1\" class=\"dataframe\">\n",
       "  <thead>\n",
       "    <tr style=\"text-align: right;\">\n",
       "      <th></th>\n",
       "      <th>PCRINCONCLUSIVE</th>\n",
       "      <th>POSITIVITYRATE</th>\n",
       "      <th>POSITIVITYRATEROLLINGAVG</th>\n",
       "      <th>SEROLOGYINCONCLUSIVE</th>\n",
       "      <th>SEROLOGYNEGATIVE</th>\n",
       "      <th>SEROLOGYPOSITIVE</th>\n",
       "      <th>month</th>\n",
       "      <th>year</th>\n",
       "    </tr>\n",
       "  </thead>\n",
       "  <tbody>\n",
       "    <tr>\n",
       "      <th>1</th>\n",
       "      <td>0.0</td>\n",
       "      <td>0.000000</td>\n",
       "      <td>0.0</td>\n",
       "      <td>0.0</td>\n",
       "      <td>0.0</td>\n",
       "      <td>0.0</td>\n",
       "      <td>3</td>\n",
       "      <td>2020</td>\n",
       "    </tr>\n",
       "    <tr>\n",
       "      <th>2</th>\n",
       "      <td>0.0</td>\n",
       "      <td>0.000000</td>\n",
       "      <td>0.0</td>\n",
       "      <td>0.0</td>\n",
       "      <td>0.0</td>\n",
       "      <td>0.0</td>\n",
       "      <td>3</td>\n",
       "      <td>2020</td>\n",
       "    </tr>\n",
       "    <tr>\n",
       "      <th>3</th>\n",
       "      <td>0.0</td>\n",
       "      <td>0.000000</td>\n",
       "      <td>0.0</td>\n",
       "      <td>0.0</td>\n",
       "      <td>0.0</td>\n",
       "      <td>0.0</td>\n",
       "      <td>3</td>\n",
       "      <td>2020</td>\n",
       "    </tr>\n",
       "    <tr>\n",
       "      <th>4</th>\n",
       "      <td>0.0</td>\n",
       "      <td>0.000000</td>\n",
       "      <td>0.0</td>\n",
       "      <td>0.0</td>\n",
       "      <td>0.0</td>\n",
       "      <td>0.0</td>\n",
       "      <td>3</td>\n",
       "      <td>2020</td>\n",
       "    </tr>\n",
       "    <tr>\n",
       "      <th>5</th>\n",
       "      <td>0.0</td>\n",
       "      <td>0.000000</td>\n",
       "      <td>0.0</td>\n",
       "      <td>0.0</td>\n",
       "      <td>0.0</td>\n",
       "      <td>0.0</td>\n",
       "      <td>3</td>\n",
       "      <td>2020</td>\n",
       "    </tr>\n",
       "    <tr>\n",
       "      <th>...</th>\n",
       "      <td>...</td>\n",
       "      <td>...</td>\n",
       "      <td>...</td>\n",
       "      <td>...</td>\n",
       "      <td>...</td>\n",
       "      <td>...</td>\n",
       "      <td>...</td>\n",
       "      <td>...</td>\n",
       "    </tr>\n",
       "    <tr>\n",
       "      <th>497</th>\n",
       "      <td>0.0</td>\n",
       "      <td>9.551657</td>\n",
       "      <td>10.3</td>\n",
       "      <td>0.0</td>\n",
       "      <td>5.0</td>\n",
       "      <td>2.0</td>\n",
       "      <td>7</td>\n",
       "      <td>2021</td>\n",
       "    </tr>\n",
       "    <tr>\n",
       "      <th>498</th>\n",
       "      <td>0.0</td>\n",
       "      <td>10.344828</td>\n",
       "      <td>10.7</td>\n",
       "      <td>0.0</td>\n",
       "      <td>6.0</td>\n",
       "      <td>1.0</td>\n",
       "      <td>7</td>\n",
       "      <td>2021</td>\n",
       "    </tr>\n",
       "    <tr>\n",
       "      <th>499</th>\n",
       "      <td>0.0</td>\n",
       "      <td>15.072464</td>\n",
       "      <td>11.1</td>\n",
       "      <td>0.0</td>\n",
       "      <td>2.0</td>\n",
       "      <td>0.0</td>\n",
       "      <td>7</td>\n",
       "      <td>2021</td>\n",
       "    </tr>\n",
       "    <tr>\n",
       "      <th>500</th>\n",
       "      <td>0.0</td>\n",
       "      <td>6.896552</td>\n",
       "      <td>10.8</td>\n",
       "      <td>0.0</td>\n",
       "      <td>1.0</td>\n",
       "      <td>0.0</td>\n",
       "      <td>7</td>\n",
       "      <td>2021</td>\n",
       "    </tr>\n",
       "    <tr>\n",
       "      <th>501</th>\n",
       "      <td>0.0</td>\n",
       "      <td>0.000000</td>\n",
       "      <td>9.3</td>\n",
       "      <td>0.0</td>\n",
       "      <td>0.0</td>\n",
       "      <td>0.0</td>\n",
       "      <td>7</td>\n",
       "      <td>2021</td>\n",
       "    </tr>\n",
       "  </tbody>\n",
       "</table>\n",
       "<p>334 rows × 8 columns</p>\n",
       "</div>"
      ],
      "text/plain": [
       "     PCRINCONCLUSIVE  POSITIVITYRATE  POSITIVITYRATEROLLINGAVG  \\\n",
       "1                0.0        0.000000                       0.0   \n",
       "2                0.0        0.000000                       0.0   \n",
       "3                0.0        0.000000                       0.0   \n",
       "4                0.0        0.000000                       0.0   \n",
       "5                0.0        0.000000                       0.0   \n",
       "..               ...             ...                       ...   \n",
       "497              0.0        9.551657                      10.3   \n",
       "498              0.0       10.344828                      10.7   \n",
       "499              0.0       15.072464                      11.1   \n",
       "500              0.0        6.896552                      10.8   \n",
       "501              0.0        0.000000                       9.3   \n",
       "\n",
       "     SEROLOGYINCONCLUSIVE  SEROLOGYNEGATIVE  SEROLOGYPOSITIVE  month  year  \n",
       "1                     0.0               0.0               0.0      3  2020  \n",
       "2                     0.0               0.0               0.0      3  2020  \n",
       "3                     0.0               0.0               0.0      3  2020  \n",
       "4                     0.0               0.0               0.0      3  2020  \n",
       "5                     0.0               0.0               0.0      3  2020  \n",
       "..                    ...               ...               ...    ...   ...  \n",
       "497                   0.0               5.0               2.0      7  2021  \n",
       "498                   0.0               6.0               1.0      7  2021  \n",
       "499                   0.0               2.0               0.0      7  2021  \n",
       "500                   0.0               1.0               0.0      7  2021  \n",
       "501                   0.0               0.0               0.0      7  2021  \n",
       "\n",
       "[334 rows x 8 columns]"
      ]
     },
     "execution_count": 114,
     "metadata": {},
     "output_type": "execute_result"
    }
   ],
   "source": [
    "#removing all NaN values from the dataset\n",
    "clean2 = clean_df.dropna(axis=0)\n",
    "clean2"
   ]
  },
  {
   "cell_type": "code",
   "execution_count": 115,
   "metadata": {},
   "outputs": [
    {
     "data": {
      "text/plain": [
       "PCRINCONCLUSIVE               0.523781\n",
       "POSITIVITYRATE               20.090011\n",
       "POSITIVITYRATEROLLINGAVG     18.028855\n",
       "SEROLOGYINCONCLUSIVE          0.000000\n",
       "SEROLOGYNEGATIVE            140.434563\n",
       "SEROLOGYPOSITIVE              7.897898\n",
       "month                        10.988518\n",
       "year                          0.234891\n",
       "dtype: float64"
      ]
     },
     "execution_count": 115,
     "metadata": {},
     "output_type": "execute_result"
    }
   ],
   "source": [
    "#schecking the variance\n",
    "clean2.var()"
   ]
  },
  {
   "cell_type": "code",
   "execution_count": 116,
   "metadata": {},
   "outputs": [],
   "source": [
    "#scaling the data because of the high difference between variance of different features\n",
    "scaler = StandardScaler()\n",
    "df_scaled = pd.DataFrame(scaler.fit_transform(clean2), columns = clean2.columns)"
   ]
  },
  {
   "cell_type": "code",
   "execution_count": 148,
   "metadata": {
    "scrolled": true
   },
   "outputs": [
    {
     "data": {
      "image/png": "[encoded data removed]",
      "text/plain": [
       "<Figure size 720x360 with 1 Axes>"
      ]
     },
     "metadata": {
      "needs_background": "light"
     },
     "output_type": "display_data"
    }
   ],
   "source": [
    "#visualizing the preprocessed data\n",
    "N = 334\n",
    "colors = np.random.rand(N)\n",
    "\n",
    "plt.figure(figsize=(10,5))\n",
    "plt.scatter(df_scaled['month'], df_scaled['POSITIVITYRATE'], c=colors, alpha=0.5)\n",
    "plt.title(\"Covid Positivity Rate by Month\") #title\n",
    "plt.xlabel(\"Month\") #x label\n",
    "plt.ylabel(\"Positivity Rate\") #y label\n",
    "plt.show()\n",
    "#plt.savefig('scatterplot.png')"
   ]
  },
  {
   "cell_type": "markdown",
   "metadata": {},
   "source": [
    "## Models"
   ]
  },
  {
   "cell_type": "markdown",
   "metadata": {},
   "source": [
    "For our dataset, we've chosen 3 different data models, 2 of which are supervised and the 3rd on is unsupervised, specifically linear regression and random forest for the supervised ones and k-means for unsupervised one."
   ]
  },
  {
   "cell_type": "markdown",
   "metadata": {},
   "source": [
    "### Linear Regression (supervised)"
   ]
  },
  {
   "cell_type": "code",
   "execution_count": 118,
   "metadata": {},
   "outputs": [
    {
     "data": {
      "text/plain": [
       "LinearRegression()"
      ]
     },
     "execution_count": 118,
     "metadata": {},
     "output_type": "execute_result"
    }
   ],
   "source": [
    "X = df_scaled.drop('POSITIVITYRATE',axis=1)\n",
    "y = df_scaled['POSITIVITYRATE']\n",
    "\n",
    "X_train, X_test, y_train, y_test = train_test_split(X, y, test_size=0.2, random_state=42)\n",
    "\n",
    "reg = LinearRegression()\n",
    "reg.fit(X_train, y_train)"
   ]
  },
  {
   "cell_type": "code",
   "execution_count": 119,
   "metadata": {},
   "outputs": [
    {
     "data": {
      "text/plain": [
       "array([ 2.05119349, -0.83213644,  0.14927299,  1.06948143, -0.62829749,\n",
       "       -0.72164506, -0.54640399,  1.18978151,  1.164262  ,  0.80076804,\n",
       "        0.26071532, -0.37289565, -0.02095677, -0.73172467, -0.94955845,\n",
       "       -0.68663479, -0.36047792, -0.04400966,  0.25326335, -0.7642058 ,\n",
       "       -0.32707293, -0.65719921, -0.23475846,  0.86233157, -1.64185746,\n",
       "       -0.31991002, -0.88415712,  0.17905929,  1.05799896,  0.14661156,\n",
       "        1.23738558, -0.67173101, -0.33846155,  0.01391437, -0.67418676,\n",
       "       -0.56189649,  1.56354228, -1.13161475,  0.48538347, -0.62540204,\n",
       "        1.76465372,  1.05882288,  1.07153615,  1.51379038, -0.418252  ,\n",
       "        0.06941892, -0.7803485 ,  0.49056734, -0.40390819, -0.66057463,\n",
       "       -0.13232738, -0.81343978, -0.09424055,  0.48672364, -0.45848912,\n",
       "       -1.07049757, -1.64185746, -0.51933393,  0.09873172,  1.20061343,\n",
       "       -0.70834084, -0.18916884, -0.3751733 , -1.64185746,  0.25603102,\n",
       "       -0.71798253, -0.87159949])"
      ]
     },
     "execution_count": 119,
     "metadata": {},
     "output_type": "execute_result"
    }
   ],
   "source": [
    "y_pred = reg.predict(X_test)\n",
    "y_pred"
   ]
  },
  {
   "cell_type": "code",
   "execution_count": 120,
   "metadata": {},
   "outputs": [
    {
     "data": {
      "text/plain": [
       "0.8051887891288244"
      ]
     },
     "execution_count": 120,
     "metadata": {},
     "output_type": "execute_result"
    }
   ],
   "source": [
    "accuracy_score = reg.score(X_test, y_test)\n",
    "accuracy_score"
   ]
  },
  {
   "cell_type": "code",
   "execution_count": 121,
   "metadata": {},
   "outputs": [
    {
     "data": {
      "text/plain": [
       "0.795148378570134"
      ]
     },
     "execution_count": 121,
     "metadata": {},
     "output_type": "execute_result"
    }
   ],
   "source": [
    "#checking the accuracy score of train data. The scores are pretty close to each other which means we're \n",
    "#not overfitting or underfitting\n",
    "accuracy_score = reg.score(X_train, y_train)\n",
    "accuracy_score"
   ]
  },
  {
   "cell_type": "code",
   "execution_count": 122,
   "metadata": {},
   "outputs": [
    {
     "name": "stdout",
     "output_type": "stream",
     "text": [
      "0.2167922357362297\n",
      "0.8051887891288244\n"
     ]
    }
   ],
   "source": [
    "from sklearn.metrics import r2_score\n",
    "from sklearn.metrics import mean_squared_error\n",
    "print(mean_squared_error(y_test, y_pred))\n",
    "print(r2_score(y_test, y_pred))"
   ]
  },
  {
   "cell_type": "code",
   "execution_count": null,
   "metadata": {},
   "outputs": [],
   "source": []
  },
  {
   "cell_type": "markdown",
   "metadata": {},
   "source": [
    "### Random Forest (supervised)"
   ]
  },
  {
   "cell_type": "code",
   "execution_count": 123,
   "metadata": {},
   "outputs": [
    {
     "data": {
      "text/plain": [
       "PCRINCONCLUSIVE             1.003003\n",
       "POSITIVITYRATE              1.003003\n",
       "POSITIVITYRATEROLLINGAVG    1.003003\n",
       "SEROLOGYINCONCLUSIVE        0.000000\n",
       "SEROLOGYNEGATIVE            1.003003\n",
       "SEROLOGYPOSITIVE            1.003003\n",
       "month                       1.003003\n",
       "year                        1.003003\n",
       "dtype: float64"
      ]
     },
     "execution_count": 123,
     "metadata": {},
     "output_type": "execute_result"
    }
   ],
   "source": [
    "from sklearn.preprocessing import StandardScaler\n",
    "scaler = StandardScaler()\n",
    "scaled = pd.DataFrame(scaler.fit_transform(clean2), columns = clean2.columns)\n",
    "scaled.var()"
   ]
  },
  {
   "cell_type": "code",
   "execution_count": 124,
   "metadata": {},
   "outputs": [
    {
     "data": {
      "text/plain": [
       "0.8054665827525811"
      ]
     },
     "execution_count": 124,
     "metadata": {},
     "output_type": "execute_result"
    }
   ],
   "source": [
    "from sklearn.ensemble import RandomForestRegressor\n",
    "rf = RandomForestRegressor(n_estimators=100, max_depth =3, random_state =42, min_samples_leaf=7)\n",
    "\n",
    "\n",
    "X = clean2.drop('POSITIVITYRATE',axis=1)\n",
    "y = clean2['POSITIVITYRATE']\n",
    "\n",
    "X_train, X_test, y_train, y_test = train_test_split(X, y, test_size = 0.2, random_state=42)\n",
    "\n",
    "\n",
    "rf = rf.fit(X_train, y_train)\n",
    "rf.score(X_test, y_test)"
   ]
  },
  {
   "cell_type": "code",
   "execution_count": 125,
   "metadata": {},
   "outputs": [
    {
     "data": {
      "text/plain": [
       "0.8230171543970168"
      ]
     },
     "execution_count": 125,
     "metadata": {},
     "output_type": "execute_result"
    }
   ],
   "source": [
    "#checking the accuracy score of train data. The scores are pretty close to each other which means we're \n",
    "#not overfitting or underfitting\n",
    "rf.score(X_train, y_train)"
   ]
  },
  {
   "cell_type": "code",
   "execution_count": 126,
   "metadata": {},
   "outputs": [
    {
     "name": "stdout",
     "output_type": "stream",
     "text": [
      "80.51231059557203\n",
      "-2.6120568218126423\n"
     ]
    }
   ],
   "source": [
    "from sklearn.metrics import r2_score\n",
    "from sklearn.metrics import mean_squared_error\n",
    "print(mean_squared_error(y_test, y_pred))\n",
    "print(r2_score(y_test, y_pred))"
   ]
  },
  {
   "cell_type": "code",
   "execution_count": 127,
   "metadata": {},
   "outputs": [
    {
     "data": {
      "text/plain": [
       "array([15.74509835,  2.39889103,  8.64291408, 12.65653149,  5.24895499,\n",
       "        4.43694346,  5.55457224, 13.79709905, 14.39820483, 11.75696114,\n",
       "       10.1827398 ,  5.68454972,  7.48470272,  4.74872797,  4.38389623,\n",
       "        4.60617862,  5.80277416,  6.91670485,  9.9577503 ,  4.74358841,\n",
       "        5.35666853,  4.89510253,  6.83129866, 11.75696114,  1.96535587,\n",
       "        5.3767854 ,  4.53223555,  8.99858254, 13.66373287,  8.44753394,\n",
       "       14.03550843,  4.58528278,  6.68907027,  7.72989132,  4.7348145 ,\n",
       "        4.86267981, 14.88545707,  2.61648594, 10.30091452,  4.90473841,\n",
       "       15.70275964, 12.39572373, 12.02022583, 14.78497125,  5.65154682,\n",
       "        8.64291408,  4.74358841,  9.45831483,  6.02410743,  4.58528278,\n",
       "        7.02015636,  5.103634  ,  8.89408214, 10.46670665,  5.24895499,\n",
       "        2.61648594,  1.96535587,  5.73036159,  8.32052788, 13.74361975,\n",
       "        4.51430678,  7.2378281 ,  5.74208507,  1.96535587,  9.38966423,\n",
       "        4.19182848,  4.74872797])"
      ]
     },
     "execution_count": 127,
     "metadata": {},
     "output_type": "execute_result"
    }
   ],
   "source": [
    "y_pred = rf.predict(X_test)\n",
    "y_pred"
   ]
  },
  {
   "cell_type": "markdown",
   "metadata": {},
   "source": [
    "### K-Means (unsupervised)"
   ]
  },
  {
   "cell_type": "code",
   "execution_count": 128,
   "metadata": {},
   "outputs": [],
   "source": [
    "from sklearn.cluster import KMeans\n",
    "from scipy.spatial.distance import cdist"
   ]
  },
  {
   "cell_type": "code",
   "execution_count": 129,
   "metadata": {},
   "outputs": [],
   "source": [
    "X = clean2.drop('POSITIVITYRATE',axis=1)\n",
    "y = clean2['POSITIVITYRATE']"
   ]
  },
  {
   "cell_type": "code",
   "execution_count": 130,
   "metadata": {},
   "outputs": [],
   "source": [
    "inertias = []\n",
    "distortions = []\n",
    "for k in range(1,10):\n",
    "    #build and fit the model\n",
    "    model = KMeans(n_clusters=k).fit(X)\n",
    "    \n",
    "    #average of squared distance from cluster center to the data points\n",
    "    distortion = sum(np.min(cdist(X, model.cluster_centers_,\n",
    "                                  'euclidean'),axis =1))/X.shape[0]\n",
    "    \n",
    "    distortions.append(distortion)\n",
    "    \n",
    "    inertia = model.inertia_\n",
    "    inertias.append(inertia)"
   ]
  },
  {
   "cell_type": "code",
   "execution_count": 131,
   "metadata": {},
   "outputs": [
    {
     "data": {
      "text/plain": [
       "Text(0.5, 1.0, 'Elbow Method with Distortion')"
      ]
     },
     "execution_count": 131,
     "metadata": {},
     "output_type": "execute_result"
    },
    {
     "data": {
      "image/png": "[encoded data removed]",
      "text/plain": [
       "<Figure size 432x288 with 1 Axes>"
      ]
     },
     "metadata": {
      "needs_background": "light"
     },
     "output_type": "display_data"
    }
   ],
   "source": [
    "plt.plot(range(1,10),distortions)\n",
    "plt.title('Elbow Method with Distortion')"
   ]
  },
  {
   "cell_type": "code",
   "execution_count": 132,
   "metadata": {},
   "outputs": [
    {
     "data": {
      "text/plain": [
       "Text(0.5, 1.0, 'Elbow Method with Inertia')"
      ]
     },
     "execution_count": 132,
     "metadata": {},
     "output_type": "execute_result"
    },
    {
     "data": {
      "image/png": "[encoded data removed]",
      "text/plain": [
       "<Figure size 432x288 with 1 Axes>"
      ]
     },
     "metadata": {
      "needs_background": "light"
     },
     "output_type": "display_data"
    }
   ],
   "source": [
    "plt.plot(range(1,10),inertias)\n",
    "plt.title('Elbow Method with Inertia')"
   ]
  },
  {
   "cell_type": "markdown",
   "metadata": {},
   "source": [
    "Based on the inertia and distortion graphs, the perfect number of clusters for the model is 3."
   ]
  },
  {
   "cell_type": "code",
   "execution_count": 133,
   "metadata": {},
   "outputs": [
    {
     "name": "stdout",
     "output_type": "stream",
     "text": [
      "[1 1 1 1 1 1 1 1 1 1 1 1 1 1 1 1 1 1 1 1 1 1 1 1 1 1 1 1 1 1 1 1 1 1 0 0 0\n",
      " 0 1 1 0 0 2 2 0 0 0 2 2 2 2 2 0 0 0 2 2 2 0 0 2 2 2 0 2 2 0 2 0 0 0 0 2 2\n",
      " 0 0 2 1 0 2 2 2 0 2 1 1 0 0 0 0 1 1 0 0 0 0 0 1 1 0 0 0 0 1 1 1 1 0 0 1 1\n",
      " 1 1 0 0 0 1 1 0 1 0 0 1 1 1 0 0 0 0 0 1 1 0 1 0 1 1 0 1 0 0 1 1 0 0 0 0 1\n",
      " 1 1 0 0 0 1 1 1 0 1 0 1 0 0 0 1 0 0 0 0 0 1 0 0 2 2 0 0 2 0 0 1 1 0 0 0 0\n",
      " 0 0 1 0 0 0 0 0 0 1 0 0 2 0 2 2 2 0 1 0 0 0 0 0 0 0 0 0 0 0 1 0 0 2 0 1 2\n",
      " 0 0 1 0 1 1 2 0 0 1 0 0 0 0 1 1 1 1 1 1 1 1 1 1 1 0 0 1 1 0 0 1 1 1 1 0 0\n",
      " 1 1 1 1 1 1 1 1 1 1 1 1 1 1 1 1 1 1 1 1 1 1 1 1 1 1 1 1 1 1 1 1 1 1 1 1 1\n",
      " 1 1 1 1 1 1 1 1 1 1 1 1 1 1 1 1 1 1 1 1 1 1 1 1 1 1 1 1 1 1 1 1 1 1 1 1 1\n",
      " 1]\n"
     ]
    }
   ],
   "source": [
    "#training model\n",
    "kmeans = KMeans(n_clusters = 3, init = 'k-means++')\n",
    "y_kmeans = kmeans.fit_predict(clean2)\n",
    "\n",
    "print(y_kmeans)"
   ]
  },
  {
   "cell_type": "code",
   "execution_count": 134,
   "metadata": {},
   "outputs": [
    {
     "data": {
      "image/png": "[encoded data removed]",
      "text/plain": [
       "<Figure size 432x288 with 1 Axes>"
      ]
     },
     "metadata": {
      "needs_background": "light"
     },
     "output_type": "display_data"
    }
   ],
   "source": [
    "centroids = kmeans.cluster_centers_\n",
    "\n",
    "plt.scatter(clean2['POSITIVITYRATE'], clean2['year'], c= kmeans.labels_.astype(float), s=50, alpha=0.5)\n",
    "plt.scatter(centroids[:, 0], centroids[:, 1], c='red', s=50)\n",
    "plt.show()"
   ]
  },
  {
   "cell_type": "code",
   "execution_count": null,
   "metadata": {},
   "outputs": [],
   "source": []
  },
  {
   "cell_type": "code",
   "execution_count": 135,
   "metadata": {},
   "outputs": [],
   "source": [
    "label = kmeans.fit_predict(clean2)\n",
    "\n",
    "filtered_label2 = y_kmeans[label == 0]\n",
    " \n",
    "filtered_label8 = y_kmeans[label == 1]"
   ]
  },
  {
   "cell_type": "code",
   "execution_count": 136,
   "metadata": {},
   "outputs": [],
   "source": [
    "#plt.scatter(filtered_label2 , filtered_label2 , color = 'red')\n",
    "#plt.scatter(filtered_label8 , filtered_label8, color = 'black')\n",
    "#plt.show()"
   ]
  },
  {
   "cell_type": "code",
   "execution_count": null,
   "metadata": {},
   "outputs": [],
   "source": []
  },
  {
   "cell_type": "markdown",
   "metadata": {},
   "source": [
    "### Dendrogram"
   ]
  },
  {
   "cell_type": "code",
   "execution_count": 137,
   "metadata": {},
   "outputs": [
    {
     "data": {
      "image/png": "[encoded data removed]",
      "text/plain": [
       "<Figure size 864x504 with 1 Axes>"
      ]
     },
     "metadata": {
      "needs_background": "light"
     },
     "output_type": "display_data"
    }
   ],
   "source": [
    "from scipy.cluster.hierarchy import dendrogram, linkage\n",
    "\n",
    "linked = linkage(X,'ward')\n",
    "plt.figure(figsize=(12,7))\n",
    "\n",
    "dendro = dendrogram(linked, labels=list(y))\n",
    "plt.show()"
   ]
  },
  {
   "cell_type": "code",
   "execution_count": 138,
   "metadata": {},
   "outputs": [
    {
     "data": {
      "text/plain": [
       "array([1, 1, 1, 1, 1, 1, 1, 1, 1, 1, 1, 1, 1, 1, 1, 1, 1, 1, 1, 1, 1, 1,\n",
       "       1, 1, 1, 1, 1, 1, 1, 1, 1, 1, 1, 1, 1, 1, 1, 1, 1, 1, 1, 0, 0, 0,\n",
       "       0, 0, 1, 0, 0, 0, 0, 0, 0, 1, 1, 0, 0, 0, 0, 0, 0, 0, 0, 0, 0, 0,\n",
       "       0, 0, 1, 1, 0, 1, 0, 0, 1, 0, 0, 1, 0, 0, 0, 0, 0, 0, 1, 1, 0, 0,\n",
       "       0, 0, 1, 1, 0, 0, 0, 0, 1, 1, 1, 0, 0, 0, 1, 1, 1, 1, 1, 0, 0, 1,\n",
       "       1, 1, 1, 1, 0, 0, 1, 1, 0, 1, 0, 0, 1, 1, 1, 0, 0, 0, 0, 1, 1, 1,\n",
       "       0, 1, 0, 1, 1, 0, 1, 0, 0, 1, 1, 0, 1, 0, 0, 1, 1, 1, 1, 0, 1, 1,\n",
       "       1, 1, 1, 1, 1, 1, 1, 1, 1, 1, 1, 1, 0, 0, 1, 1, 0, 0, 0, 0, 0, 1,\n",
       "       0, 0, 0, 1, 1, 1, 1, 0, 0, 0, 0, 1, 1, 0, 0, 0, 0, 1, 1, 0, 0, 0,\n",
       "       1, 0, 0, 0, 0, 1, 0, 1, 0, 0, 1, 0, 0, 0, 0, 0, 1, 1, 0, 0, 0, 1,\n",
       "       1, 0, 0, 1, 1, 0, 1, 1, 0, 1, 0, 1, 1, 1, 1, 1, 1, 1, 1, 1, 1, 1,\n",
       "       1, 1, 1, 1, 1, 0, 1, 1, 1, 1, 1, 1, 1, 1, 1, 1, 1, 1, 1, 1, 1, 1,\n",
       "       1, 1, 1, 1, 1, 1, 1, 1, 1, 1, 1, 1, 1, 1, 1, 1, 1, 1, 1, 1, 1, 1,\n",
       "       1, 1, 1, 1, 1, 1, 1, 1, 1, 1, 1, 1, 1, 1, 1, 1, 1, 1, 1, 1, 1, 1,\n",
       "       1, 1, 1, 1, 1, 1, 1, 1, 1, 1, 1, 1, 1, 1, 1, 1, 1, 1, 1, 1, 1, 1,\n",
       "       1, 1, 1, 1])"
      ]
     },
     "execution_count": 138,
     "metadata": {},
     "output_type": "execute_result"
    }
   ],
   "source": [
    "from sklearn.cluster import AgglomerativeClustering\n",
    "cluster = AgglomerativeClustering(n_clusters=2, affinity='euclidean',linkage='ward')\n",
    "cluster.fit_predict(X)"
   ]
  },
  {
   "cell_type": "markdown",
   "metadata": {},
   "source": []
  },
  {
   "cell_type": "markdown",
   "metadata": {},
   "source": [
    "We tried selecting different number of features to check if we could improve the accuracy of our modela and the accuracty didn't change significantly. So we ended up selecting 7 features which showed the best models accuracy."
   ]
  },
  {
   "cell_type": "markdown",
   "metadata": {},
   "source": [
    "* jupyter notebook\n",
    "* etl code\n",
    "* data model\n",
    "* A readme.md file in your repo that clearly outlines the techniques used and findings.\n",
    "* powerpoint (15 mins)"
   ]
  },
  {
   "cell_type": "code",
   "execution_count": null,
   "metadata": {},
   "outputs": [],
   "source": []
  }
 ],
 "metadata": {
  "kernelspec": {
   "display_name": "Python 3",
   "language": "python",
   "name": "python3"
  },
  "language_info": {
   "codemirror_mode": {
    "name": "ipython",
    "version": 3
   },
   "file_extension": ".py",
   "mimetype": "text/x-python",
   "name": "python",
   "nbconvert_exporter": "python",
   "pygments_lexer": "ipython3",
   "version": "3.8.5"
  }
 },
 "nbformat": 4,
 "nbformat_minor": 4
}
