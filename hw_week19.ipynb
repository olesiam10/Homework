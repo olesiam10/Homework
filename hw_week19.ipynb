{
 "cells": [
  {
   "cell_type": "markdown",
   "metadata": {},
   "source": [
    "## 1. Create a study guide for all the supervised learning models we have gone over. Include information about how the algorithms work, how they are evaluated, and any other information you deem necessary. Use your own words. Do NOT copy mine or that of articles we have read."
   ]
  },
  {
   "cell_type": "markdown",
   "metadata": {},
   "source": [
    "* **Linear Regression**\n",
    "Linear regression predicts a dependent variable value (y) based on a given independent variable (x). It finds out a linear relationship between x (input) and y(output).\n",
    "To evaluate the performance we can use accuracy score or R-squared, the coefficient of determination.\n",
    "\n",
    "\n",
    "* **Nearest Neighbor - KNN** \n",
    "KNN model can be used for both classification and regression problems. The KNN algorithm uses ‘feature similarity’ to predict the values of any new data points. The new data point is assigned a value based on how closely it resembles the points in the training set.\n",
    "To evaluate the performance, we can obviously use the accuracy score. But also a confusion matrix, typically it's most commonly used for classification problems.\n",
    "\n",
    "--> Accuracy is the most intuitive performance measure, and defined as the ratio of the number of correctly classified objects to the total number of objects evaluated.\n",
    "\n",
    "\n",
    "--> Precision it is simply a ratio of correctly predicted positive data objects to the total predicted positive data objects.\n",
    "\n",
    "--> Recall it is defined by the number of correct positive results divided by the total number of relevant samples (all samples that should have been identified as positive).\n",
    "\n",
    "\n",
    "--> F-score it can be defined as a weighted average of the precision and recall. An F-score is considered perfect when reaches its best value at 1, while the model is a total failure when it reaches the 0 value.\n",
    "\n",
    "\n",
    "* **Logistic Regression**\n",
    "Logistic regression is a perfect lgorithm to use for for binary classification problems, for example, predict True/False, Won/Lost, etc.\n",
    "We can again use the confusion matrix or/and accuracy score to evaluate the model. \n",
    "\n",
    "* **Decision Trees**\n",
    "Decision trees are step-by-step rather than a continuous process algorithms. A decision tree consists of 3 types of nodes: Root Nodes, Decision Nodes, and Leaf Nodes. Each node in the tree acts as a test case for some attribute and each edge descending from that node corresponds to one of the possible answers to the test case. We can use confusion matrix, accuracy score or classification report to measure the model's performance.\n",
    "\n",
    "* **Support Vector Machine (SVM)**\n",
    "Support Vector Machine is a linear model for classification and regression problems. The algorithm creates a line or a hyperplane which separates the data into classes.\n",
    "\n",
    "* **Random Forest**\n",
    "The random forest model instead of searching for the most important features while splitting a node, it searches for the best feature among a random subset of features. This results in a better diversity. So as a result, it can produce a better performing model."
   ]
  },
  {
   "cell_type": "markdown",
   "metadata": {},
   "source": [
    "## 2. Do the same as question 1 except for unsupervised learning models. Something that is necessary for many models is determining number, so specify how you determine the number of clusters for example. Apply this concept to any other algorithms it is relevant for."
   ]
  },
  {
   "cell_type": "markdown",
   "metadata": {},
   "source": [
    "* **Hierarchical clustering**\n",
    "Hierarchical clustering is an algorithm which builds a hierarchy of clusters. It begins with all the data which is assigned to a cluster of their own. So two close cluster are going to be in the same cluster. This algorithm ends when there is only one cluster left. Then, we can identify the optimal number of clusters by counting vertical lines within the largest difference of heights in the dendrogram.\n",
    "\n",
    "* **K-means clustering**\n",
    "In this clustering method, we need to cluster the data points into k groups. Then we can build an elbow graph to determine the ideal number of clusters.  The “elbow”(the point of inflection on the curve) is the best value of k. You can use inertia and distortion methods to calculate the elbow.\n",
    "\n",
    "* **Optics Algorithm**\n",
    "It is an algorithm for finding density-based clusters in spatial data.\n",
    "\n",
    "\n",
    "Contrary to the supervised learning models, there's no real way to evaluate the unsupervised models. They are pretty subjective."
   ]
  },
  {
   "cell_type": "markdown",
   "metadata": {},
   "source": [
    "## 3. Preprocess the customer data https://www.kaggle.com/carrie1/ecommerce-data . How are you handling nulls? What process(es) are you using to encode and normalize the data?"
   ]
  },
  {
   "cell_type": "markdown",
   "metadata": {},
   "source": [
    "* For the nulls, I'm dropping the null values in the dataset.\n",
    "* I use the log normalization to normalize the \"Quantity\" column which has the highest variance.\n",
    "* I'm droping some columns which I won't be using:\"StockCode\", \"InvoiceDate\", \"Description\", and \"InvoiceNo\"."
   ]
  },
  {
   "cell_type": "code",
   "execution_count": 6,
   "metadata": {},
   "outputs": [
    {
     "data": {
      "text/html": [
       "<div>\n",
       "<style scoped>\n",
       "    .dataframe tbody tr th:only-of-type {\n",
       "        vertical-align: middle;\n",
       "    }\n",
       "\n",
       "    .dataframe tbody tr th {\n",
       "        vertical-align: top;\n",
       "    }\n",
       "\n",
       "    .dataframe thead th {\n",
       "        text-align: right;\n",
       "    }\n",
       "</style>\n",
       "<table border=\"1\" class=\"dataframe\">\n",
       "  <thead>\n",
       "    <tr style=\"text-align: right;\">\n",
       "      <th></th>\n",
       "      <th>InvoiceNo</th>\n",
       "      <th>StockCode</th>\n",
       "      <th>Description</th>\n",
       "      <th>Quantity</th>\n",
       "      <th>InvoiceDate</th>\n",
       "      <th>UnitPrice</th>\n",
       "      <th>CustomerID</th>\n",
       "      <th>Country</th>\n",
       "    </tr>\n",
       "  </thead>\n",
       "  <tbody>\n",
       "    <tr>\n",
       "      <th>0</th>\n",
       "      <td>536365</td>\n",
       "      <td>85123A</td>\n",
       "      <td>WHITE HANGING HEART T-LIGHT HOLDER</td>\n",
       "      <td>6</td>\n",
       "      <td>12/1/2010 8:26</td>\n",
       "      <td>2.55</td>\n",
       "      <td>17850.0</td>\n",
       "      <td>United Kingdom</td>\n",
       "    </tr>\n",
       "    <tr>\n",
       "      <th>1</th>\n",
       "      <td>536365</td>\n",
       "      <td>71053</td>\n",
       "      <td>WHITE METAL LANTERN</td>\n",
       "      <td>6</td>\n",
       "      <td>12/1/2010 8:26</td>\n",
       "      <td>3.39</td>\n",
       "      <td>17850.0</td>\n",
       "      <td>United Kingdom</td>\n",
       "    </tr>\n",
       "    <tr>\n",
       "      <th>2</th>\n",
       "      <td>536365</td>\n",
       "      <td>84406B</td>\n",
       "      <td>CREAM CUPID HEARTS COAT HANGER</td>\n",
       "      <td>8</td>\n",
       "      <td>12/1/2010 8:26</td>\n",
       "      <td>2.75</td>\n",
       "      <td>17850.0</td>\n",
       "      <td>United Kingdom</td>\n",
       "    </tr>\n",
       "    <tr>\n",
       "      <th>3</th>\n",
       "      <td>536365</td>\n",
       "      <td>84029G</td>\n",
       "      <td>KNITTED UNION FLAG HOT WATER BOTTLE</td>\n",
       "      <td>6</td>\n",
       "      <td>12/1/2010 8:26</td>\n",
       "      <td>3.39</td>\n",
       "      <td>17850.0</td>\n",
       "      <td>United Kingdom</td>\n",
       "    </tr>\n",
       "    <tr>\n",
       "      <th>4</th>\n",
       "      <td>536365</td>\n",
       "      <td>84029E</td>\n",
       "      <td>RED WOOLLY HOTTIE WHITE HEART.</td>\n",
       "      <td>6</td>\n",
       "      <td>12/1/2010 8:26</td>\n",
       "      <td>3.39</td>\n",
       "      <td>17850.0</td>\n",
       "      <td>United Kingdom</td>\n",
       "    </tr>\n",
       "  </tbody>\n",
       "</table>\n",
       "</div>"
      ],
      "text/plain": [
       "  InvoiceNo StockCode                          Description  Quantity  \\\n",
       "0    536365    85123A   WHITE HANGING HEART T-LIGHT HOLDER         6   \n",
       "1    536365     71053                  WHITE METAL LANTERN         6   \n",
       "2    536365    84406B       CREAM CUPID HEARTS COAT HANGER         8   \n",
       "3    536365    84029G  KNITTED UNION FLAG HOT WATER BOTTLE         6   \n",
       "4    536365    84029E       RED WOOLLY HOTTIE WHITE HEART.         6   \n",
       "\n",
       "      InvoiceDate  UnitPrice  CustomerID         Country  \n",
       "0  12/1/2010 8:26       2.55     17850.0  United Kingdom  \n",
       "1  12/1/2010 8:26       3.39     17850.0  United Kingdom  \n",
       "2  12/1/2010 8:26       2.75     17850.0  United Kingdom  \n",
       "3  12/1/2010 8:26       3.39     17850.0  United Kingdom  \n",
       "4  12/1/2010 8:26       3.39     17850.0  United Kingdom  "
      ]
     },
     "execution_count": 6,
     "metadata": {},
     "output_type": "execute_result"
    }
   ],
   "source": [
    "import pandas as pd\n",
    "import numpy as np\n",
    "import matplotlib.pyplot as plt\n",
    "\n",
    "import statistics as stats\n",
    "from scipy import stats\n",
    "\n",
    "#loading cast dataset\n",
    "customers_df = pd.read_csv('data.csv', encoding= 'unicode_escape')\n",
    "\n",
    "customers_df.head()"
   ]
  },
  {
   "cell_type": "markdown",
   "metadata": {},
   "source": [
    "### Exploring the data"
   ]
  },
  {
   "cell_type": "code",
   "execution_count": 7,
   "metadata": {},
   "outputs": [
    {
     "data": {
      "text/plain": [
       "United Kingdom          495478\n",
       "Germany                   9495\n",
       "France                    8557\n",
       "EIRE                      8196\n",
       "Spain                     2533\n",
       "Netherlands               2371\n",
       "Belgium                   2069\n",
       "Switzerland               2002\n",
       "Portugal                  1519\n",
       "Australia                 1259\n",
       "Norway                    1086\n",
       "Italy                      803\n",
       "Channel Islands            758\n",
       "Finland                    695\n",
       "Cyprus                     622\n",
       "Sweden                     462\n",
       "Unspecified                446\n",
       "Austria                    401\n",
       "Denmark                    389\n",
       "Japan                      358\n",
       "Poland                     341\n",
       "Israel                     297\n",
       "USA                        291\n",
       "Hong Kong                  288\n",
       "Singapore                  229\n",
       "Iceland                    182\n",
       "Canada                     151\n",
       "Greece                     146\n",
       "Malta                      127\n",
       "United Arab Emirates        68\n",
       "European Community          61\n",
       "RSA                         58\n",
       "Lebanon                     45\n",
       "Lithuania                   35\n",
       "Brazil                      32\n",
       "Czech Republic              30\n",
       "Bahrain                     19\n",
       "Saudi Arabia                10\n",
       "Name: Country, dtype: int64"
      ]
     },
     "execution_count": 7,
     "metadata": {},
     "output_type": "execute_result"
    }
   ],
   "source": [
    "customers_df['Country'].value_counts()"
   ]
  },
  {
   "cell_type": "code",
   "execution_count": 8,
   "metadata": {},
   "outputs": [
    {
     "data": {
      "text/plain": [
       "Country\n",
       "United Kingdom          3950\n",
       "Germany                   95\n",
       "France                    87\n",
       "Spain                     31\n",
       "Belgium                   25\n",
       "Switzerland               21\n",
       "Portugal                  19\n",
       "Italy                     15\n",
       "Finland                   12\n",
       "Austria                   11\n",
       "Norway                    10\n",
       "Channel Islands            9\n",
       "Netherlands                9\n",
       "Denmark                    9\n",
       "Australia                  9\n",
       "Cyprus                     8\n",
       "Sweden                     8\n",
       "Japan                      8\n",
       "Poland                     6\n",
       "Canada                     4\n",
       "Greece                     4\n",
       "Unspecified                4\n",
       "USA                        4\n",
       "Israel                     4\n",
       "EIRE                       3\n",
       "Malta                      2\n",
       "Bahrain                    2\n",
       "United Arab Emirates       2\n",
       "Iceland                    1\n",
       "Lebanon                    1\n",
       "Lithuania                  1\n",
       "European Community         1\n",
       "Czech Republic             1\n",
       "RSA                        1\n",
       "Saudi Arabia               1\n",
       "Singapore                  1\n",
       "Brazil                     1\n",
       "Hong Kong                  0\n",
       "Name: CustomerID, dtype: int64"
      ]
     },
     "execution_count": 8,
     "metadata": {},
     "output_type": "execute_result"
    }
   ],
   "source": [
    "groupedSegment = customers_df.groupby(\"Country\")\n",
    "groupedSegment['CustomerID'].nunique().sort_values(ascending=False)"
   ]
  },
  {
   "cell_type": "code",
   "execution_count": 9,
   "metadata": {},
   "outputs": [],
   "source": [
    "#customer_df[customer_df['Country']!='United Kingdom']['CustomerID'].nunique()"
   ]
  },
  {
   "cell_type": "code",
   "execution_count": 10,
   "metadata": {},
   "outputs": [],
   "source": [
    "#adding a new column that calculates the total amount of money each customer spent\n",
    "customers_df[\"total cost\"] = customers_df[\"UnitPrice\"] * customers_df[\"Quantity\"]"
   ]
  },
  {
   "cell_type": "code",
   "execution_count": 11,
   "metadata": {},
   "outputs": [
    {
     "data": {
      "text/plain": [
       "Country\n",
       "Australia               1.370773e+05\n",
       "Austria                 1.015432e+04\n",
       "Bahrain                 5.484000e+02\n",
       "Belgium                 4.091096e+04\n",
       "Brazil                  1.143600e+03\n",
       "Canada                  3.666380e+03\n",
       "Channel Islands         2.008629e+04\n",
       "Cyprus                  1.294629e+04\n",
       "Czech Republic          7.077200e+02\n",
       "Denmark                 1.876814e+04\n",
       "EIRE                    2.632768e+05\n",
       "European Community      1.291750e+03\n",
       "Finland                 2.232674e+04\n",
       "France                  1.974039e+05\n",
       "Germany                 2.216982e+05\n",
       "Greece                  4.710520e+03\n",
       "Hong Kong               1.011704e+04\n",
       "Iceland                 4.310000e+03\n",
       "Israel                  7.907820e+03\n",
       "Italy                   1.689051e+04\n",
       "Japan                   3.534062e+04\n",
       "Lebanon                 1.693880e+03\n",
       "Lithuania               1.661060e+03\n",
       "Malta                   2.505470e+03\n",
       "Netherlands             2.846615e+05\n",
       "Norway                  3.516346e+04\n",
       "Poland                  7.213140e+03\n",
       "Portugal                2.936702e+04\n",
       "RSA                     1.002310e+03\n",
       "Saudi Arabia            1.311700e+02\n",
       "Singapore               9.120390e+03\n",
       "Spain                   5.477458e+04\n",
       "Sweden                  3.659591e+04\n",
       "Switzerland             5.638535e+04\n",
       "USA                     1.730920e+03\n",
       "United Arab Emirates    1.902280e+03\n",
       "United Kingdom          8.187806e+06\n",
       "Unspecified             4.749790e+03\n",
       "Name: total cost, dtype: float64"
      ]
     },
     "execution_count": 11,
     "metadata": {},
     "output_type": "execute_result"
    }
   ],
   "source": [
    "#which country purchases most -- United Kingdom\n",
    "groupedSegment[\"total cost\"].sum()"
   ]
  },
  {
   "cell_type": "markdown",
   "metadata": {},
   "source": [
    "### Preprocessing"
   ]
  },
  {
   "cell_type": "code",
   "execution_count": 12,
   "metadata": {},
   "outputs": [],
   "source": [
    "#dropping columns we won't use\n",
    "edited_df = customers_df.drop([\"StockCode\", \"InvoiceDate\", \"Description\", \"InvoiceNo\"], axis=1)"
   ]
  },
  {
   "cell_type": "code",
   "execution_count": 13,
   "metadata": {},
   "outputs": [],
   "source": [
    "#dropping the NaN values within the data we selected\n",
    "clean = edited_df.dropna()"
   ]
  },
  {
   "cell_type": "code",
   "execution_count": 14,
   "metadata": {},
   "outputs": [
    {
     "data": {
      "text/plain": [
       "Quantity      6.184839e+04\n",
       "UnitPrice     4.804592e+03\n",
       "CustomerID    2.936426e+06\n",
       "total cost    1.828347e+05\n",
       "dtype: float64"
      ]
     },
     "execution_count": 14,
     "metadata": {},
     "output_type": "execute_result"
    }
   ],
   "source": [
    "#checking the variance\n",
    "#Quantity has the highest variance, so we can normalize it to bring it closer to the other columns variance\n",
    "clean.var()"
   ]
  },
  {
   "cell_type": "code",
   "execution_count": 15,
   "metadata": {},
   "outputs": [
    {
     "name": "stderr",
     "output_type": "stream",
     "text": [
      "/Users/olesiamukha/opt/anaconda3/lib/python3.8/site-packages/pandas/core/series.py:726: RuntimeWarning: invalid value encountered in log\n",
      "  result = getattr(ufunc, method)(*inputs, **kwargs)\n",
      "<ipython-input-15-abe69118a542>:2: SettingWithCopyWarning: \n",
      "A value is trying to be set on a copy of a slice from a DataFrame.\n",
      "Try using .loc[row_indexer,col_indexer] = value instead\n",
      "\n",
      "See the caveats in the documentation: https://pandas.pydata.org/pandas-docs/stable/user_guide/indexing.html#returning-a-view-versus-a-copy\n",
      "  clean[\"quantity_norm\"] = np.log(clean['Quantity'])\n"
     ]
    }
   ],
   "source": [
    "#normalizing the quantity column and creating a new column with the normalized values\n",
    "clean[\"quantity_norm\"] = np.log(clean['Quantity'])"
   ]
  },
  {
   "cell_type": "code",
   "execution_count": 16,
   "metadata": {},
   "outputs": [],
   "source": [
    "#dropping the original not normalized column\n",
    "normalized_df=clean.drop([\"Quantity\"], axis = 1)\n",
    "normalized=normalized_df.dropna()"
   ]
  },
  {
   "cell_type": "markdown",
   "metadata": {},
   "source": [
    "## 4. Perform k-means on this dataset for customer segments. Customer segments help determine what types of people buy your product, which allows you to target more people like your usual customers. Should you look at all the data, or which subset of data should you use? What is the ideal number of clusters? Which approach did you use to find the ideal number of clusters and why?"
   ]
  },
  {
   "cell_type": "code",
   "execution_count": 17,
   "metadata": {},
   "outputs": [
    {
     "data": {
      "text/html": [
       "<div>\n",
       "<style scoped>\n",
       "    .dataframe tbody tr th:only-of-type {\n",
       "        vertical-align: middle;\n",
       "    }\n",
       "\n",
       "    .dataframe tbody tr th {\n",
       "        vertical-align: top;\n",
       "    }\n",
       "\n",
       "    .dataframe thead th {\n",
       "        text-align: right;\n",
       "    }\n",
       "</style>\n",
       "<table border=\"1\" class=\"dataframe\">\n",
       "  <thead>\n",
       "    <tr style=\"text-align: right;\">\n",
       "      <th></th>\n",
       "      <th>UnitPrice</th>\n",
       "      <th>CustomerID</th>\n",
       "      <th>Country</th>\n",
       "      <th>total cost</th>\n",
       "      <th>quantity_norm</th>\n",
       "    </tr>\n",
       "  </thead>\n",
       "  <tbody>\n",
       "    <tr>\n",
       "      <th>0</th>\n",
       "      <td>2.55</td>\n",
       "      <td>17850.0</td>\n",
       "      <td>United Kingdom</td>\n",
       "      <td>15.30</td>\n",
       "      <td>1.791759</td>\n",
       "    </tr>\n",
       "    <tr>\n",
       "      <th>1</th>\n",
       "      <td>3.39</td>\n",
       "      <td>17850.0</td>\n",
       "      <td>United Kingdom</td>\n",
       "      <td>20.34</td>\n",
       "      <td>1.791759</td>\n",
       "    </tr>\n",
       "    <tr>\n",
       "      <th>2</th>\n",
       "      <td>2.75</td>\n",
       "      <td>17850.0</td>\n",
       "      <td>United Kingdom</td>\n",
       "      <td>22.00</td>\n",
       "      <td>2.079442</td>\n",
       "    </tr>\n",
       "    <tr>\n",
       "      <th>3</th>\n",
       "      <td>3.39</td>\n",
       "      <td>17850.0</td>\n",
       "      <td>United Kingdom</td>\n",
       "      <td>20.34</td>\n",
       "      <td>1.791759</td>\n",
       "    </tr>\n",
       "    <tr>\n",
       "      <th>4</th>\n",
       "      <td>3.39</td>\n",
       "      <td>17850.0</td>\n",
       "      <td>United Kingdom</td>\n",
       "      <td>20.34</td>\n",
       "      <td>1.791759</td>\n",
       "    </tr>\n",
       "  </tbody>\n",
       "</table>\n",
       "</div>"
      ],
      "text/plain": [
       "   UnitPrice  CustomerID         Country  total cost  quantity_norm\n",
       "0       2.55     17850.0  United Kingdom       15.30       1.791759\n",
       "1       3.39     17850.0  United Kingdom       20.34       1.791759\n",
       "2       2.75     17850.0  United Kingdom       22.00       2.079442\n",
       "3       3.39     17850.0  United Kingdom       20.34       1.791759\n",
       "4       3.39     17850.0  United Kingdom       20.34       1.791759"
      ]
     },
     "execution_count": 17,
     "metadata": {},
     "output_type": "execute_result"
    }
   ],
   "source": [
    "normalized.head()"
   ]
  },
  {
   "cell_type": "code",
   "execution_count": 18,
   "metadata": {},
   "outputs": [],
   "source": [
    "from sklearn.cluster import KMeans\n",
    "from scipy.spatial.distance import cdist\n",
    "X = normalized.drop('Country',axis=1)\n",
    "y = normalized['Country']"
   ]
  },
  {
   "cell_type": "code",
   "execution_count": 19,
   "metadata": {},
   "outputs": [],
   "source": [
    "inertias = []\n",
    "distortions = []\n",
    "for k in range(1,10):\n",
    "    #build and fit the model\n",
    "    model = KMeans(n_clusters=k).fit(X)\n",
    "    \n",
    "    #average of squared distance from cluster center to the data points\n",
    "    distortion = sum(np.min(cdist(X, model.cluster_centers_,\n",
    "                                  'euclidean'),axis =1))/X.shape[0]\n",
    "    \n",
    "    distortions.append(distortion)\n",
    "    \n",
    "    inertia = model.inertia_\n",
    "    inertias.append(inertia)"
   ]
  },
  {
   "cell_type": "code",
   "execution_count": 20,
   "metadata": {},
   "outputs": [
    {
     "data": {
      "text/plain": [
       "Text(0.5, 1.0, 'Elbow Method with Distortion')"
      ]
     },
     "execution_count": 20,
     "metadata": {},
     "output_type": "execute_result"
    },
    {
     "data": {
      "image/png": "[encoded data removed]",
      "text/plain": [
       "<Figure size 432x288 with 1 Axes>"
      ]
     },
     "metadata": {
      "needs_background": "light"
     },
     "output_type": "display_data"
    }
   ],
   "source": [
    "plt.plot(range(1,10),distortions)\n",
    "plt.title('Elbow Method with Distortion')"
   ]
  },
  {
   "cell_type": "code",
   "execution_count": 21,
   "metadata": {},
   "outputs": [
    {
     "data": {
      "text/plain": [
       "Text(0.5, 1.0, 'Elbow Method with Inertia')"
      ]
     },
     "execution_count": 21,
     "metadata": {},
     "output_type": "execute_result"
    },
    {
     "data": {
      "image/png": "[encoded data removed]",
      "text/plain": [
       "<Figure size 432x288 with 1 Axes>"
      ]
     },
     "metadata": {
      "needs_background": "light"
     },
     "output_type": "display_data"
    }
   ],
   "source": [
    "plt.plot(range(1,10),inertias)\n",
    "plt.title('Elbow Method with Inertia')"
   ]
  },
  {
   "cell_type": "code",
   "execution_count": 22,
   "metadata": {},
   "outputs": [
    {
     "name": "stdout",
     "output_type": "stream",
     "text": [
      "[0 0 0 ... 1 1 1]\n"
     ]
    }
   ],
   "source": [
    "#training model\n",
    "kmeans = KMeans(n_clusters = 3, init = 'k-means++')\n",
    "y_kmeans = kmeans.fit_predict(X)\n",
    "\n",
    "print(y_kmeans)"
   ]
  },
  {
   "cell_type": "markdown",
   "metadata": {},
   "source": [
    "We can only look at quantity, unit price, customer id and total cost columns of this data set. Total cost column calculates the total amount of money each customer spent on a product(UnitPrice*Quantity).\n",
    "\n",
    "To calculate the ideal nimber of clusters we used the elbow method. It finds the best value of k. it picks up the range of values and takes the best among them. It calculates the sum of the square of the points and calculates the average distance. \n",
    "\n",
    "The ideal number of clusters in this case, seems to be 3, based on the elbow graphs."
   ]
  },
  {
   "cell_type": "markdown",
   "metadata": {},
   "source": [
    "## 5. Perform hierarchical clustering for customer segments. What is the ideal number of clusters? Which approach did you use to find the ideal number of clusters and why?"
   ]
  },
  {
   "cell_type": "code",
   "execution_count": 26,
   "metadata": {},
   "outputs": [
    {
     "data": {
      "text/html": [
       "<div>\n",
       "<style scoped>\n",
       "    .dataframe tbody tr th:only-of-type {\n",
       "        vertical-align: middle;\n",
       "    }\n",
       "\n",
       "    .dataframe tbody tr th {\n",
       "        vertical-align: top;\n",
       "    }\n",
       "\n",
       "    .dataframe thead th {\n",
       "        text-align: right;\n",
       "    }\n",
       "</style>\n",
       "<table border=\"1\" class=\"dataframe\">\n",
       "  <thead>\n",
       "    <tr style=\"text-align: right;\">\n",
       "      <th></th>\n",
       "      <th>Quantity</th>\n",
       "      <th>UnitPrice</th>\n",
       "      <th>CustomerID</th>\n",
       "      <th>Country</th>\n",
       "      <th>total cost</th>\n",
       "      <th>quantity_norm</th>\n",
       "    </tr>\n",
       "  </thead>\n",
       "  <tbody>\n",
       "    <tr>\n",
       "      <th>182386</th>\n",
       "      <td>48</td>\n",
       "      <td>0.55</td>\n",
       "      <td>12399.0</td>\n",
       "      <td>Belgium</td>\n",
       "      <td>26.40</td>\n",
       "      <td>3.871201</td>\n",
       "    </tr>\n",
       "    <tr>\n",
       "      <th>364057</th>\n",
       "      <td>10</td>\n",
       "      <td>1.65</td>\n",
       "      <td>12656.0</td>\n",
       "      <td>France</td>\n",
       "      <td>16.50</td>\n",
       "      <td>2.302585</td>\n",
       "    </tr>\n",
       "    <tr>\n",
       "      <th>417713</th>\n",
       "      <td>1</td>\n",
       "      <td>1.95</td>\n",
       "      <td>16549.0</td>\n",
       "      <td>United Kingdom</td>\n",
       "      <td>1.95</td>\n",
       "      <td>0.000000</td>\n",
       "    </tr>\n",
       "    <tr>\n",
       "      <th>492182</th>\n",
       "      <td>1</td>\n",
       "      <td>5.95</td>\n",
       "      <td>16261.0</td>\n",
       "      <td>United Kingdom</td>\n",
       "      <td>5.95</td>\n",
       "      <td>0.000000</td>\n",
       "    </tr>\n",
       "    <tr>\n",
       "      <th>110473</th>\n",
       "      <td>2</td>\n",
       "      <td>7.95</td>\n",
       "      <td>16033.0</td>\n",
       "      <td>United Kingdom</td>\n",
       "      <td>15.90</td>\n",
       "      <td>0.693147</td>\n",
       "    </tr>\n",
       "    <tr>\n",
       "      <th>...</th>\n",
       "      <td>...</td>\n",
       "      <td>...</td>\n",
       "      <td>...</td>\n",
       "      <td>...</td>\n",
       "      <td>...</td>\n",
       "      <td>...</td>\n",
       "    </tr>\n",
       "    <tr>\n",
       "      <th>286594</th>\n",
       "      <td>1</td>\n",
       "      <td>7.95</td>\n",
       "      <td>16984.0</td>\n",
       "      <td>United Kingdom</td>\n",
       "      <td>7.95</td>\n",
       "      <td>0.000000</td>\n",
       "    </tr>\n",
       "    <tr>\n",
       "      <th>350764</th>\n",
       "      <td>1</td>\n",
       "      <td>5.79</td>\n",
       "      <td>14096.0</td>\n",
       "      <td>United Kingdom</td>\n",
       "      <td>5.79</td>\n",
       "      <td>0.000000</td>\n",
       "    </tr>\n",
       "    <tr>\n",
       "      <th>468516</th>\n",
       "      <td>4</td>\n",
       "      <td>1.25</td>\n",
       "      <td>17777.0</td>\n",
       "      <td>United Kingdom</td>\n",
       "      <td>5.00</td>\n",
       "      <td>1.386294</td>\n",
       "    </tr>\n",
       "    <tr>\n",
       "      <th>250342</th>\n",
       "      <td>3</td>\n",
       "      <td>2.08</td>\n",
       "      <td>14034.0</td>\n",
       "      <td>United Kingdom</td>\n",
       "      <td>6.24</td>\n",
       "      <td>1.098612</td>\n",
       "    </tr>\n",
       "    <tr>\n",
       "      <th>196140</th>\n",
       "      <td>24</td>\n",
       "      <td>1.25</td>\n",
       "      <td>17865.0</td>\n",
       "      <td>United Kingdom</td>\n",
       "      <td>30.00</td>\n",
       "      <td>3.178054</td>\n",
       "    </tr>\n",
       "  </tbody>\n",
       "</table>\n",
       "<p>2000 rows × 6 columns</p>\n",
       "</div>"
      ],
      "text/plain": [
       "        Quantity  UnitPrice  CustomerID         Country  total cost  \\\n",
       "182386        48       0.55     12399.0         Belgium       26.40   \n",
       "364057        10       1.65     12656.0          France       16.50   \n",
       "417713         1       1.95     16549.0  United Kingdom        1.95   \n",
       "492182         1       5.95     16261.0  United Kingdom        5.95   \n",
       "110473         2       7.95     16033.0  United Kingdom       15.90   \n",
       "...          ...        ...         ...             ...         ...   \n",
       "286594         1       7.95     16984.0  United Kingdom        7.95   \n",
       "350764         1       5.79     14096.0  United Kingdom        5.79   \n",
       "468516         4       1.25     17777.0  United Kingdom        5.00   \n",
       "250342         3       2.08     14034.0  United Kingdom        6.24   \n",
       "196140        24       1.25     17865.0  United Kingdom       30.00   \n",
       "\n",
       "        quantity_norm  \n",
       "182386       3.871201  \n",
       "364057       2.302585  \n",
       "417713       0.000000  \n",
       "492182       0.000000  \n",
       "110473       0.693147  \n",
       "...               ...  \n",
       "286594       0.000000  \n",
       "350764       0.000000  \n",
       "468516       1.386294  \n",
       "250342       1.098612  \n",
       "196140       3.178054  \n",
       "\n",
       "[2000 rows x 6 columns]"
      ]
     },
     "execution_count": 26,
     "metadata": {},
     "output_type": "execute_result"
    }
   ],
   "source": [
    "#using bootstrap resampling to select a smaller sample of data, since\n",
    "#my computer cannot process the whole dataset for this model\n",
    "from sklearn.utils import resample\n",
    "boot = resample(clean, replace=True, n_samples=2000, random_state=1)\n",
    "boot"
   ]
  },
  {
   "cell_type": "code",
   "execution_count": 42,
   "metadata": {},
   "outputs": [],
   "source": [
    "#dropping na from the bootstraped dataset\n",
    "clean_df=boot.dropna()"
   ]
  },
  {
   "cell_type": "code",
   "execution_count": 43,
   "metadata": {},
   "outputs": [],
   "source": [
    "X = clean_df.drop('Country',axis=1)\n",
    "y = clean_df['Country']"
   ]
  },
  {
   "cell_type": "code",
   "execution_count": 36,
   "metadata": {},
   "outputs": [
    {
     "data": {
      "image/png": "[encoded data removed]",
      "text/plain": [
       "<Figure size 720x504 with 1 Axes>"
      ]
     },
     "metadata": {
      "needs_background": "light"
     },
     "output_type": "display_data"
    }
   ],
   "source": [
    "from scipy.cluster.hierarchy import dendrogram, linkage\n",
    "\n",
    "linked = linkage(X,'ward')\n",
    "plt.figure(figsize=(10,7))\n",
    "\n",
    "dendro = dendrogram(linked, labels=list(y))\n",
    "plt.show()"
   ]
  },
  {
   "cell_type": "code",
   "execution_count": 44,
   "metadata": {},
   "outputs": [
    {
     "data": {
      "text/plain": [
       "array([2, 2, 1, ..., 3, 0, 3])"
      ]
     },
     "execution_count": 44,
     "metadata": {},
     "output_type": "execute_result"
    }
   ],
   "source": [
    "from sklearn.cluster import AgglomerativeClustering\n",
    "cluster = AgglomerativeClustering(n_clusters=4, affinity='euclidean',linkage='ward')\n",
    "cluster.fit_predict(X)"
   ]
  },
  {
   "cell_type": "code",
   "execution_count": 45,
   "metadata": {},
   "outputs": [
    {
     "data": {
      "text/plain": [
       "array([2, 2, 1, ..., 3, 0, 3])"
      ]
     },
     "execution_count": 45,
     "metadata": {},
     "output_type": "execute_result"
    }
   ],
   "source": [
    "cluster.labels_"
   ]
  },
  {
   "cell_type": "markdown",
   "metadata": {},
   "source": [
    "Based on this, the optimal number of clusters would be 2. We used the dendrogram approach to find the number of clusters which identifies the hierarchical relationship between objects. To identify the optimal number of clusters I count how many vertical lines I see within the largest difference of heights in the dendrogram."
   ]
  },
  {
   "cell_type": "markdown",
   "metadata": {},
   "source": [
    "## 6. Compare the results of 4 and 5. Which approach do you think is best? Why? "
   ]
  },
  {
   "cell_type": "markdown",
   "metadata": {},
   "source": [
    "For the K-Means method I got 3 clusters as the ideal number and for the hierarchical model, I got 2 clusters as the optimal amount of clusters."
   ]
  },
  {
   "cell_type": "markdown",
   "metadata": {},
   "source": [
    "I think the K-means method is better because it allowed me to use the full dataset. I think that having more data to look at can produce a more accurate model. For the hierarchical clustering i had to bootstrap my dataset and select a smaller data sample to actually run the model."
   ]
  },
  {
   "cell_type": "code",
   "execution_count": null,
   "metadata": {},
   "outputs": [],
   "source": []
  }
 ],
 "metadata": {
  "kernelspec": {
   "display_name": "Python 3",
   "language": "python",
   "name": "python3"
  },
  "language_info": {
   "codemirror_mode": {
    "name": "ipython",
    "version": 3
   },
   "file_extension": ".py",
   "mimetype": "text/x-python",
   "name": "python",
   "nbconvert_exporter": "python",
   "pygments_lexer": "ipython3",
   "version": "3.8.5"
  }
 },
 "nbformat": 4,
 "nbformat_minor": 4
}
